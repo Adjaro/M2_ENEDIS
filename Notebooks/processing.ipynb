{
 "cells": [
  {
   "cell_type": "code",
   "execution_count": null,
   "metadata": {},
   "outputs": [],
   "source": [
    "import pandas as pd\n",
    "\n",
    "\n",
    "adress = pd.read_csv(\"D:\\\\M2 SISE\\\\Python Machine Learning\\\\Projet\\\\Performance_Energetique\\\\Data\\\\adresses-69.csv\", sep=\";\")\n",
    "adress.info()"
   ]
  },
  {
   "cell_type": "code",
   "execution_count": null,
   "metadata": {},
   "outputs": [],
   "source": [
    "adress.head()"
   ]
  },
  {
   "cell_type": "code",
   "execution_count": null,
   "metadata": {},
   "outputs": [],
   "source": [
    "adress.isna().sum().sort_values(ascending=False).head(100)"
   ]
  },
  {
   "cell_type": "code",
   "execution_count": null,
   "metadata": {},
   "outputs": [],
   "source": [
    "dpe_existant = pd.read_csv(\"D:\\\\M2 SISE\\\\Python Machine Learning\\\\Projet\\\\Performance_Energetique\\\\Data\\\\dpe-v2-logements-existants.csv\", sep=\",\")\n",
    "dpe_existant.head()"
   ]
  },
  {
   "cell_type": "code",
   "execution_count": null,
   "metadata": {},
   "outputs": [],
   "source": [
    "dpe_neuf = pd.read_csv(\"D:\\\\M2 SISE\\\\Python Machine Learning\\\\Projet\\\\Performance_Energetique\\\\Data\\\\dpe-v2-logements-neufs.csv\", sep=\",\")\n",
    "dpe_neuf.info()"
   ]
  },
  {
   "cell_type": "code",
   "execution_count": null,
   "metadata": {},
   "outputs": [],
   "source": [
    "dpe_neuf.head()"
   ]
  },
  {
   "cell_type": "code",
   "execution_count": null,
   "metadata": {},
   "outputs": [],
   "source": [
    "dpe_existant.shape"
   ]
  },
  {
   "cell_type": "code",
   "execution_count": null,
   "metadata": {},
   "outputs": [],
   "source": [
    "dpe_existant.isna().sum().sort_values(ascending=False).head(100)"
   ]
  },
  {
   "cell_type": "code",
   "execution_count": null,
   "metadata": {},
   "outputs": [],
   "source": [
    "dpe_neuf.shape"
   ]
  },
  {
   "cell_type": "code",
   "execution_count": null,
   "metadata": {},
   "outputs": [],
   "source": [
    "dpe_neuf.isna().sum().sort_values(ascending=False).head(100)"
   ]
  },
  {
   "cell_type": "code",
   "execution_count": 24,
   "metadata": {},
   "outputs": [],
   "source": [
    "dpe_neuf_no_empty_columns = dpe_neuf.dropna(axis=1, how='all')\n",
    "dpe_existant_no_empty_columns = dpe_existant.dropna(axis=1, how='all')"
   ]
  },
  {
   "cell_type": "code",
   "execution_count": 25,
   "metadata": {},
   "outputs": [],
   "source": [
    "dpe_existant[\"Logement\"] = \"ancien\"\n",
    "dpe_neuf[\"Logement\"] = \"neuf\""
   ]
  },
  {
   "cell_type": "code",
   "execution_count": 26,
   "metadata": {},
   "outputs": [],
   "source": [
    "dpe_neuf[\"Année_construction\"] = 2024"
   ]
  },
  {
   "cell_type": "code",
   "execution_count": 27,
   "metadata": {},
   "outputs": [],
   "source": [
    "common_columns = dpe_existant.columns.intersection(dpe_neuf.columns)\n",
    "common_columns = common_columns.to_list()"
   ]
  },
  {
   "cell_type": "code",
   "execution_count": null,
   "metadata": {},
   "outputs": [],
   "source": [
    "df_concat = pd.concat([dpe_existant, dpe_neuf], join='inner', ignore_index=True)\n",
    "df_concat"
   ]
  },
  {
   "cell_type": "code",
   "execution_count": null,
   "metadata": {},
   "outputs": [],
   "source": [
    "df_concat[\"Annee_reception_DPE\"] = pd.to_datetime(df_concat['Date_réception_DPE']).dt.year\n",
    "df_concat[\"Annee_reception_DPE\"].head(10)"
   ]
  },
  {
   "cell_type": "code",
   "execution_count": null,
   "metadata": {},
   "outputs": [],
   "source": [
    "df_concat['Somme_coûts'] = df_concat['Coût_chauffage'] + df_concat['Coût_éclairage'] + df_concat['Coût_ECS'] + df_concat['Coût_refroidissement'] + df_concat['Coût_auxiliaires']\n",
    "\n",
    "# Créer une colonne pour vérifier si le coût total correspond à la somme\n",
    "df_concat['Vérification_coût_total'] = df_concat['Coût_total_5_usages'] == df_concat['Somme_coûts']"
   ]
  },
  {
   "cell_type": "code",
   "execution_count": null,
   "metadata": {},
   "outputs": [],
   "source": [
    "df_concat['Vérification_coût_total']"
   ]
  },
  {
   "cell_type": "code",
   "execution_count": null,
   "metadata": {},
   "outputs": [],
   "source": [
    "df_concat[\"Coût chauffage en %\"] = (df_concat['Coût_chauffage']/df_concat['Coût_total_5_usages'])*100\n",
    "df_concat[\"Coût chauffage en %\"]"
   ]
  },
  {
   "cell_type": "code",
   "execution_count": 33,
   "metadata": {},
   "outputs": [],
   "source": [
    "def periode_contruct(annee):\n",
    "    if annee <= 1960:\n",
    "        return \"Avant 1960\"\n",
    "    if annee >= 1961 and annee <= 1970:\n",
    "        return \"1961 - 1970\"\n",
    "    if annee >= 1971 and annee <= 1970:\n",
    "        return \"1971 - 1980\"\n",
    "    if annee >= 1981 and annee <= 1990:\n",
    "        return \"1981 - 1990\"\n",
    "    if annee >= 1991 and annee <= 2000:\n",
    "        return \"1991 - 2000\"\n",
    "    if annee >= 2000 and annee <= 2010:\n",
    "        return \"2001 - 2010\"\n",
    "    if annee > 2010:\n",
    "        return \"Après 2010\""
   ]
  },
  {
   "cell_type": "code",
   "execution_count": null,
   "metadata": {},
   "outputs": [],
   "source": [
    "df_concat[\"Periode_construction\"] = df_concat[\"Année_construction\"].apply(periode_contruct)"
   ]
  },
  {
   "cell_type": "code",
   "execution_count": null,
   "metadata": {},
   "outputs": [],
   "source": [
    "df_concat[\"Année_construction\"]"
   ]
  },
  {
   "cell_type": "markdown",
   "metadata": {},
   "source": [
    "# Statistiques\n"
   ]
  },
  {
   "cell_type": "code",
   "execution_count": null,
   "metadata": {},
   "outputs": [],
   "source": [
    " df_concat['Etiquette_DPE'].value_counts()"
   ]
  },
  {
   "cell_type": "code",
   "execution_count": null,
   "metadata": {},
   "outputs": [],
   "source": [
    " df_concat['Date_réception_DPE'].value_counts()"
   ]
  },
  {
   "cell_type": "code",
   "execution_count": null,
   "metadata": {},
   "outputs": [],
   "source": [
    " df_concat['Logement'].value_counts()"
   ]
  },
  {
   "cell_type": "code",
   "execution_count": null,
   "metadata": {},
   "outputs": [],
   "source": [
    "\n",
    "df_concat['Type_bâtiment'].value_counts()"
   ]
  },
  {
   "cell_type": "code",
   "execution_count": null,
   "metadata": {},
   "outputs": [],
   "source": [
    "\n",
    "df_concat['Type_installation_chauffage'].value_counts()"
   ]
  },
  {
   "cell_type": "code",
   "execution_count": null,
   "metadata": {},
   "outputs": [],
   "source": [
    "df_concat['Surface_habitable_logement'].mean()"
   ]
  },
  {
   "cell_type": "code",
   "execution_count": null,
   "metadata": {},
   "outputs": [],
   "source": [
    "df_concat['Coût_chauffage'].mean()"
   ]
  },
  {
   "cell_type": "code",
   "execution_count": null,
   "metadata": {},
   "outputs": [],
   "source": [
    "df_concat[\"Coût_ECS\"].quantile([.1, .25, .5, .75])"
   ]
  },
  {
   "cell_type": "code",
   "execution_count": null,
   "metadata": {},
   "outputs": [],
   "source": [
    "df_concat[[\"Surface_habitable_logement\", \"Coût_chauffage\"]].corr()"
   ]
  },
  {
   "cell_type": "code",
   "execution_count": null,
   "metadata": {},
   "outputs": [],
   "source": [
    "df_concat[[\"Coût_total_5_usages\",\"Coût_chauffage\",\"Coût_éclairage\",\"Coût_ECS\",\"Coût_refroidissement\", \"Coût_auxiliaires\", \"Surface_habitable_logement\" , \"Emission_GES_5_usages\"]].corr()"
   ]
  },
  {
   "cell_type": "code",
   "execution_count": null,
   "metadata": {},
   "outputs": [],
   "source": [
    "df_appart = df_concat[df_concat[\"Type_bâtiment\"] == \"appartement\"]\n",
    "df_appart"
   ]
  },
  {
   "cell_type": "markdown",
   "metadata": {},
   "source": [
    "# Bases ML"
   ]
  },
  {
   "cell_type": "code",
   "execution_count": 47,
   "metadata": {},
   "outputs": [],
   "source": [
    "df = df_concat"
   ]
  },
  {
   "cell_type": "code",
   "execution_count": null,
   "metadata": {},
   "outputs": [],
   "source": [
    "df['Etiquette_DPE'].value_counts(normalize=True)"
   ]
  },
  {
   "cell_type": "code",
   "execution_count": null,
   "metadata": {},
   "outputs": [],
   "source": [
    "df[\"passoire_energetique\"] = df[\"Etiquette_DPE\"].isin([\"F\", \"G\"])"
   ]
  },
  {
   "cell_type": "code",
   "execution_count": null,
   "metadata": {},
   "outputs": [],
   "source": [
    "df[\"passoire_energetique\"].value_counts(normalize=True)"
   ]
  },
  {
   "cell_type": "code",
   "execution_count": 51,
   "metadata": {},
   "outputs": [],
   "source": [
    "# Vérification des données manquantes\n",
    "ls_variables_explicatives = ['Année_construction','Surface_habitable_logement','Coût_total_5_usages','Coût_ECS','Coût_chauffage','Coût_éclairage','Coût_auxiliaires','Coût_refroidissement','Type_énergie_n°1']"
   ]
  },
  {
   "cell_type": "code",
   "execution_count": null,
   "metadata": {},
   "outputs": [],
   "source": [
    "df[ls_variables_explicatives].isnull().sum()"
   ]
  },
  {
   "cell_type": "code",
   "execution_count": 53,
   "metadata": {},
   "outputs": [],
   "source": [
    "variables_continues = ['Année_construction','Surface_habitable_logement','Coût_total_5_usages','Coût_ECS','Coût_chauffage','Coût_éclairage','Coût_auxiliaires','Coût_refroidissement']\n",
    "\n",
    "for col in variables_continues:\n",
    "    df[col].fillna(df[col].mean(), inplace=True)"
   ]
  },
  {
   "cell_type": "code",
   "execution_count": null,
   "metadata": {},
   "outputs": [],
   "source": [
    "import matplotlib.pyplot as plt \n",
    "import seaborn as sns\n",
    "\n",
    "sub_df = df[df['Surface_habitable_logement']<500]\n",
    "plt.figure(figsize=(8, 6))\n",
    "sns.histplot(sub_df['Surface_habitable_logement'], bins=30, kde=True)\n",
    "plt.title('Distribution de la Surface habitable')\n",
    "plt.xlabel('Surface (m²)')\n",
    "plt.ylabel('Fréquence')\n",
    "plt.show()"
   ]
  },
  {
   "cell_type": "code",
   "execution_count": null,
   "metadata": {},
   "outputs": [],
   "source": [
    "# Calcul de la matrice de corrélation\n",
    "corr_matrix = df[variables_continues].corr()\n",
    "\n",
    "# Affichage de la matrice de corrélation sous forme de heatmap\n",
    "plt.figure(figsize=(12, 8))\n",
    "sns.heatmap(corr_matrix, annot=True, cmap='coolwarm', linewidths=0.5)\n",
    "plt.title('Matrice de Corrélation')\n",
    "plt.show()"
   ]
  },
  {
   "cell_type": "code",
   "execution_count": null,
   "metadata": {},
   "outputs": [],
   "source": [
    "\n",
    "# Boxplot de chaque variable explicative par rapport à la passoire énergétique\n",
    "for col in variables_continues:\n",
    "    plt.figure(figsize=(8, 6))\n",
    "    \n",
    "    # Tracer le boxplot sans les outliers\n",
    "    sns.boxplot(x='passoire_energetique', y=col, data=df, showfliers=False)\n",
    "    \n",
    "    # Automatiser le titre avec le nom de la colonne\n",
    "    plt.title(f'Boxplot de {col} en Fonction de la Passoire Énergétique')\n",
    "    \n",
    "    plt.xlabel('Passoire Énergétique (True = F/G, False = A à E)')\n",
    "    plt.ylabel(f'{col}')  # Automatiser l'étiquette de l'axe y avec le nom de la colonne\n",
    "    plt.show()\n"
   ]
  },
  {
   "cell_type": "code",
   "execution_count": 57,
   "metadata": {},
   "outputs": [],
   "source": [
    "# Concaténer les deux listes : ls_variables_explicatives et ['passoire_energetique']\n",
    "df = df[ls_variables_explicatives + ['passoire_energetique']]"
   ]
  },
  {
   "cell_type": "code",
   "execution_count": 58,
   "metadata": {},
   "outputs": [],
   "source": [
    "df = pd.get_dummies(df, columns=['Type_énergie_n°1'], drop_first=True)"
   ]
  },
  {
   "cell_type": "code",
   "execution_count": null,
   "metadata": {},
   "outputs": [],
   "source": [
    "df.head()"
   ]
  },
  {
   "cell_type": "markdown",
   "metadata": {},
   "source": [
    "## Echantillonnage"
   ]
  },
  {
   "cell_type": "code",
   "execution_count": 60,
   "metadata": {},
   "outputs": [],
   "source": [
    "X = df[df.columns.difference(['passoire_energetique'])]"
   ]
  },
  {
   "cell_type": "code",
   "execution_count": 61,
   "metadata": {},
   "outputs": [],
   "source": [
    "X = df[variables_continues]"
   ]
  },
  {
   "cell_type": "code",
   "execution_count": 62,
   "metadata": {},
   "outputs": [],
   "source": [
    "Y = df[\"passoire_energetique\"]"
   ]
  },
  {
   "cell_type": "code",
   "execution_count": 63,
   "metadata": {},
   "outputs": [],
   "source": [
    "from sklearn.model_selection import train_test_split\n",
    "X_train, X_test, y_train, y_test = train_test_split(X, Y,\n",
    "                                                    test_size = 0.30,\n",
    "                                                    stratify = Y,\n",
    "                                                    random_state = 42)"
   ]
  },
  {
   "cell_type": "code",
   "execution_count": null,
   "metadata": {},
   "outputs": [],
   "source": [
    "y_train.value_counts(normalize=True)\n"
   ]
  },
  {
   "cell_type": "code",
   "execution_count": null,
   "metadata": {},
   "outputs": [],
   "source": [
    "y_test.value_counts(normalize=True)"
   ]
  },
  {
   "cell_type": "code",
   "execution_count": null,
   "metadata": {},
   "outputs": [],
   "source": [
    "print(X_train.shape)\n",
    "print(X_test.shape)\n",
    "X_test.head()"
   ]
  },
  {
   "cell_type": "code",
   "execution_count": 67,
   "metadata": {},
   "outputs": [],
   "source": [
    "from sklearn.tree import DecisionTreeClassifier\n",
    "model_arbre = DecisionTreeClassifier(max_depth=3 , min_samples_leaf=50, min_samples_split=100)\n",
    "model_arbre = model_arbre.fit(X_train,y_train)"
   ]
  },
  {
   "cell_type": "code",
   "execution_count": null,
   "metadata": {},
   "outputs": [],
   "source": [
    "from sklearn.tree import plot_tree\n",
    "plt.figure(figsize=(16,4))\n",
    "plot_tree(model_arbre,feature_names = list(X.columns),filled=True, fontsize=10)\n",
    "plt.show()"
   ]
  },
  {
   "cell_type": "code",
   "execution_count": null,
   "metadata": {},
   "outputs": [],
   "source": [
    "y_pred = model_arbre.predict(X_test)\n",
    "y_pred"
   ]
  },
  {
   "cell_type": "code",
   "execution_count": null,
   "metadata": {},
   "outputs": [],
   "source": [
    "y_pred_proba = model_arbre.predict_proba(X_test)\n",
    "y_pred_proba[0:10]"
   ]
  },
  {
   "cell_type": "code",
   "execution_count": null,
   "metadata": {},
   "outputs": [],
   "source": [
    "from sklearn.metrics import confusion_matrix\n",
    "mc = pd.DataFrame(confusion_matrix(y_test,y_pred),\n",
    "                  columns=['pred_0','pred_1'],\n",
    "                  index=['obs_0','obs_1'])\n",
    "\n",
    "mc\n",
    "\n",
    "#ou \n",
    "\n",
    "pd.crosstab(y_test,y_pred, colnames=['pred'], rownames=['obs'], margins=True)"
   ]
  },
  {
   "cell_type": "code",
   "execution_count": null,
   "metadata": {},
   "outputs": [],
   "source": [
    "from sklearn.metrics import accuracy_score\n",
    "print(accuracy_score(y_test,y_pred))"
   ]
  },
  {
   "cell_type": "code",
   "execution_count": null,
   "metadata": {},
   "outputs": [],
   "source": [
    "from sklearn.metrics import recall_score, precision_score\n",
    "print('recall :' + str(recall_score(y_test,y_pred,average='binary', pos_label=0)))\n",
    "print('precision : ' + str(precision_score(y_test,y_pred, average='binary', pos_label=0)))"
   ]
  },
  {
   "cell_type": "code",
   "execution_count": null,
   "metadata": {},
   "outputs": [],
   "source": [
    "from sklearn.metrics import f1_score\n",
    "print('f1_score : ' + str(f1_score(y_test,y_pred, average='binary', pos_label=0)))"
   ]
  },
  {
   "cell_type": "code",
   "execution_count": null,
   "metadata": {},
   "outputs": [],
   "source": [
    "print('recall : ' + str(recall_score(y_test,y_pred,average='macro')))\n",
    "print('precision : ' + str(precision_score(y_test,y_pred, average='macro')))\n",
    "print('f1_score : ' + str(f1_score(y_test,y_pred, average='macro')))"
   ]
  },
  {
   "cell_type": "code",
   "execution_count": null,
   "metadata": {},
   "outputs": [],
   "source": [
    "print('recall : ' + str(recall_score(y_test,y_pred,average='weighted')))\n",
    "print('precision : ' + str(precision_score(y_test,y_pred, average='weighted')))\n",
    "print('f1_score : ' + str(f1_score(y_test,y_pred, average='weighted')))"
   ]
  },
  {
   "cell_type": "markdown",
   "metadata": {},
   "source": [
    "## Validation croisée"
   ]
  },
  {
   "cell_type": "code",
   "execution_count": null,
   "metadata": {},
   "outputs": [],
   "source": [
    "from sklearn.model_selection import cross_val_predict, cross_val_score\n",
    "from sklearn.metrics import classification_report\n",
    "\n",
    "model_arbre_cv = DecisionTreeClassifier(random_state=42)\n",
    "\n",
    "cv_scores = cross_val_score(model_arbre_cv, X_train, y_train, cv=5, scoring='f1_macro')\n",
    "\n",
    "print(f\"Scores de validation croisée:{cv_scores}\") # permet de savoir comment le modele prédit (surapprentissage ?)\n",
    "print(f\"Moyenne des scores de validation croisée : {cv_scores.mean()}\")\n",
    "\n",
    "model_arbre_cv.fit(X_train, y_train)\n",
    "\n",
    "y_pred_arbre_cv = model_arbre.predict(X_test)\n",
    "\n",
    "print(classification_report(y_test, y_pred_arbre_cv)) # permet d'avoir l'ensemble les scores des metriques recall, precision , f1\n",
    "print(f\"Accuracy sur l'ensemble de test: {accuracy_score(y_test, y_pred_arbre_cv)}\")"
   ]
  },
  {
   "cell_type": "code",
   "execution_count": 78,
   "metadata": {},
   "outputs": [],
   "source": [
    "import numpy as np \n",
    "\n",
    "parameters = {\n",
    "    'max_depth': np.arange(start=1, stop=10, step=1),\n",
    "    'min_samples_leaf': np.arange(start = 5, stop = 250, step = 50),\n",
    "    'min_samples_split': np.arange(start = 10, stop = 500, step = 50)\n",
    "}"
   ]
  },
  {
   "cell_type": "code",
   "execution_count": null,
   "metadata": {},
   "outputs": [],
   "source": [
    "from sklearn.metrics import make_scorer\n",
    "from sklearn.model_selection import GridSearchCV\n",
    "\n",
    "model_arbre_grid = DecisionTreeClassifier()\n",
    "score = make_scorer(f1_score, pos_label=0)\n",
    "model_arbre_grid = GridSearchCV(model_arbre_grid, parameters, scoring=score, verbose=2, cv=5)\n",
    "model_arbre_grid.fit(X_train, y_train)"
   ]
  },
  {
   "cell_type": "code",
   "execution_count": null,
   "metadata": {},
   "outputs": [],
   "source": [
    "print(\"Voici les paramètres du meilleure modèle : \" + str(model_arbre_grid.best_estimator_))\n",
    "print(\"Voici le \"  + str(model_arbre_grid.scorer_) + \" du meilleure modèle : \" + str(model_arbre_grid.best_score_))"
   ]
  },
  {
   "cell_type": "code",
   "execution_count": 81,
   "metadata": {},
   "outputs": [],
   "source": [
    "# Prédictions sur l'ensemble de test\n",
    "y_pred_arbre_grid = model_arbre_grid.predict(X_test)"
   ]
  },
  {
   "cell_type": "code",
   "execution_count": null,
   "metadata": {},
   "outputs": [],
   "source": [
    "# Évaluation du modèle\n",
    "print(classification_report(y_test, y_pred_arbre_grid))\n",
    "print(f\"Accuracy sur l'ensemble de test : {accuracy_score(y_test, y_pred_arbre_grid)}\")\n",
    "print('recall :' + str(recall_score(y_test,y_pred,average='binary', pos_label=0)))\n",
    "print('precision : ' + str(precision_score(y_test,y_pred, average='binary', pos_label=0)))\n",
    "print('f1_score : ' + str(f1_score(y_test,y_pred, average='binary', pos_label=0)))"
   ]
  },
  {
   "cell_type": "code",
   "execution_count": 83,
   "metadata": {},
   "outputs": [],
   "source": [
    "# Prédire les probabilités pour la classe positive (1)\n",
    "y_proba_cv = model_arbre_cv.predict_proba(X_test)[:, 1]\n",
    "y_proba_grid = model_arbre_grid.predict_proba(X_test)[:, 1]"
   ]
  },
  {
   "cell_type": "code",
   "execution_count": 84,
   "metadata": {},
   "outputs": [],
   "source": [
    "from sklearn.metrics import roc_curve, roc_auc_score\n",
    "# Calculer les courbes ROC\n",
    "fpr1, tpr1, _ = roc_curve(y_test, y_proba_cv)\n",
    "fpr2, tpr2, _ = roc_curve(y_test, y_proba_grid)\n",
    "\n",
    "# Calculer l'AUC pour chaque modèle\n",
    "auc1 = roc_auc_score(y_test, y_proba_cv)\n",
    "auc2 = roc_auc_score(y_test, y_proba_grid)"
   ]
  },
  {
   "cell_type": "code",
   "execution_count": null,
   "metadata": {},
   "outputs": [],
   "source": [
    "import matplotlib.pyplot as plt\n",
    "# Tracer les courbes ROC\n",
    "plt.figure(figsize=(8, 6))\n",
    "plt.plot(fpr1, tpr1, label=f'Arbre CV (AUC = {auc1:.2f})', color='blue')\n",
    "plt.plot(fpr2, tpr2, label=f'Arbre Grid (AUC = {auc2:.2f})', color='green')\n",
    "\n",
    "# Ajouter la diagonale (aléatoire)\n",
    "plt.plot([0, 1], [0, 1], 'k--', label='Modèle aléatoire')\n",
    "\n",
    "# Ajouter des labels et un titre\n",
    "plt.xlabel('Taux de Faux Positifs (FPR)')\n",
    "plt.ylabel('Taux de Vrais Positifs (TPR)')\n",
    "plt.title('Comparaison des courbes ROC entre deux modèles')\n",
    "plt.legend(loc='lower right')\n",
    "\n",
    "# Afficher le graphique\n",
    "plt.show()"
   ]
  },
  {
   "cell_type": "markdown",
   "metadata": {},
   "source": [
    "## KNN"
   ]
  },
  {
   "cell_type": "code",
   "execution_count": null,
   "metadata": {},
   "outputs": [],
   "source": [
    "from sklearn.neighbors import KNeighborsClassifier\n",
    "\n",
    "model_knn = KNeighborsClassifier(n_neighbors = 5)\n",
    "model_knn.fit(X_train, y_train)\n",
    "\n"
   ]
  },
  {
   "cell_type": "code",
   "execution_count": 87,
   "metadata": {},
   "outputs": [],
   "source": [
    "y_pred_knn = model_knn.predict(X_test)"
   ]
  },
  {
   "cell_type": "code",
   "execution_count": null,
   "metadata": {},
   "outputs": [],
   "source": [
    "print('f1_score : ' + str(f1_score(y_test,y_pred_knn,average='binary', pos_label=1)))"
   ]
  },
  {
   "cell_type": "code",
   "execution_count": null,
   "metadata": {},
   "outputs": [],
   "source": [
    "from sklearn.linear_model import LogisticRegression\n",
    "\n",
    "reg_log = LogisticRegression()\n",
    "reg_log_model = reg_log.fit(X_train, y_train)\n",
    "y_pred_reg = reg_log_model.predict(X_test)\n",
    "\n",
    "print('f1_score : ' + str(f1_score(y_test,y_pred_reg,average='binary', pos_label=1)))"
   ]
  },
  {
   "cell_type": "code",
   "execution_count": null,
   "metadata": {},
   "outputs": [],
   "source": [
    "reg_log_model.predict_proba(X_test)[0:10]"
   ]
  },
  {
   "cell_type": "code",
   "execution_count": null,
   "metadata": {},
   "outputs": [],
   "source": [
    "coef = pd.DataFrame(reg_log_model.coef_[0,] ,index = X_train.columns, columns=['Coef'])\n",
    "coef.loc['Constante'] = reg_log_model.intercept_\n",
    "coef"
   ]
  },
  {
   "cell_type": "markdown",
   "metadata": {},
   "source": [
    "### Aller plus loin avec SMOTE pour ré équilibrer les classes"
   ]
  },
  {
   "cell_type": "code",
   "execution_count": 92,
   "metadata": {},
   "outputs": [],
   "source": [
    "from imblearn.over_sampling import SMOTE\n",
    "\n",
    "oversample = SMOTE()\n",
    "X_train_smote, y_train_smote = oversample.fit_resample(X_train, y_train)"
   ]
  },
  {
   "cell_type": "code",
   "execution_count": 93,
   "metadata": {},
   "outputs": [],
   "source": [
    "from imblearn.over_sampling import BorderlineSMOTE\n",
    "\n",
    "oversample = BorderlineSMOTE()\n",
    "X_train_smote, y_train_smote = oversample.fit_resample(X_train, y_train)"
   ]
  },
  {
   "cell_type": "markdown",
   "metadata": {},
   "source": [
    "### Aller plus loin avec SHAP pour interpréter ses modèles"
   ]
  },
  {
   "cell_type": "code",
   "execution_count": null,
   "metadata": {},
   "outputs": [],
   "source": [
    "#! pip install shap"
   ]
  },
  {
   "cell_type": "code",
   "execution_count": 105,
   "metadata": {},
   "outputs": [],
   "source": [
    "import shap\n",
    "\n",
    "# Créer un explainer basé sur le modèle Random Forest\n",
    "explainer = shap.TreeExplainer(rf_model)\n",
    "\n",
    "# Calculer les valeurs SHAP pour les données de test\n",
    "shap_values = explainer.shap_values(X_test)"
   ]
  },
  {
   "cell_type": "code",
   "execution_count": 135,
   "metadata": {},
   "outputs": [],
   "source": [
    "# Expliquer la première prédiction dans le jeu de test\n",
    "#shap.initjs()\n",
    "#shap.force_plot(explainer.expected_value, shap_values[0], X_test.iloc[0])\n"
   ]
  },
  {
   "cell_type": "code",
   "execution_count": 101,
   "metadata": {},
   "outputs": [
    {
     "data": {
      "image/png": "[encoded data removed]",
      "text/plain": [
       "<Figure size 1150x660 with 2 Axes>"
      ]
     },
     "metadata": {},
     "output_type": "display_data"
    }
   ],
   "source": [
    "# Importance globale des caractéristiques (summary plot)\n",
    "shap.summary_plot(shap_values, X_test)"
   ]
  },
  {
   "cell_type": "markdown",
   "metadata": {},
   "source": [
    "### KNN over sampling"
   ]
  },
  {
   "cell_type": "code",
   "execution_count": 106,
   "metadata": {},
   "outputs": [],
   "source": [
    "knn_smote = KNeighborsClassifier(n_neighbors=3)\n",
    "knn_smote.fit(X_train_smote, y_train_smote)\n",
    "y_pred_knn_smote = knn_smote.predict(X_test)"
   ]
  },
  {
   "cell_type": "code",
   "execution_count": 107,
   "metadata": {},
   "outputs": [
    {
     "name": "stdout",
     "output_type": "stream",
     "text": [
      "f1_score : 0.6401354784081288\n"
     ]
    }
   ],
   "source": [
    "print('f1_score : ' + str(f1_score(y_test,y_pred_knn_smote,average='binary', pos_label=1)))"
   ]
  },
  {
   "cell_type": "code",
   "execution_count": 108,
   "metadata": {},
   "outputs": [],
   "source": [
    "from imblearn.over_sampling import BorderlineSMOTE\n",
    "\n",
    "oversample = BorderlineSMOTE()\n",
    "X_train_smote, y_train_smote = oversample.fit_resample(X_train, y_train)"
   ]
  },
  {
   "cell_type": "markdown",
   "metadata": {},
   "source": [
    "## Regression logistique"
   ]
  },
  {
   "cell_type": "code",
   "execution_count": 109,
   "metadata": {},
   "outputs": [
    {
     "name": "stdout",
     "output_type": "stream",
     "text": [
      "f1_score : 0.5170278637770898\n"
     ]
    }
   ],
   "source": [
    "from sklearn.linear_model import LogisticRegression\n",
    "\n",
    "reg_log = LogisticRegression()\n",
    "reg_log_model = reg_log.fit(X_train, y_train)\n",
    "y_pred_reg = reg_log_model.predict(X_test)\n",
    "\n",
    "print('f1_score : ' + str(f1_score(y_test,y_pred_reg,average='binary', pos_label=1)))"
   ]
  },
  {
   "cell_type": "code",
   "execution_count": 110,
   "metadata": {},
   "outputs": [
    {
     "data": {
      "text/plain": [
       "array([[9.99710573e-01, 2.89426864e-04],\n",
       "       [9.91573723e-01, 8.42627652e-03],\n",
       "       [9.88540625e-01, 1.14593753e-02],\n",
       "       [9.70918641e-01, 2.90813586e-02],\n",
       "       [7.39380759e-01, 2.60619241e-01],\n",
       "       [8.36462898e-01, 1.63537102e-01],\n",
       "       [9.61211759e-01, 3.87882414e-02],\n",
       "       [9.60350840e-01, 3.96491598e-02],\n",
       "       [9.94152372e-01, 5.84762782e-03],\n",
       "       [9.84426180e-01, 1.55738202e-02]])"
      ]
     },
     "execution_count": 110,
     "metadata": {},
     "output_type": "execute_result"
    }
   ],
   "source": [
    "reg_log_model.predict_proba(X_test)[0:10]"
   ]
  },
  {
   "cell_type": "code",
   "execution_count": 111,
   "metadata": {},
   "outputs": [
    {
     "data": {
      "text/html": [
       "<div>\n",
       "<style scoped>\n",
       "    .dataframe tbody tr th:only-of-type {\n",
       "        vertical-align: middle;\n",
       "    }\n",
       "\n",
       "    .dataframe tbody tr th {\n",
       "        vertical-align: top;\n",
       "    }\n",
       "\n",
       "    .dataframe thead th {\n",
       "        text-align: right;\n",
       "    }\n",
       "</style>\n",
       "<table border=\"1\" class=\"dataframe\">\n",
       "  <thead>\n",
       "    <tr style=\"text-align: right;\">\n",
       "      <th></th>\n",
       "      <th>Coef</th>\n",
       "    </tr>\n",
       "  </thead>\n",
       "  <tbody>\n",
       "    <tr>\n",
       "      <th>Année_construction</th>\n",
       "      <td>-0.000477</td>\n",
       "    </tr>\n",
       "    <tr>\n",
       "      <th>Surface_habitable_logement</th>\n",
       "      <td>-0.014933</td>\n",
       "    </tr>\n",
       "    <tr>\n",
       "      <th>Coût_total_5_usages</th>\n",
       "      <td>-0.009060</td>\n",
       "    </tr>\n",
       "    <tr>\n",
       "      <th>Coût_ECS</th>\n",
       "      <td>0.007166</td>\n",
       "    </tr>\n",
       "    <tr>\n",
       "      <th>Coût_chauffage</th>\n",
       "      <td>0.012508</td>\n",
       "    </tr>\n",
       "    <tr>\n",
       "      <th>Coût_éclairage</th>\n",
       "      <td>-0.076391</td>\n",
       "    </tr>\n",
       "    <tr>\n",
       "      <th>Coût_auxiliaires</th>\n",
       "      <td>0.000062</td>\n",
       "    </tr>\n",
       "    <tr>\n",
       "      <th>Coût_refroidissement</th>\n",
       "      <td>0.002302</td>\n",
       "    </tr>\n",
       "    <tr>\n",
       "      <th>Constante</th>\n",
       "      <td>0.000071</td>\n",
       "    </tr>\n",
       "  </tbody>\n",
       "</table>\n",
       "</div>"
      ],
      "text/plain": [
       "                                Coef\n",
       "Année_construction         -0.000477\n",
       "Surface_habitable_logement -0.014933\n",
       "Coût_total_5_usages        -0.009060\n",
       "Coût_ECS                    0.007166\n",
       "Coût_chauffage              0.012508\n",
       "Coût_éclairage             -0.076391\n",
       "Coût_auxiliaires            0.000062\n",
       "Coût_refroidissement        0.002302\n",
       "Constante                   0.000071"
      ]
     },
     "execution_count": 111,
     "metadata": {},
     "output_type": "execute_result"
    }
   ],
   "source": [
    "# les coefficient du modèle\n",
    "coef = pd.DataFrame(reg_log_model.coef_[0,] ,index = X_train.columns, columns=['Coef'])\n",
    "coef.loc['Constante'] = reg_log_model.intercept_\n",
    "coef"
   ]
  },
  {
   "cell_type": "markdown",
   "metadata": {},
   "source": [
    "## Random forest "
   ]
  },
  {
   "cell_type": "code",
   "execution_count": 98,
   "metadata": {},
   "outputs": [
    {
     "name": "stdout",
     "output_type": "stream",
     "text": [
      "f1_score: 0.8466819221967962\n"
     ]
    },
    {
     "data": {
      "text/html": [
       "<div>\n",
       "<style scoped>\n",
       "    .dataframe tbody tr th:only-of-type {\n",
       "        vertical-align: middle;\n",
       "    }\n",
       "\n",
       "    .dataframe tbody tr th {\n",
       "        vertical-align: top;\n",
       "    }\n",
       "\n",
       "    .dataframe thead th {\n",
       "        text-align: right;\n",
       "    }\n",
       "</style>\n",
       "<table border=\"1\" class=\"dataframe\">\n",
       "  <thead>\n",
       "    <tr style=\"text-align: right;\">\n",
       "      <th>pred</th>\n",
       "      <th>False</th>\n",
       "      <th>True</th>\n",
       "      <th>All</th>\n",
       "    </tr>\n",
       "    <tr>\n",
       "      <th>obs</th>\n",
       "      <th></th>\n",
       "      <th></th>\n",
       "      <th></th>\n",
       "    </tr>\n",
       "  </thead>\n",
       "  <tbody>\n",
       "    <tr>\n",
       "      <th>False</th>\n",
       "      <td>5174</td>\n",
       "      <td>37</td>\n",
       "      <td>5211</td>\n",
       "    </tr>\n",
       "    <tr>\n",
       "      <th>True</th>\n",
       "      <td>296</td>\n",
       "      <td>169</td>\n",
       "      <td>465</td>\n",
       "    </tr>\n",
       "    <tr>\n",
       "      <th>All</th>\n",
       "      <td>5470</td>\n",
       "      <td>206</td>\n",
       "      <td>5676</td>\n",
       "    </tr>\n",
       "  </tbody>\n",
       "</table>\n",
       "</div>"
      ],
      "text/plain": [
       "pred   False  True   All\n",
       "obs                     \n",
       "False   5174    37  5211\n",
       "True     296   169   465\n",
       "All     5470   206  5676"
      ]
     },
     "execution_count": 98,
     "metadata": {},
     "output_type": "execute_result"
    }
   ],
   "source": [
    "from sklearn.ensemble import RandomForestClassifier\n",
    "\n",
    "rf_clf = RandomForestClassifier(random_state=0)\n",
    "\n",
    "rf_model = rf_clf.fit(X_train, y_train)\n",
    "y_pred_rf = rf_model.predict(X_test)\n",
    "\n",
    "print('f1_score: '+ str(f1_score(y_test, y_pred_rf, average='binary', pos_label=1)))\n",
    "\n",
    "pd.crosstab(y_test, y_pred, colnames=['pred'], rownames=['obs'] , margins=True)"
   ]
  },
  {
   "cell_type": "code",
   "execution_count": 112,
   "metadata": {},
   "outputs": [
    {
     "data": {
      "text/html": [
       "<div>\n",
       "<style scoped>\n",
       "    .dataframe tbody tr th:only-of-type {\n",
       "        vertical-align: middle;\n",
       "    }\n",
       "\n",
       "    .dataframe tbody tr th {\n",
       "        vertical-align: top;\n",
       "    }\n",
       "\n",
       "    .dataframe thead th {\n",
       "        text-align: right;\n",
       "    }\n",
       "</style>\n",
       "<table border=\"1\" class=\"dataframe\">\n",
       "  <thead>\n",
       "    <tr style=\"text-align: right;\">\n",
       "      <th></th>\n",
       "      <th>Importances</th>\n",
       "    </tr>\n",
       "  </thead>\n",
       "  <tbody>\n",
       "    <tr>\n",
       "      <th>Coût_chauffage</th>\n",
       "      <td>0.223722</td>\n",
       "    </tr>\n",
       "    <tr>\n",
       "      <th>Coût_éclairage</th>\n",
       "      <td>0.198477</td>\n",
       "    </tr>\n",
       "    <tr>\n",
       "      <th>Coût_total_5_usages</th>\n",
       "      <td>0.194151</td>\n",
       "    </tr>\n",
       "    <tr>\n",
       "      <th>Surface_habitable_logement</th>\n",
       "      <td>0.179203</td>\n",
       "    </tr>\n",
       "    <tr>\n",
       "      <th>Coût_auxiliaires</th>\n",
       "      <td>0.076532</td>\n",
       "    </tr>\n",
       "    <tr>\n",
       "      <th>Coût_ECS</th>\n",
       "      <td>0.073574</td>\n",
       "    </tr>\n",
       "    <tr>\n",
       "      <th>Année_construction</th>\n",
       "      <td>0.050933</td>\n",
       "    </tr>\n",
       "    <tr>\n",
       "      <th>Coût_refroidissement</th>\n",
       "      <td>0.003408</td>\n",
       "    </tr>\n",
       "  </tbody>\n",
       "</table>\n",
       "</div>"
      ],
      "text/plain": [
       "                            Importances\n",
       "Coût_chauffage                 0.223722\n",
       "Coût_éclairage                 0.198477\n",
       "Coût_total_5_usages            0.194151\n",
       "Surface_habitable_logement     0.179203\n",
       "Coût_auxiliaires               0.076532\n",
       "Coût_ECS                       0.073574\n",
       "Année_construction             0.050933\n",
       "Coût_refroidissement           0.003408"
      ]
     },
     "execution_count": 112,
     "metadata": {},
     "output_type": "execute_result"
    }
   ],
   "source": [
    "pd.DataFrame(rf_model.feature_importances_,\n",
    "             index=X_train.columns.tolist(),\n",
    "             columns=['Importances']).sort_values(by = 'Importances', ascending=False)"
   ]
  },
  {
   "cell_type": "markdown",
   "metadata": {},
   "source": [
    "## Régression"
   ]
  },
  {
   "cell_type": "markdown",
   "metadata": {},
   "source": [
    "### Variable cible"
   ]
  },
  {
   "cell_type": "code",
   "execution_count": 113,
   "metadata": {},
   "outputs": [
    {
     "data": {
      "image/png": "[encoded data removed]",
      "text/plain": [
       "<Figure size 640x480 with 1 Axes>"
      ]
     },
     "metadata": {},
     "output_type": "display_data"
    }
   ],
   "source": [
    "import seaborn as sns\n",
    "import matplotlib.pyplot as plt\n",
    "\n",
    "target = \"Coût_total_5_usages\"\n",
    "\n",
    "# Créer un boxplot pour une colonne spécifique\n",
    "sns.boxplot(data=df, x = target, showfliers=False)\n",
    "\n",
    "# Afficher le graphique\n",
    "plt.title(f'Boxplot sur le {target}')\n",
    "plt.show()"
   ]
  },
  {
   "cell_type": "code",
   "execution_count": 114,
   "metadata": {},
   "outputs": [],
   "source": [
    "import pandas as pd\n",
    "import numpy as np\n",
    "\n",
    "# Créer une séquence de 0 à 1 avec un pas de 0.1\n",
    "sequence = np.arange(0, 1.1, 0.1)\n",
    "\n",
    "# Calculer les déciles (0.1, 0.2, ..., 0.9) en ajoutant les percentiles à describe()\n",
    "resultat = df[target].describe(percentiles=sequence)"
   ]
  },
  {
   "cell_type": "code",
   "execution_count": 115,
   "metadata": {},
   "outputs": [],
   "source": [
    "# Changer l'option pour afficher toutes les colonnes\n",
    "pd.set_option('display.max_columns', None)\n",
    "\n",
    "# Changer l'option pour afficher toutes les lignes\n",
    "pd.set_option('display.max_rows', None)"
   ]
  },
  {
   "cell_type": "markdown",
   "metadata": {},
   "source": [
    "## Variables explicatives"
   ]
  },
  {
   "cell_type": "code",
   "execution_count": 116,
   "metadata": {},
   "outputs": [],
   "source": [
    "# Vérification des données manquantes\n",
    "ls_variables_explicatives = ['Année_construction','Surface_habitable_logement','Type_énergie_n°1',\n",
    "'Etiquette_DPE',\n",
    "'N°_étage_appartement', 'Hauteur_sous-plafond',\n",
    "'Logement_traversant_(0/1)',\n",
    "'Présence_brasseur_air_(0/1)',\n",
    "'Indicateur_confort_été',\n",
    "'Isolation_toiture_(0/1)',\n",
    "'Protection_solaire_exterieure_(0/1)',\n",
    "'Inertie_lourde_(0/1)',\n",
    "'Deperditions_baies_vitrées',\n",
    "'Deperditions_enveloppe',\n",
    "'Déperditions_murs',\n",
    "'Deperditions_planchers_bas',\n",
    "'Deperditions_planchers_hauts',\n",
    "'Déperditions_ponts_thermiques',\n",
    "'Déperditions_portes',\n",
    "'Déperditions_renouvellement_air',\n",
    "'Qualité_isolation_enveloppe',\n",
    "'Qualité_isolation_menuiseries',\n",
    "'Qualité_isolation_murs',\n",
    "'Qualité_isolation_plancher_bas']"
   ]
  },
  {
   "cell_type": "code",
   "execution_count": 117,
   "metadata": {},
   "outputs": [],
   "source": [
    "# Créer une séquence de 0 à 1 avec un pas de 0.1\n",
    "sequence = np.arange(0, 1.1, 0.1)\n",
    "\n",
    "# Calculer les déciles (0.1, 0.2, ..., 0.9) en ajoutant les percentiles à describe()\n",
    "resultat = df.describe(percentiles=sequence)"
   ]
  },
  {
   "cell_type": "code",
   "execution_count": 118,
   "metadata": {},
   "outputs": [
    {
     "data": {
      "text/plain": [
       "Année_construction                        0\n",
       "Surface_habitable_logement                0\n",
       "Type_énergie_n°1                          0\n",
       "Etiquette_DPE                             0\n",
       "N°_étage_appartement                   4377\n",
       "Hauteur_sous-plafond                      0\n",
       "Logement_traversant_(0/1)              8855\n",
       "Présence_brasseur_air_(0/1)            8855\n",
       "Indicateur_confort_été                 8855\n",
       "Isolation_toiture_(0/1)                8969\n",
       "Protection_solaire_exterieure_(0/1)    8855\n",
       "Inertie_lourde_(0/1)                   9079\n",
       "Deperditions_baies_vitrées             2869\n",
       "Deperditions_enveloppe                 2869\n",
       "Déperditions_murs                      2869\n",
       "Deperditions_planchers_bas             2882\n",
       "Deperditions_planchers_hauts           2879\n",
       "Déperditions_ponts_thermiques          2871\n",
       "Déperditions_portes                    2874\n",
       "Déperditions_renouvellement_air        2869\n",
       "Qualité_isolation_enveloppe               0\n",
       "Qualité_isolation_menuiseries             0\n",
       "Qualité_isolation_murs                    0\n",
       "Qualité_isolation_plancher_bas         1263\n",
       "dtype: int64"
      ]
     },
     "execution_count": 118,
     "metadata": {},
     "output_type": "execute_result"
    }
   ],
   "source": [
    "# Vérification des données manquantes\n",
    "df_concat[ls_variables_explicatives].isnull().sum()"
   ]
  },
  {
   "cell_type": "code",
   "execution_count": 119,
   "metadata": {},
   "outputs": [
    {
     "name": "stdout",
     "output_type": "stream",
     "text": [
      "Colonnes quantitatives : Index(['Année_construction', 'Surface_habitable_logement',\n",
      "       'N°_étage_appartement', 'Hauteur_sous-plafond',\n",
      "       'Logement_traversant_(0/1)', 'Présence_brasseur_air_(0/1)',\n",
      "       'Isolation_toiture_(0/1)', 'Protection_solaire_exterieure_(0/1)',\n",
      "       'Inertie_lourde_(0/1)', 'Deperditions_baies_vitrées',\n",
      "       'Deperditions_enveloppe', 'Déperditions_murs',\n",
      "       'Deperditions_planchers_bas', 'Deperditions_planchers_hauts',\n",
      "       'Déperditions_ponts_thermiques', 'Déperditions_portes',\n",
      "       'Déperditions_renouvellement_air'],\n",
      "      dtype='object')\n"
     ]
    },
    {
     "data": {
      "text/plain": [
       "Année_construction                     0\n",
       "Surface_habitable_logement             0\n",
       "N°_étage_appartement                   0\n",
       "Hauteur_sous-plafond                   0\n",
       "Logement_traversant_(0/1)              0\n",
       "Présence_brasseur_air_(0/1)            0\n",
       "Isolation_toiture_(0/1)                0\n",
       "Protection_solaire_exterieure_(0/1)    0\n",
       "Inertie_lourde_(0/1)                   0\n",
       "Deperditions_baies_vitrées             0\n",
       "Deperditions_enveloppe                 0\n",
       "Déperditions_murs                      0\n",
       "Deperditions_planchers_bas             0\n",
       "Deperditions_planchers_hauts           0\n",
       "Déperditions_ponts_thermiques          0\n",
       "Déperditions_portes                    0\n",
       "Déperditions_renouvellement_air        0\n",
       "dtype: int64"
      ]
     },
     "execution_count": 119,
     "metadata": {},
     "output_type": "execute_result"
    }
   ],
   "source": [
    "from sklearn.impute import KNNImputer\n",
    "\n",
    "# Sélectionner uniquement les colonnes quantitatives (numériques)\n",
    "quant_cols = df_concat[ls_variables_explicatives].select_dtypes(include=[np.number]).columns\n",
    "\n",
    "# Afficher les colonnes quantitatives\n",
    "print(\"Colonnes quantitatives :\", quant_cols)\n",
    "\n",
    "# Initialiser le KNNImputer\n",
    "imputer = KNNImputer(n_neighbors=3)\n",
    "\n",
    "# Appliquer l'imputation sur les colonnes quantitatives\n",
    "df_concat[quant_cols] = imputer.fit_transform(df_concat[quant_cols])\n",
    "\n",
    "# Vérification des données manquantes\n",
    "df_concat[quant_cols].isnull().sum()"
   ]
  },
  {
   "cell_type": "code",
   "execution_count": 120,
   "metadata": {},
   "outputs": [
    {
     "data": {
      "text/plain": [
       "Type_énergie_n°1                  0\n",
       "Etiquette_DPE                     0\n",
       "Indicateur_confort_été            0\n",
       "Qualité_isolation_enveloppe       0\n",
       "Qualité_isolation_menuiseries     0\n",
       "Qualité_isolation_murs            0\n",
       "Qualité_isolation_plancher_bas    0\n",
       "dtype: int64"
      ]
     },
     "execution_count": 120,
     "metadata": {},
     "output_type": "execute_result"
    }
   ],
   "source": [
    "# Sélectionner toutes les colonnes non numériques (qualitatives)\n",
    "categorical_cols = df_concat[ls_variables_explicatives].select_dtypes(exclude=[np.number]).columns\n",
    "\n",
    "# Appliquer l'imputation par la valeur la plus fréquente (mode) pour chaque colonne catégorielle\n",
    "for col in categorical_cols:\n",
    "    df_concat[col] = df_concat[col].fillna(df_concat[col].mode()[0])\n",
    "\n",
    "# Vérification des données manquantes\n",
    "df_concat[categorical_cols].isnull().sum()"
   ]
  },
  {
   "cell_type": "code",
   "execution_count": 121,
   "metadata": {},
   "outputs": [
    {
     "data": {
      "image/png": "[encoded data removed]",
      "text/plain": [
       "<Figure size 1200x800 with 2 Axes>"
      ]
     },
     "metadata": {},
     "output_type": "display_data"
    }
   ],
   "source": [
    "# Calcul de la matrice de corrélation\n",
    "corr_matrix = round(df_concat[list(quant_cols) + [target] ].corr(),2)\n",
    "# Affichage de la matrice de corrélation sous forme de heatmap\n",
    "plt.figure(figsize=(12, 8))\n",
    "sns.heatmap(corr_matrix, annot=True, cmap='coolwarm', linewidths=0.5)\n",
    "plt.title('Matrice de Corrélation')\n",
    "plt.show()"
   ]
  },
  {
   "cell_type": "code",
   "execution_count": 122,
   "metadata": {},
   "outputs": [],
   "source": [
    "# Concaténer les deux listes : ls_variables_explicatives et target\n",
    "df = df_concat[list(ls_variables_explicatives) + [target]]\n",
    "df = pd.get_dummies(df, columns=categorical_cols, drop_first=True)"
   ]
  },
  {
   "cell_type": "markdown",
   "metadata": {},
   "source": [
    "## Echantillonnage"
   ]
  },
  {
   "cell_type": "code",
   "execution_count": 123,
   "metadata": {},
   "outputs": [],
   "source": [
    "# Utiliser set.difference() pour exclure la colonne cible de ls_variables_explicatives\n",
    "X =df[df.columns.difference([target])]"
   ]
  },
  {
   "cell_type": "code",
   "execution_count": 124,
   "metadata": {},
   "outputs": [],
   "source": [
    "Y = df[target]"
   ]
  },
  {
   "cell_type": "code",
   "execution_count": 125,
   "metadata": {},
   "outputs": [],
   "source": [
    "from sklearn.model_selection import train_test_split\n",
    "X_train, X_test, y_train, y_test = train_test_split(X, Y,\n",
    "                                                    test_size = 0.30,\n",
    "                                                    random_state = 42)"
   ]
  },
  {
   "cell_type": "code",
   "execution_count": 126,
   "metadata": {},
   "outputs": [
    {
     "name": "stdout",
     "output_type": "stream",
     "text": [
      "(13244, 44)\n",
      "(5676, 44)\n"
     ]
    },
    {
     "data": {
      "text/html": [
       "<div>\n",
       "<style scoped>\n",
       "    .dataframe tbody tr th:only-of-type {\n",
       "        vertical-align: middle;\n",
       "    }\n",
       "\n",
       "    .dataframe tbody tr th {\n",
       "        vertical-align: top;\n",
       "    }\n",
       "\n",
       "    .dataframe thead th {\n",
       "        text-align: right;\n",
       "    }\n",
       "</style>\n",
       "<table border=\"1\" class=\"dataframe\">\n",
       "  <thead>\n",
       "    <tr style=\"text-align: right;\">\n",
       "      <th></th>\n",
       "      <th>Année_construction</th>\n",
       "      <th>Deperditions_baies_vitrées</th>\n",
       "      <th>Deperditions_enveloppe</th>\n",
       "      <th>Deperditions_planchers_bas</th>\n",
       "      <th>Deperditions_planchers_hauts</th>\n",
       "      <th>Déperditions_murs</th>\n",
       "      <th>Déperditions_ponts_thermiques</th>\n",
       "      <th>Déperditions_portes</th>\n",
       "      <th>Déperditions_renouvellement_air</th>\n",
       "      <th>Etiquette_DPE_B</th>\n",
       "      <th>Etiquette_DPE_C</th>\n",
       "      <th>Etiquette_DPE_D</th>\n",
       "      <th>Etiquette_DPE_E</th>\n",
       "      <th>Etiquette_DPE_F</th>\n",
       "      <th>Etiquette_DPE_G</th>\n",
       "      <th>Hauteur_sous-plafond</th>\n",
       "      <th>Indicateur_confort_été_insuffisant</th>\n",
       "      <th>Indicateur_confort_été_moyen</th>\n",
       "      <th>Inertie_lourde_(0/1)</th>\n",
       "      <th>Isolation_toiture_(0/1)</th>\n",
       "      <th>Logement_traversant_(0/1)</th>\n",
       "      <th>N°_étage_appartement</th>\n",
       "      <th>Protection_solaire_exterieure_(0/1)</th>\n",
       "      <th>Présence_brasseur_air_(0/1)</th>\n",
       "      <th>Qualité_isolation_enveloppe_insuffisante</th>\n",
       "      <th>Qualité_isolation_enveloppe_moyenne</th>\n",
       "      <th>Qualité_isolation_enveloppe_très bonne</th>\n",
       "      <th>Qualité_isolation_menuiseries_insuffisante</th>\n",
       "      <th>Qualité_isolation_menuiseries_moyenne</th>\n",
       "      <th>Qualité_isolation_menuiseries_très bonne</th>\n",
       "      <th>Qualité_isolation_murs_insuffisante</th>\n",
       "      <th>Qualité_isolation_murs_moyenne</th>\n",
       "      <th>Qualité_isolation_murs_très bonne</th>\n",
       "      <th>Qualité_isolation_plancher_bas_insuffisante</th>\n",
       "      <th>Qualité_isolation_plancher_bas_moyenne</th>\n",
       "      <th>Qualité_isolation_plancher_bas_très bonne</th>\n",
       "      <th>Surface_habitable_logement</th>\n",
       "      <th>Type_énergie_n°1_Bois – Granulés (pellets) ou briquettes</th>\n",
       "      <th>Type_énergie_n°1_Bois – Plaquettes forestières</th>\n",
       "      <th>Type_énergie_n°1_Fioul domestique</th>\n",
       "      <th>Type_énergie_n°1_GPL</th>\n",
       "      <th>Type_énergie_n°1_Gaz naturel</th>\n",
       "      <th>Type_énergie_n°1_Réseau de Chauffage urbain</th>\n",
       "      <th>Type_énergie_n°1_Électricité</th>\n",
       "    </tr>\n",
       "  </thead>\n",
       "  <tbody>\n",
       "    <tr>\n",
       "      <th>18457</th>\n",
       "      <td>2024.000000</td>\n",
       "      <td>26.366667</td>\n",
       "      <td>111.4</td>\n",
       "      <td>26.8</td>\n",
       "      <td>0.0</td>\n",
       "      <td>12.433333</td>\n",
       "      <td>18.5</td>\n",
       "      <td>0.0</td>\n",
       "      <td>27.333333</td>\n",
       "      <td>True</td>\n",
       "      <td>False</td>\n",
       "      <td>False</td>\n",
       "      <td>False</td>\n",
       "      <td>False</td>\n",
       "      <td>False</td>\n",
       "      <td>2.5</td>\n",
       "      <td>False</td>\n",
       "      <td>True</td>\n",
       "      <td>0.0</td>\n",
       "      <td>0.000000</td>\n",
       "      <td>1.0</td>\n",
       "      <td>0.333333</td>\n",
       "      <td>1.0</td>\n",
       "      <td>1.000000</td>\n",
       "      <td>False</td>\n",
       "      <td>False</td>\n",
       "      <td>False</td>\n",
       "      <td>False</td>\n",
       "      <td>False</td>\n",
       "      <td>True</td>\n",
       "      <td>False</td>\n",
       "      <td>False</td>\n",
       "      <td>True</td>\n",
       "      <td>False</td>\n",
       "      <td>False</td>\n",
       "      <td>True</td>\n",
       "      <td>67.7</td>\n",
       "      <td>False</td>\n",
       "      <td>False</td>\n",
       "      <td>False</td>\n",
       "      <td>False</td>\n",
       "      <td>False</td>\n",
       "      <td>True</td>\n",
       "      <td>False</td>\n",
       "    </tr>\n",
       "    <tr>\n",
       "      <th>5282</th>\n",
       "      <td>1988.839438</td>\n",
       "      <td>7.300000</td>\n",
       "      <td>26.9</td>\n",
       "      <td>0.0</td>\n",
       "      <td>0.0</td>\n",
       "      <td>3.000000</td>\n",
       "      <td>4.5</td>\n",
       "      <td>3.7</td>\n",
       "      <td>8.600000</td>\n",
       "      <td>False</td>\n",
       "      <td>False</td>\n",
       "      <td>False</td>\n",
       "      <td>True</td>\n",
       "      <td>False</td>\n",
       "      <td>False</td>\n",
       "      <td>2.5</td>\n",
       "      <td>False</td>\n",
       "      <td>True</td>\n",
       "      <td>0.0</td>\n",
       "      <td>0.000000</td>\n",
       "      <td>0.0</td>\n",
       "      <td>0.000000</td>\n",
       "      <td>1.0</td>\n",
       "      <td>0.000000</td>\n",
       "      <td>True</td>\n",
       "      <td>False</td>\n",
       "      <td>False</td>\n",
       "      <td>False</td>\n",
       "      <td>True</td>\n",
       "      <td>False</td>\n",
       "      <td>False</td>\n",
       "      <td>False</td>\n",
       "      <td>False</td>\n",
       "      <td>False</td>\n",
       "      <td>False</td>\n",
       "      <td>True</td>\n",
       "      <td>18.4</td>\n",
       "      <td>False</td>\n",
       "      <td>False</td>\n",
       "      <td>False</td>\n",
       "      <td>False</td>\n",
       "      <td>False</td>\n",
       "      <td>False</td>\n",
       "      <td>True</td>\n",
       "    </tr>\n",
       "    <tr>\n",
       "      <th>4525</th>\n",
       "      <td>1988.839438</td>\n",
       "      <td>42.400000</td>\n",
       "      <td>102.9</td>\n",
       "      <td>0.0</td>\n",
       "      <td>0.0</td>\n",
       "      <td>7.600000</td>\n",
       "      <td>13.8</td>\n",
       "      <td>0.0</td>\n",
       "      <td>39.100000</td>\n",
       "      <td>False</td>\n",
       "      <td>True</td>\n",
       "      <td>False</td>\n",
       "      <td>False</td>\n",
       "      <td>False</td>\n",
       "      <td>False</td>\n",
       "      <td>2.5</td>\n",
       "      <td>False</td>\n",
       "      <td>True</td>\n",
       "      <td>1.0</td>\n",
       "      <td>0.000000</td>\n",
       "      <td>0.0</td>\n",
       "      <td>0.000000</td>\n",
       "      <td>1.0</td>\n",
       "      <td>0.000000</td>\n",
       "      <td>False</td>\n",
       "      <td>False</td>\n",
       "      <td>True</td>\n",
       "      <td>True</td>\n",
       "      <td>False</td>\n",
       "      <td>False</td>\n",
       "      <td>True</td>\n",
       "      <td>False</td>\n",
       "      <td>False</td>\n",
       "      <td>False</td>\n",
       "      <td>False</td>\n",
       "      <td>True</td>\n",
       "      <td>69.6</td>\n",
       "      <td>False</td>\n",
       "      <td>False</td>\n",
       "      <td>False</td>\n",
       "      <td>False</td>\n",
       "      <td>False</td>\n",
       "      <td>True</td>\n",
       "      <td>False</td>\n",
       "    </tr>\n",
       "    <tr>\n",
       "      <th>17372</th>\n",
       "      <td>2024.000000</td>\n",
       "      <td>82.300000</td>\n",
       "      <td>0.4</td>\n",
       "      <td>41.0</td>\n",
       "      <td>29.8</td>\n",
       "      <td>160.200000</td>\n",
       "      <td>264.1</td>\n",
       "      <td>82.3</td>\n",
       "      <td>439.800000</td>\n",
       "      <td>True</td>\n",
       "      <td>False</td>\n",
       "      <td>False</td>\n",
       "      <td>False</td>\n",
       "      <td>False</td>\n",
       "      <td>False</td>\n",
       "      <td>2.5</td>\n",
       "      <td>False</td>\n",
       "      <td>True</td>\n",
       "      <td>0.0</td>\n",
       "      <td>0.333333</td>\n",
       "      <td>1.0</td>\n",
       "      <td>3.333333</td>\n",
       "      <td>1.0</td>\n",
       "      <td>0.000000</td>\n",
       "      <td>False</td>\n",
       "      <td>False</td>\n",
       "      <td>False</td>\n",
       "      <td>False</td>\n",
       "      <td>False</td>\n",
       "      <td>True</td>\n",
       "      <td>False</td>\n",
       "      <td>False</td>\n",
       "      <td>True</td>\n",
       "      <td>False</td>\n",
       "      <td>False</td>\n",
       "      <td>True</td>\n",
       "      <td>61.1</td>\n",
       "      <td>False</td>\n",
       "      <td>False</td>\n",
       "      <td>False</td>\n",
       "      <td>False</td>\n",
       "      <td>False</td>\n",
       "      <td>True</td>\n",
       "      <td>False</td>\n",
       "    </tr>\n",
       "    <tr>\n",
       "      <th>10504</th>\n",
       "      <td>2006.000000</td>\n",
       "      <td>1152.100000</td>\n",
       "      <td>5648.5</td>\n",
       "      <td>57.1</td>\n",
       "      <td>307.2</td>\n",
       "      <td>588.600000</td>\n",
       "      <td>972.9</td>\n",
       "      <td>14.8</td>\n",
       "      <td>2555.800000</td>\n",
       "      <td>False</td>\n",
       "      <td>True</td>\n",
       "      <td>False</td>\n",
       "      <td>False</td>\n",
       "      <td>False</td>\n",
       "      <td>False</td>\n",
       "      <td>2.7</td>\n",
       "      <td>False</td>\n",
       "      <td>True</td>\n",
       "      <td>0.0</td>\n",
       "      <td>0.000000</td>\n",
       "      <td>1.0</td>\n",
       "      <td>0.000000</td>\n",
       "      <td>1.0</td>\n",
       "      <td>0.666667</td>\n",
       "      <td>False</td>\n",
       "      <td>True</td>\n",
       "      <td>False</td>\n",
       "      <td>False</td>\n",
       "      <td>False</td>\n",
       "      <td>False</td>\n",
       "      <td>False</td>\n",
       "      <td>False</td>\n",
       "      <td>False</td>\n",
       "      <td>False</td>\n",
       "      <td>False</td>\n",
       "      <td>False</td>\n",
       "      <td>92.5</td>\n",
       "      <td>False</td>\n",
       "      <td>False</td>\n",
       "      <td>False</td>\n",
       "      <td>False</td>\n",
       "      <td>True</td>\n",
       "      <td>False</td>\n",
       "      <td>False</td>\n",
       "    </tr>\n",
       "  </tbody>\n",
       "</table>\n",
       "</div>"
      ],
      "text/plain": [
       "       Année_construction  Deperditions_baies_vitrées  Deperditions_enveloppe  \\\n",
       "18457         2024.000000                   26.366667                   111.4   \n",
       "5282          1988.839438                    7.300000                    26.9   \n",
       "4525          1988.839438                   42.400000                   102.9   \n",
       "17372         2024.000000                   82.300000                     0.4   \n",
       "10504         2006.000000                 1152.100000                  5648.5   \n",
       "\n",
       "       Deperditions_planchers_bas  Deperditions_planchers_hauts  \\\n",
       "18457                        26.8                           0.0   \n",
       "5282                          0.0                           0.0   \n",
       "4525                          0.0                           0.0   \n",
       "17372                        41.0                          29.8   \n",
       "10504                        57.1                         307.2   \n",
       "\n",
       "       Déperditions_murs  Déperditions_ponts_thermiques  Déperditions_portes  \\\n",
       "18457          12.433333                           18.5                  0.0   \n",
       "5282            3.000000                            4.5                  3.7   \n",
       "4525            7.600000                           13.8                  0.0   \n",
       "17372         160.200000                          264.1                 82.3   \n",
       "10504         588.600000                          972.9                 14.8   \n",
       "\n",
       "       Déperditions_renouvellement_air  Etiquette_DPE_B  Etiquette_DPE_C  \\\n",
       "18457                        27.333333             True            False   \n",
       "5282                          8.600000            False            False   \n",
       "4525                         39.100000            False             True   \n",
       "17372                       439.800000             True            False   \n",
       "10504                      2555.800000            False             True   \n",
       "\n",
       "       Etiquette_DPE_D  Etiquette_DPE_E  Etiquette_DPE_F  Etiquette_DPE_G  \\\n",
       "18457            False            False            False            False   \n",
       "5282             False             True            False            False   \n",
       "4525             False            False            False            False   \n",
       "17372            False            False            False            False   \n",
       "10504            False            False            False            False   \n",
       "\n",
       "       Hauteur_sous-plafond  Indicateur_confort_été_insuffisant  \\\n",
       "18457                   2.5                               False   \n",
       "5282                    2.5                               False   \n",
       "4525                    2.5                               False   \n",
       "17372                   2.5                               False   \n",
       "10504                   2.7                               False   \n",
       "\n",
       "       Indicateur_confort_été_moyen  Inertie_lourde_(0/1)  \\\n",
       "18457                          True                   0.0   \n",
       "5282                           True                   0.0   \n",
       "4525                           True                   1.0   \n",
       "17372                          True                   0.0   \n",
       "10504                          True                   0.0   \n",
       "\n",
       "       Isolation_toiture_(0/1)  Logement_traversant_(0/1)  \\\n",
       "18457                 0.000000                        1.0   \n",
       "5282                  0.000000                        0.0   \n",
       "4525                  0.000000                        0.0   \n",
       "17372                 0.333333                        1.0   \n",
       "10504                 0.000000                        1.0   \n",
       "\n",
       "       N°_étage_appartement  Protection_solaire_exterieure_(0/1)  \\\n",
       "18457              0.333333                                  1.0   \n",
       "5282               0.000000                                  1.0   \n",
       "4525               0.000000                                  1.0   \n",
       "17372              3.333333                                  1.0   \n",
       "10504              0.000000                                  1.0   \n",
       "\n",
       "       Présence_brasseur_air_(0/1)  Qualité_isolation_enveloppe_insuffisante  \\\n",
       "18457                     1.000000                                     False   \n",
       "5282                      0.000000                                      True   \n",
       "4525                      0.000000                                     False   \n",
       "17372                     0.000000                                     False   \n",
       "10504                     0.666667                                     False   \n",
       "\n",
       "       Qualité_isolation_enveloppe_moyenne  \\\n",
       "18457                                False   \n",
       "5282                                 False   \n",
       "4525                                 False   \n",
       "17372                                False   \n",
       "10504                                 True   \n",
       "\n",
       "       Qualité_isolation_enveloppe_très bonne  \\\n",
       "18457                                   False   \n",
       "5282                                    False   \n",
       "4525                                     True   \n",
       "17372                                   False   \n",
       "10504                                   False   \n",
       "\n",
       "       Qualité_isolation_menuiseries_insuffisante  \\\n",
       "18457                                       False   \n",
       "5282                                        False   \n",
       "4525                                         True   \n",
       "17372                                       False   \n",
       "10504                                       False   \n",
       "\n",
       "       Qualité_isolation_menuiseries_moyenne  \\\n",
       "18457                                  False   \n",
       "5282                                    True   \n",
       "4525                                   False   \n",
       "17372                                  False   \n",
       "10504                                  False   \n",
       "\n",
       "       Qualité_isolation_menuiseries_très bonne  \\\n",
       "18457                                      True   \n",
       "5282                                      False   \n",
       "4525                                      False   \n",
       "17372                                      True   \n",
       "10504                                     False   \n",
       "\n",
       "       Qualité_isolation_murs_insuffisante  Qualité_isolation_murs_moyenne  \\\n",
       "18457                                False                           False   \n",
       "5282                                 False                           False   \n",
       "4525                                  True                           False   \n",
       "17372                                False                           False   \n",
       "10504                                False                           False   \n",
       "\n",
       "       Qualité_isolation_murs_très bonne  \\\n",
       "18457                               True   \n",
       "5282                               False   \n",
       "4525                               False   \n",
       "17372                               True   \n",
       "10504                              False   \n",
       "\n",
       "       Qualité_isolation_plancher_bas_insuffisante  \\\n",
       "18457                                        False   \n",
       "5282                                         False   \n",
       "4525                                         False   \n",
       "17372                                        False   \n",
       "10504                                        False   \n",
       "\n",
       "       Qualité_isolation_plancher_bas_moyenne  \\\n",
       "18457                                   False   \n",
       "5282                                    False   \n",
       "4525                                    False   \n",
       "17372                                   False   \n",
       "10504                                   False   \n",
       "\n",
       "       Qualité_isolation_plancher_bas_très bonne  Surface_habitable_logement  \\\n",
       "18457                                       True                        67.7   \n",
       "5282                                        True                        18.4   \n",
       "4525                                        True                        69.6   \n",
       "17372                                       True                        61.1   \n",
       "10504                                      False                        92.5   \n",
       "\n",
       "       Type_énergie_n°1_Bois – Granulés (pellets) ou briquettes  \\\n",
       "18457                                              False          \n",
       "5282                                               False          \n",
       "4525                                               False          \n",
       "17372                                              False          \n",
       "10504                                              False          \n",
       "\n",
       "       Type_énergie_n°1_Bois – Plaquettes forestières  \\\n",
       "18457                                           False   \n",
       "5282                                            False   \n",
       "4525                                            False   \n",
       "17372                                           False   \n",
       "10504                                           False   \n",
       "\n",
       "       Type_énergie_n°1_Fioul domestique  Type_énergie_n°1_GPL  \\\n",
       "18457                              False                 False   \n",
       "5282                               False                 False   \n",
       "4525                               False                 False   \n",
       "17372                              False                 False   \n",
       "10504                              False                 False   \n",
       "\n",
       "       Type_énergie_n°1_Gaz naturel  \\\n",
       "18457                         False   \n",
       "5282                          False   \n",
       "4525                          False   \n",
       "17372                         False   \n",
       "10504                          True   \n",
       "\n",
       "       Type_énergie_n°1_Réseau de Chauffage urbain  \\\n",
       "18457                                         True   \n",
       "5282                                         False   \n",
       "4525                                          True   \n",
       "17372                                         True   \n",
       "10504                                        False   \n",
       "\n",
       "       Type_énergie_n°1_Électricité  \n",
       "18457                         False  \n",
       "5282                           True  \n",
       "4525                          False  \n",
       "17372                         False  \n",
       "10504                         False  "
      ]
     },
     "execution_count": 126,
     "metadata": {},
     "output_type": "execute_result"
    }
   ],
   "source": [
    "print(X_train.shape)\n",
    "print(X_test.shape)\n",
    "X_test.head()"
   ]
  },
  {
   "cell_type": "markdown",
   "metadata": {},
   "source": [
    "## Régression linéaire multiple"
   ]
  },
  {
   "cell_type": "code",
   "execution_count": 127,
   "metadata": {},
   "outputs": [],
   "source": [
    "from sklearn.linear_model import LinearRegression\n",
    "lr_model = LinearRegression()\n",
    "lr_model = lr_model.fit(X_train,y_train)"
   ]
  },
  {
   "cell_type": "code",
   "execution_count": 128,
   "metadata": {},
   "outputs": [
    {
     "data": {
      "text/html": [
       "<div>\n",
       "<style scoped>\n",
       "    .dataframe tbody tr th:only-of-type {\n",
       "        vertical-align: middle;\n",
       "    }\n",
       "\n",
       "    .dataframe tbody tr th {\n",
       "        vertical-align: top;\n",
       "    }\n",
       "\n",
       "    .dataframe thead th {\n",
       "        text-align: right;\n",
       "    }\n",
       "</style>\n",
       "<table border=\"1\" class=\"dataframe\">\n",
       "  <thead>\n",
       "    <tr style=\"text-align: right;\">\n",
       "      <th></th>\n",
       "      <th>Coef</th>\n",
       "    </tr>\n",
       "  </thead>\n",
       "  <tbody>\n",
       "    <tr>\n",
       "      <th>Année_construction</th>\n",
       "      <td>1.618991e+00</td>\n",
       "    </tr>\n",
       "    <tr>\n",
       "      <th>Deperditions_baies_vitrées</th>\n",
       "      <td>2.971337e-02</td>\n",
       "    </tr>\n",
       "    <tr>\n",
       "      <th>Deperditions_enveloppe</th>\n",
       "      <td>-1.423960e-01</td>\n",
       "    </tr>\n",
       "    <tr>\n",
       "      <th>Deperditions_planchers_bas</th>\n",
       "      <td>-7.007041e-01</td>\n",
       "    </tr>\n",
       "    <tr>\n",
       "      <th>Deperditions_planchers_hauts</th>\n",
       "      <td>8.372150e-02</td>\n",
       "    </tr>\n",
       "    <tr>\n",
       "      <th>Déperditions_murs</th>\n",
       "      <td>2.532645e-01</td>\n",
       "    </tr>\n",
       "    <tr>\n",
       "      <th>Déperditions_ponts_thermiques</th>\n",
       "      <td>1.488407e-01</td>\n",
       "    </tr>\n",
       "    <tr>\n",
       "      <th>Déperditions_portes</th>\n",
       "      <td>-6.659160e-01</td>\n",
       "    </tr>\n",
       "    <tr>\n",
       "      <th>Déperditions_renouvellement_air</th>\n",
       "      <td>3.608966e-01</td>\n",
       "    </tr>\n",
       "    <tr>\n",
       "      <th>Etiquette_DPE_B</th>\n",
       "      <td>2.686231e+02</td>\n",
       "    </tr>\n",
       "    <tr>\n",
       "      <th>Etiquette_DPE_C</th>\n",
       "      <td>1.892605e+01</td>\n",
       "    </tr>\n",
       "    <tr>\n",
       "      <th>Etiquette_DPE_D</th>\n",
       "      <td>2.691839e+02</td>\n",
       "    </tr>\n",
       "    <tr>\n",
       "      <th>Etiquette_DPE_E</th>\n",
       "      <td>5.207935e+02</td>\n",
       "    </tr>\n",
       "    <tr>\n",
       "      <th>Etiquette_DPE_F</th>\n",
       "      <td>8.654184e+02</td>\n",
       "    </tr>\n",
       "    <tr>\n",
       "      <th>Etiquette_DPE_G</th>\n",
       "      <td>9.770226e+02</td>\n",
       "    </tr>\n",
       "    <tr>\n",
       "      <th>Hauteur_sous-plafond</th>\n",
       "      <td>-1.932113e+02</td>\n",
       "    </tr>\n",
       "    <tr>\n",
       "      <th>Indicateur_confort_été_insuffisant</th>\n",
       "      <td>-3.253250e+02</td>\n",
       "    </tr>\n",
       "    <tr>\n",
       "      <th>Indicateur_confort_été_moyen</th>\n",
       "      <td>-1.150635e+02</td>\n",
       "    </tr>\n",
       "    <tr>\n",
       "      <th>Inertie_lourde_(0/1)</th>\n",
       "      <td>-1.632822e+02</td>\n",
       "    </tr>\n",
       "    <tr>\n",
       "      <th>Isolation_toiture_(0/1)</th>\n",
       "      <td>5.189582e+01</td>\n",
       "    </tr>\n",
       "    <tr>\n",
       "      <th>Logement_traversant_(0/1)</th>\n",
       "      <td>-1.393589e+02</td>\n",
       "    </tr>\n",
       "    <tr>\n",
       "      <th>N°_étage_appartement</th>\n",
       "      <td>2.481266e+00</td>\n",
       "    </tr>\n",
       "    <tr>\n",
       "      <th>Protection_solaire_exterieure_(0/1)</th>\n",
       "      <td>-5.169162e+02</td>\n",
       "    </tr>\n",
       "    <tr>\n",
       "      <th>Présence_brasseur_air_(0/1)</th>\n",
       "      <td>-4.308416e+02</td>\n",
       "    </tr>\n",
       "    <tr>\n",
       "      <th>Qualité_isolation_enveloppe_insuffisante</th>\n",
       "      <td>4.385113e+02</td>\n",
       "    </tr>\n",
       "    <tr>\n",
       "      <th>Qualité_isolation_enveloppe_moyenne</th>\n",
       "      <td>1.272120e+02</td>\n",
       "    </tr>\n",
       "    <tr>\n",
       "      <th>Qualité_isolation_enveloppe_très bonne</th>\n",
       "      <td>1.462458e+02</td>\n",
       "    </tr>\n",
       "    <tr>\n",
       "      <th>Qualité_isolation_menuiseries_insuffisante</th>\n",
       "      <td>-1.412666e+02</td>\n",
       "    </tr>\n",
       "    <tr>\n",
       "      <th>Qualité_isolation_menuiseries_moyenne</th>\n",
       "      <td>-1.235123e+02</td>\n",
       "    </tr>\n",
       "    <tr>\n",
       "      <th>Qualité_isolation_menuiseries_très bonne</th>\n",
       "      <td>-5.846461e+01</td>\n",
       "    </tr>\n",
       "    <tr>\n",
       "      <th>Qualité_isolation_murs_insuffisante</th>\n",
       "      <td>7.728460e+01</td>\n",
       "    </tr>\n",
       "    <tr>\n",
       "      <th>Qualité_isolation_murs_moyenne</th>\n",
       "      <td>1.965985e+02</td>\n",
       "    </tr>\n",
       "    <tr>\n",
       "      <th>Qualité_isolation_murs_très bonne</th>\n",
       "      <td>7.314099e+01</td>\n",
       "    </tr>\n",
       "    <tr>\n",
       "      <th>Qualité_isolation_plancher_bas_insuffisante</th>\n",
       "      <td>1.626280e+01</td>\n",
       "    </tr>\n",
       "    <tr>\n",
       "      <th>Qualité_isolation_plancher_bas_moyenne</th>\n",
       "      <td>5.504689e+02</td>\n",
       "    </tr>\n",
       "    <tr>\n",
       "      <th>Qualité_isolation_plancher_bas_très bonne</th>\n",
       "      <td>-2.724731e+02</td>\n",
       "    </tr>\n",
       "    <tr>\n",
       "      <th>Surface_habitable_logement</th>\n",
       "      <td>8.780324e+00</td>\n",
       "    </tr>\n",
       "    <tr>\n",
       "      <th>Type_énergie_n°1_Bois – Granulés (pellets) ou briquettes</th>\n",
       "      <td>-4.390841e+01</td>\n",
       "    </tr>\n",
       "    <tr>\n",
       "      <th>Type_énergie_n°1_Bois – Plaquettes forestières</th>\n",
       "      <td>-3.296918e-12</td>\n",
       "    </tr>\n",
       "    <tr>\n",
       "      <th>Type_énergie_n°1_Fioul domestique</th>\n",
       "      <td>1.189291e+03</td>\n",
       "    </tr>\n",
       "    <tr>\n",
       "      <th>Type_énergie_n°1_GPL</th>\n",
       "      <td>3.983768e+03</td>\n",
       "    </tr>\n",
       "    <tr>\n",
       "      <th>Type_énergie_n°1_Gaz naturel</th>\n",
       "      <td>5.984499e+02</td>\n",
       "    </tr>\n",
       "    <tr>\n",
       "      <th>Type_énergie_n°1_Réseau de Chauffage urbain</th>\n",
       "      <td>9.166606e+01</td>\n",
       "    </tr>\n",
       "    <tr>\n",
       "      <th>Type_énergie_n°1_Électricité</th>\n",
       "      <td>5.359879e+02</td>\n",
       "    </tr>\n",
       "    <tr>\n",
       "      <th>Constante</th>\n",
       "      <td>-2.425859e+03</td>\n",
       "    </tr>\n",
       "  </tbody>\n",
       "</table>\n",
       "</div>"
      ],
      "text/plain": [
       "                                                            Coef\n",
       "Année_construction                                  1.618991e+00\n",
       "Deperditions_baies_vitrées                          2.971337e-02\n",
       "Deperditions_enveloppe                             -1.423960e-01\n",
       "Deperditions_planchers_bas                         -7.007041e-01\n",
       "Deperditions_planchers_hauts                        8.372150e-02\n",
       "Déperditions_murs                                   2.532645e-01\n",
       "Déperditions_ponts_thermiques                       1.488407e-01\n",
       "Déperditions_portes                                -6.659160e-01\n",
       "Déperditions_renouvellement_air                     3.608966e-01\n",
       "Etiquette_DPE_B                                     2.686231e+02\n",
       "Etiquette_DPE_C                                     1.892605e+01\n",
       "Etiquette_DPE_D                                     2.691839e+02\n",
       "Etiquette_DPE_E                                     5.207935e+02\n",
       "Etiquette_DPE_F                                     8.654184e+02\n",
       "Etiquette_DPE_G                                     9.770226e+02\n",
       "Hauteur_sous-plafond                               -1.932113e+02\n",
       "Indicateur_confort_été_insuffisant                 -3.253250e+02\n",
       "Indicateur_confort_été_moyen                       -1.150635e+02\n",
       "Inertie_lourde_(0/1)                               -1.632822e+02\n",
       "Isolation_toiture_(0/1)                             5.189582e+01\n",
       "Logement_traversant_(0/1)                          -1.393589e+02\n",
       "N°_étage_appartement                                2.481266e+00\n",
       "Protection_solaire_exterieure_(0/1)                -5.169162e+02\n",
       "Présence_brasseur_air_(0/1)                        -4.308416e+02\n",
       "Qualité_isolation_enveloppe_insuffisante            4.385113e+02\n",
       "Qualité_isolation_enveloppe_moyenne                 1.272120e+02\n",
       "Qualité_isolation_enveloppe_très bonne              1.462458e+02\n",
       "Qualité_isolation_menuiseries_insuffisante         -1.412666e+02\n",
       "Qualité_isolation_menuiseries_moyenne              -1.235123e+02\n",
       "Qualité_isolation_menuiseries_très bonne           -5.846461e+01\n",
       "Qualité_isolation_murs_insuffisante                 7.728460e+01\n",
       "Qualité_isolation_murs_moyenne                      1.965985e+02\n",
       "Qualité_isolation_murs_très bonne                   7.314099e+01\n",
       "Qualité_isolation_plancher_bas_insuffisante         1.626280e+01\n",
       "Qualité_isolation_plancher_bas_moyenne              5.504689e+02\n",
       "Qualité_isolation_plancher_bas_très bonne          -2.724731e+02\n",
       "Surface_habitable_logement                          8.780324e+00\n",
       "Type_énergie_n°1_Bois – Granulés (pellets) ou b... -4.390841e+01\n",
       "Type_énergie_n°1_Bois – Plaquettes forestières     -3.296918e-12\n",
       "Type_énergie_n°1_Fioul domestique                   1.189291e+03\n",
       "Type_énergie_n°1_GPL                                3.983768e+03\n",
       "Type_énergie_n°1_Gaz naturel                        5.984499e+02\n",
       "Type_énergie_n°1_Réseau de Chauffage urbain         9.166606e+01\n",
       "Type_énergie_n°1_Électricité                        5.359879e+02\n",
       "Constante                                          -2.425859e+03"
      ]
     },
     "execution_count": 128,
     "metadata": {},
     "output_type": "execute_result"
    }
   ],
   "source": [
    "coef = pd.DataFrame(lr_model.coef_ ,index = X_train.columns, columns=['Coef'])\n",
    "coef.loc['Constante'] = lr_model.intercept_\n",
    "coef"
   ]
  },
  {
   "cell_type": "markdown",
   "metadata": {},
   "source": [
    "## Evaluation de modèle"
   ]
  },
  {
   "cell_type": "code",
   "execution_count": 129,
   "metadata": {},
   "outputs": [
    {
     "data": {
      "text/plain": [
       "array([-154.57273907,  938.36803371,   51.95531068, ...,  346.39413539,\n",
       "       2163.2824538 ,  602.2926149 ])"
      ]
     },
     "execution_count": 129,
     "metadata": {},
     "output_type": "execute_result"
    }
   ],
   "source": [
    "y_pred = lr_model.predict(X_test)\n",
    "y_pred"
   ]
  },
  {
   "cell_type": "code",
   "execution_count": 130,
   "metadata": {},
   "outputs": [
    {
     "data": {
      "image/png": "[encoded data removed]",
      "text/plain": [
       "<Figure size 1000x600 with 1 Axes>"
      ]
     },
     "metadata": {},
     "output_type": "display_data"
    }
   ],
   "source": [
    "# Taille de la figure\n",
    "plt.figure(figsize=(10, 6))\n",
    "\n",
    "# Nuage de points pour les valeurs observées et prédites\n",
    "plt.scatter(y_test, y_pred, color='black', label='Valeurs Observées vs Prédictions')\n",
    "\n",
    "# Tracer la droite d'équation y = x\n",
    "max_val = max(y_test.max(), y_pred.max())\n",
    "plt.plot([0, max_val], [0, max_val], color='blue', linestyle='--', label='y = x (Droite de référence)')\n",
    "\n",
    "# Définir les limites des axes\n",
    "plt.xlim(0, max_val)\n",
    "plt.ylim(0, max_val)\n",
    "\n",
    "# Assurer que les axes ont la même échelle\n",
    "plt.gca().set_aspect('equal', adjustable='box')\n",
    "\n",
    "# Ajouter des labels et une légende\n",
    "plt.xlabel('Valeurs Observées')\n",
    "plt.ylabel('Valeurs Prédites')\n",
    "plt.title('Nuage de Points: Valeurs Observées vs Prédictions')\n",
    "plt.legend()\n",
    "\n",
    "# Afficher le graphique\n",
    "plt.show()"
   ]
  },
  {
   "cell_type": "code",
   "execution_count": 131,
   "metadata": {},
   "outputs": [
    {
     "name": "stdout",
     "output_type": "stream",
     "text": [
      "RMSE : 5941.421167637796\n",
      "R² : 0.01830237579193328\n"
     ]
    }
   ],
   "source": [
    "from sklearn.metrics import mean_squared_error, r2_score\n",
    "print(\"RMSE : \" + str(mean_squared_error(y_test, y_pred, squared= False)))\n",
    "print(\"R² : \" + str(r2_score(y_test, y_pred)))"
   ]
  },
  {
   "cell_type": "markdown",
   "metadata": {},
   "source": [
    "## D'autres méthodes"
   ]
  },
  {
   "cell_type": "markdown",
   "metadata": {},
   "source": [
    "### Ridge"
   ]
  },
  {
   "cell_type": "code",
   "execution_count": null,
   "metadata": {},
   "outputs": [],
   "source": [
    "from sklearn.linear_model import Ridge\n",
    "ridge_model = Ridge(alpha=0)\n",
    "ridge_model = ridge_model.fit(X_train,y_train)\n",
    "\n",
    "y_pred = ridge_model.predict(X_test)\n",
    "\n",
    "print(\"RMSE : \" + str(mean_squared_error(y_test, y_pred, squared= False)))\n",
    "print(\"R² : \" + str(r2_score(y_test, y_pred)))"
   ]
  },
  {
   "cell_type": "code",
   "execution_count": null,
   "metadata": {},
   "outputs": [],
   "source": [
    "coef = pd.DataFrame(ridge_model.coef_ ,index = X_train.columns, columns=['Coef'])\n",
    "coef.loc['Constante'] = ridge_model.intercept_\n",
    "coef"
   ]
  },
  {
   "cell_type": "markdown",
   "metadata": {},
   "source": [
    "### Lasso"
   ]
  },
  {
   "cell_type": "code",
   "execution_count": null,
   "metadata": {},
   "outputs": [],
   "source": [
    "from sklearn.linear_model import Lasso\n",
    "lasso_model = Lasso(alpha=10)\n",
    "lasso_model = lasso_model.fit(X_train,y_train)\n",
    "\n",
    "y_pred = lasso_model.predict(X_test)\n",
    "\n",
    "print(\"RMSE : \" + str(mean_squared_error(y_test, y_pred, squared= False)))\n",
    "print(\"R² : \" + str(r2_score(y_test, y_pred)))"
   ]
  },
  {
   "cell_type": "code",
   "execution_count": null,
   "metadata": {},
   "outputs": [],
   "source": [
    "coef = pd.DataFrame(lasso_model.coef_ ,\n",
    "                    index = X_train.columns, columns=['Coef'])\n",
    "coef.loc['Constante'] = lasso_model.intercept_\n",
    "coef"
   ]
  },
  {
   "cell_type": "code",
   "execution_count": null,
   "metadata": {},
   "outputs": [],
   "source": [
    " "
   ]
  }
 ],
 "metadata": {
  "kernelspec": {
   "display_name": "M1lyon",
   "language": "python",
   "name": "python3"
  },
  "language_info": {
   "codemirror_mode": {
    "name": "ipython",
    "version": 3
   },
   "file_extension": ".py",
   "mimetype": "text/x-python",
   "name": "python",
   "nbconvert_exporter": "python",
   "pygments_lexer": "ipython3",
   "version": "3.11.7"
  }
 },
 "nbformat": 4,
 "nbformat_minor": 2
}
