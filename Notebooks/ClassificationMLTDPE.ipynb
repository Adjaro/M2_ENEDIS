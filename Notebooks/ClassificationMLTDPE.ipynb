{
 "cells": [
  {
   "cell_type": "markdown",
   "metadata": {},
   "source": [
    "# Modèle de classification Ethiquette DPE"
   ]
  },
  {
   "cell_type": "markdown",
   "metadata": {},
   "source": [
    "## Chargement du modele"
   ]
  },
  {
   "cell_type": "code",
   "execution_count": 191,
   "metadata": {},
   "outputs": [],
   "source": [
    "import pandas as pd\n",
    "import seaborn as sns\n",
    "import matplotlib.pyplot as plt\n",
    "import numpy as np"
   ]
  },
  {
   "cell_type": "code",
   "execution_count": 192,
   "metadata": {},
   "outputs": [
    {
     "name": "stderr",
     "output_type": "stream",
     "text": [
      "C:\\Users\\karam\\AppData\\Local\\Temp\\ipykernel_15684\\2385052526.py:1: DtypeWarning: Columns (3,27,39,106) have mixed types. Specify dtype option on import or set low_memory=False.\n",
      "  data = pd.read_csv(\"D:\\\\M2 SISE\\\\Python Machine Learning\\\\Projet\\\\Performance_Energetique\\\\Data\\\\data69rhone.csv\")\n"
     ]
    },
    {
     "name": "stdout",
     "output_type": "stream",
     "text": [
      "(287165, 127)\n"
     ]
    },
    {
     "data": {
      "text/html": [
       "<div>\n",
       "<style scoped>\n",
       "    .dataframe tbody tr th:only-of-type {\n",
       "        vertical-align: middle;\n",
       "    }\n",
       "\n",
       "    .dataframe tbody tr th {\n",
       "        vertical-align: top;\n",
       "    }\n",
       "\n",
       "    .dataframe thead th {\n",
       "        text-align: right;\n",
       "    }\n",
       "</style>\n",
       "<table border=\"1\" class=\"dataframe\">\n",
       "  <thead>\n",
       "    <tr style=\"text-align: right;\">\n",
       "      <th></th>\n",
       "      <th>Conso_chauffage_dépensier_é_finale</th>\n",
       "      <th>Nom__commune_(BAN)</th>\n",
       "      <th>Emission_GES_chauffage</th>\n",
       "      <th>Besoin_refroidissement</th>\n",
       "      <th>Coût_total_5_usages</th>\n",
       "      <th>Coordonnée_cartographique_X_(BAN)</th>\n",
       "      <th>Nombre_niveau_logement</th>\n",
       "      <th>Type_installation_ECS_(général)</th>\n",
       "      <th>Déperditions_murs</th>\n",
       "      <th>Conso_5_usages_par_m²_é_primaire</th>\n",
       "      <th>...</th>\n",
       "      <th>Coût_chauffage_énergie_n°2</th>\n",
       "      <th>N°_DPE_immeuble_associé</th>\n",
       "      <th>Catégorie_ENR</th>\n",
       "      <th>Logement</th>\n",
       "      <th>Annee_reception_DPE</th>\n",
       "      <th>Somme_coûts</th>\n",
       "      <th>Vérification_coût_total</th>\n",
       "      <th>Coût chauffage en %</th>\n",
       "      <th>passoire_energetique</th>\n",
       "      <th>Periode_construction</th>\n",
       "    </tr>\n",
       "  </thead>\n",
       "  <tbody>\n",
       "    <tr>\n",
       "      <th>0</th>\n",
       "      <td>5849.5</td>\n",
       "      <td>Lyon</td>\n",
       "      <td>380.0</td>\n",
       "      <td>0</td>\n",
       "      <td>1360.0</td>\n",
       "      <td>842365.11</td>\n",
       "      <td>1.0</td>\n",
       "      <td>individuel</td>\n",
       "      <td>57.3</td>\n",
       "      <td>535.0</td>\n",
       "      <td>...</td>\n",
       "      <td>NaN</td>\n",
       "      <td>NaN</td>\n",
       "      <td>NaN</td>\n",
       "      <td>ancien</td>\n",
       "      <td>2024</td>\n",
       "      <td>1360.0</td>\n",
       "      <td>True</td>\n",
       "      <td>76.470588</td>\n",
       "      <td>True</td>\n",
       "      <td>Avant 1960</td>\n",
       "    </tr>\n",
       "    <tr>\n",
       "      <th>1</th>\n",
       "      <td>10243.9</td>\n",
       "      <td>Lyon</td>\n",
       "      <td>669.0</td>\n",
       "      <td>0</td>\n",
       "      <td>2195.5</td>\n",
       "      <td>842432.78</td>\n",
       "      <td>1.0</td>\n",
       "      <td>individuel</td>\n",
       "      <td>85.1</td>\n",
       "      <td>583.0</td>\n",
       "      <td>...</td>\n",
       "      <td>NaN</td>\n",
       "      <td>NaN</td>\n",
       "      <td>NaN</td>\n",
       "      <td>ancien</td>\n",
       "      <td>2024</td>\n",
       "      <td>2195.5</td>\n",
       "      <td>False</td>\n",
       "      <td>80.441813</td>\n",
       "      <td>True</td>\n",
       "      <td>NaN</td>\n",
       "    </tr>\n",
       "    <tr>\n",
       "      <th>2</th>\n",
       "      <td>15941.8</td>\n",
       "      <td>Lyon</td>\n",
       "      <td>2996.1</td>\n",
       "      <td>0</td>\n",
       "      <td>1684.8</td>\n",
       "      <td>842540.42</td>\n",
       "      <td>1.0</td>\n",
       "      <td>individuel</td>\n",
       "      <td>82.3</td>\n",
       "      <td>386.0</td>\n",
       "      <td>...</td>\n",
       "      <td>0.0</td>\n",
       "      <td>NaN</td>\n",
       "      <td>NaN</td>\n",
       "      <td>ancien</td>\n",
       "      <td>2024</td>\n",
       "      <td>1684.8</td>\n",
       "      <td>False</td>\n",
       "      <td>83.891263</td>\n",
       "      <td>True</td>\n",
       "      <td>NaN</td>\n",
       "    </tr>\n",
       "    <tr>\n",
       "      <th>3</th>\n",
       "      <td>10499.9</td>\n",
       "      <td>Lyon</td>\n",
       "      <td>1936.4</td>\n",
       "      <td>0</td>\n",
       "      <td>1369.4</td>\n",
       "      <td>842600.66</td>\n",
       "      <td>1.0</td>\n",
       "      <td>individuel</td>\n",
       "      <td>24.9</td>\n",
       "      <td>156.0</td>\n",
       "      <td>...</td>\n",
       "      <td>0.0</td>\n",
       "      <td>NaN</td>\n",
       "      <td>NaN</td>\n",
       "      <td>ancien</td>\n",
       "      <td>2024</td>\n",
       "      <td>1369.3</td>\n",
       "      <td>False</td>\n",
       "      <td>69.818899</td>\n",
       "      <td>False</td>\n",
       "      <td>NaN</td>\n",
       "    </tr>\n",
       "    <tr>\n",
       "      <th>4</th>\n",
       "      <td>956.1</td>\n",
       "      <td>Lyon</td>\n",
       "      <td>58.7</td>\n",
       "      <td>0</td>\n",
       "      <td>544.6</td>\n",
       "      <td>842544.94</td>\n",
       "      <td>1.0</td>\n",
       "      <td>individuel</td>\n",
       "      <td>3.6</td>\n",
       "      <td>152.0</td>\n",
       "      <td>...</td>\n",
       "      <td>NaN</td>\n",
       "      <td>NaN</td>\n",
       "      <td>NaN</td>\n",
       "      <td>ancien</td>\n",
       "      <td>2024</td>\n",
       "      <td>544.6</td>\n",
       "      <td>True</td>\n",
       "      <td>36.412046</td>\n",
       "      <td>False</td>\n",
       "      <td>NaN</td>\n",
       "    </tr>\n",
       "  </tbody>\n",
       "</table>\n",
       "<p>5 rows × 127 columns</p>\n",
       "</div>"
      ],
      "text/plain": [
       "   Conso_chauffage_dépensier_é_finale Nom__commune_(BAN)  \\\n",
       "0                              5849.5               Lyon   \n",
       "1                             10243.9               Lyon   \n",
       "2                             15941.8               Lyon   \n",
       "3                             10499.9               Lyon   \n",
       "4                               956.1               Lyon   \n",
       "\n",
       "   Emission_GES_chauffage Besoin_refroidissement  Coût_total_5_usages  \\\n",
       "0                   380.0                      0               1360.0   \n",
       "1                   669.0                      0               2195.5   \n",
       "2                  2996.1                      0               1684.8   \n",
       "3                  1936.4                      0               1369.4   \n",
       "4                    58.7                      0                544.6   \n",
       "\n",
       "   Coordonnée_cartographique_X_(BAN)  Nombre_niveau_logement  \\\n",
       "0                          842365.11                     1.0   \n",
       "1                          842432.78                     1.0   \n",
       "2                          842540.42                     1.0   \n",
       "3                          842600.66                     1.0   \n",
       "4                          842544.94                     1.0   \n",
       "\n",
       "  Type_installation_ECS_(général)  Déperditions_murs  \\\n",
       "0                      individuel               57.3   \n",
       "1                      individuel               85.1   \n",
       "2                      individuel               82.3   \n",
       "3                      individuel               24.9   \n",
       "4                      individuel                3.6   \n",
       "\n",
       "   Conso_5_usages_par_m²_é_primaire  ...  Coût_chauffage_énergie_n°2  \\\n",
       "0                             535.0  ...                         NaN   \n",
       "1                             583.0  ...                         NaN   \n",
       "2                             386.0  ...                         0.0   \n",
       "3                             156.0  ...                         0.0   \n",
       "4                             152.0  ...                         NaN   \n",
       "\n",
       "   N°_DPE_immeuble_associé  Catégorie_ENR  Logement  Annee_reception_DPE  \\\n",
       "0                      NaN            NaN    ancien                 2024   \n",
       "1                      NaN            NaN    ancien                 2024   \n",
       "2                      NaN            NaN    ancien                 2024   \n",
       "3                      NaN            NaN    ancien                 2024   \n",
       "4                      NaN            NaN    ancien                 2024   \n",
       "\n",
       "   Somme_coûts  Vérification_coût_total  Coût chauffage en %  \\\n",
       "0       1360.0                     True            76.470588   \n",
       "1       2195.5                    False            80.441813   \n",
       "2       1684.8                    False            83.891263   \n",
       "3       1369.3                    False            69.818899   \n",
       "4        544.6                     True            36.412046   \n",
       "\n",
       "  passoire_energetique Periode_construction  \n",
       "0                 True           Avant 1960  \n",
       "1                 True                  NaN  \n",
       "2                 True                  NaN  \n",
       "3                False                  NaN  \n",
       "4                False                  NaN  \n",
       "\n",
       "[5 rows x 127 columns]"
      ]
     },
     "execution_count": 192,
     "metadata": {},
     "output_type": "execute_result"
    }
   ],
   "source": [
    "data = pd.read_csv(\"D:\\\\M2 SISE\\\\Python Machine Learning\\\\Projet\\\\Performance_Energetique\\\\Data\\\\data69rhone.csv\")\n",
    "print(data.shape)\n",
    "data.head()"
   ]
  },
  {
   "cell_type": "code",
   "execution_count": 193,
   "metadata": {},
   "outputs": [
    {
     "data": {
      "text/plain": [
       "0         Avant 1960\n",
       "1                NaN\n",
       "2                NaN\n",
       "3                NaN\n",
       "4                NaN\n",
       "             ...    \n",
       "287160    Après 2010\n",
       "287161    Après 2010\n",
       "287162    Après 2010\n",
       "287163    Après 2010\n",
       "287164    Après 2010\n",
       "Name: Periode_construction, Length: 287165, dtype: object"
      ]
     },
     "execution_count": 193,
     "metadata": {},
     "output_type": "execute_result"
    }
   ],
   "source": [
    "data['Periode_construction']"
   ]
  },
  {
   "cell_type": "code",
   "execution_count": 194,
   "metadata": {},
   "outputs": [
    {
     "name": "stdout",
     "output_type": "stream",
     "text": [
      "Valeurs manquantes:\n",
      " Catégorie_ENR                           222081\n",
      "N°_DPE_immeuble_associé                 206930\n",
      "Appartement_non_visité_(0/1)            180027\n",
      "Nombre_niveau_immeuble                  167795\n",
      "Inertie_lourde_(0/1)                    136876\n",
      "                                         ...  \n",
      "Conso_chauffage_é_finale                     6\n",
      "Emission_GES_chauffage_dépensier             6\n",
      "Conso_chauffage_dépensier_é_primaire         6\n",
      "Conso_auxiliaires_é_finale                   1\n",
      "Ubat_W/m²_K                                  1\n",
      "Length: 80, dtype: int64\n"
     ]
    }
   ],
   "source": [
    "# Vérification des valeurs manquantes par colonne\n",
    "missing_data = data.isnull().sum().sort_values(ascending=False)\n",
    "print(\"Valeurs manquantes:\\n\", missing_data[missing_data > 0])"
   ]
  },
  {
   "cell_type": "code",
   "execution_count": 195,
   "metadata": {},
   "outputs": [
    {
     "name": "stdout",
     "output_type": "stream",
     "text": [
      "0\n"
     ]
    }
   ],
   "source": [
    "# Affiche le nombre de valeurs manquantes pour chaque colonne\n",
    "print(data[\"Etiquette_DPE\"].isnull().sum())"
   ]
  },
  {
   "cell_type": "code",
   "execution_count": null,
   "metadata": {},
   "outputs": [
    {
     "data": {
      "text/plain": [
       "0         G\n",
       "1         G\n",
       "2         F\n",
       "3         D\n",
       "4         C\n",
       "         ..\n",
       "287160    A\n",
       "287161    A\n",
       "287162    A\n",
       "287163    A\n",
       "287164    A\n",
       "Name: Etiquette_DPE, Length: 287165, dtype: object"
      ]
     },
     "execution_count": 196,
     "metadata": {},
     "output_type": "execute_result"
    }
   ],
   "source": [
    "data['Etiquette_DPE']\n",
    "\n"
   ]
  },
  {
   "cell_type": "code",
   "execution_count": 197,
   "metadata": {},
   "outputs": [
    {
     "name": "stderr",
     "output_type": "stream",
     "text": [
      "C:\\Users\\karam\\AppData\\Local\\Temp\\ipykernel_15684\\1086663217.py:3: FutureWarning: A value is trying to be set on a copy of a DataFrame or Series through chained assignment using an inplace method.\n",
      "The behavior will change in pandas 3.0. This inplace method will never work because the intermediate object on which we are setting values always behaves as a copy.\n",
      "\n",
      "For example, when doing 'df[col].method(value, inplace=True)', try using 'df.method({col: value}, inplace=True)' or df[col] = df[col].method(value) instead, to perform the operation inplace on the original object.\n",
      "\n",
      "\n",
      "  data[col].fillna(data[col].median(), inplace=True)\n",
      "C:\\Users\\karam\\AppData\\Local\\Temp\\ipykernel_15684\\1086663217.py:3: FutureWarning: A value is trying to be set on a copy of a DataFrame or Series through chained assignment using an inplace method.\n",
      "The behavior will change in pandas 3.0. This inplace method will never work because the intermediate object on which we are setting values always behaves as a copy.\n",
      "\n",
      "For example, when doing 'df[col].method(value, inplace=True)', try using 'df.method({col: value}, inplace=True)' or df[col] = df[col].method(value) instead, to perform the operation inplace on the original object.\n",
      "\n",
      "\n",
      "  data[col].fillna(data[col].median(), inplace=True)\n",
      "C:\\Users\\karam\\AppData\\Local\\Temp\\ipykernel_15684\\1086663217.py:3: FutureWarning: A value is trying to be set on a copy of a DataFrame or Series through chained assignment using an inplace method.\n",
      "The behavior will change in pandas 3.0. This inplace method will never work because the intermediate object on which we are setting values always behaves as a copy.\n",
      "\n",
      "For example, when doing 'df[col].method(value, inplace=True)', try using 'df.method({col: value}, inplace=True)' or df[col] = df[col].method(value) instead, to perform the operation inplace on the original object.\n",
      "\n",
      "\n",
      "  data[col].fillna(data[col].median(), inplace=True)\n",
      "C:\\Users\\karam\\AppData\\Local\\Temp\\ipykernel_15684\\1086663217.py:3: FutureWarning: A value is trying to be set on a copy of a DataFrame or Series through chained assignment using an inplace method.\n",
      "The behavior will change in pandas 3.0. This inplace method will never work because the intermediate object on which we are setting values always behaves as a copy.\n",
      "\n",
      "For example, when doing 'df[col].method(value, inplace=True)', try using 'df.method({col: value}, inplace=True)' or df[col] = df[col].method(value) instead, to perform the operation inplace on the original object.\n",
      "\n",
      "\n",
      "  data[col].fillna(data[col].median(), inplace=True)\n",
      "C:\\Users\\karam\\AppData\\Local\\Temp\\ipykernel_15684\\1086663217.py:3: FutureWarning: A value is trying to be set on a copy of a DataFrame or Series through chained assignment using an inplace method.\n",
      "The behavior will change in pandas 3.0. This inplace method will never work because the intermediate object on which we are setting values always behaves as a copy.\n",
      "\n",
      "For example, when doing 'df[col].method(value, inplace=True)', try using 'df.method({col: value}, inplace=True)' or df[col] = df[col].method(value) instead, to perform the operation inplace on the original object.\n",
      "\n",
      "\n",
      "  data[col].fillna(data[col].median(), inplace=True)\n",
      "C:\\Users\\karam\\AppData\\Local\\Temp\\ipykernel_15684\\1086663217.py:3: FutureWarning: A value is trying to be set on a copy of a DataFrame or Series through chained assignment using an inplace method.\n",
      "The behavior will change in pandas 3.0. This inplace method will never work because the intermediate object on which we are setting values always behaves as a copy.\n",
      "\n",
      "For example, when doing 'df[col].method(value, inplace=True)', try using 'df.method({col: value}, inplace=True)' or df[col] = df[col].method(value) instead, to perform the operation inplace on the original object.\n",
      "\n",
      "\n",
      "  data[col].fillna(data[col].median(), inplace=True)\n",
      "C:\\Users\\karam\\AppData\\Local\\Temp\\ipykernel_15684\\1086663217.py:3: FutureWarning: A value is trying to be set on a copy of a DataFrame or Series through chained assignment using an inplace method.\n",
      "The behavior will change in pandas 3.0. This inplace method will never work because the intermediate object on which we are setting values always behaves as a copy.\n",
      "\n",
      "For example, when doing 'df[col].method(value, inplace=True)', try using 'df.method({col: value}, inplace=True)' or df[col] = df[col].method(value) instead, to perform the operation inplace on the original object.\n",
      "\n",
      "\n",
      "  data[col].fillna(data[col].median(), inplace=True)\n",
      "C:\\Users\\karam\\AppData\\Local\\Temp\\ipykernel_15684\\1086663217.py:3: FutureWarning: A value is trying to be set on a copy of a DataFrame or Series through chained assignment using an inplace method.\n",
      "The behavior will change in pandas 3.0. This inplace method will never work because the intermediate object on which we are setting values always behaves as a copy.\n",
      "\n",
      "For example, when doing 'df[col].method(value, inplace=True)', try using 'df.method({col: value}, inplace=True)' or df[col] = df[col].method(value) instead, to perform the operation inplace on the original object.\n",
      "\n",
      "\n",
      "  data[col].fillna(data[col].median(), inplace=True)\n",
      "C:\\Users\\karam\\AppData\\Local\\Temp\\ipykernel_15684\\1086663217.py:3: FutureWarning: A value is trying to be set on a copy of a DataFrame or Series through chained assignment using an inplace method.\n",
      "The behavior will change in pandas 3.0. This inplace method will never work because the intermediate object on which we are setting values always behaves as a copy.\n",
      "\n",
      "For example, when doing 'df[col].method(value, inplace=True)', try using 'df.method({col: value}, inplace=True)' or df[col] = df[col].method(value) instead, to perform the operation inplace on the original object.\n",
      "\n",
      "\n",
      "  data[col].fillna(data[col].median(), inplace=True)\n",
      "C:\\Users\\karam\\AppData\\Local\\Temp\\ipykernel_15684\\1086663217.py:3: FutureWarning: A value is trying to be set on a copy of a DataFrame or Series through chained assignment using an inplace method.\n",
      "The behavior will change in pandas 3.0. This inplace method will never work because the intermediate object on which we are setting values always behaves as a copy.\n",
      "\n",
      "For example, when doing 'df[col].method(value, inplace=True)', try using 'df.method({col: value}, inplace=True)' or df[col] = df[col].method(value) instead, to perform the operation inplace on the original object.\n",
      "\n",
      "\n",
      "  data[col].fillna(data[col].median(), inplace=True)\n",
      "C:\\Users\\karam\\AppData\\Local\\Temp\\ipykernel_15684\\1086663217.py:3: FutureWarning: A value is trying to be set on a copy of a DataFrame or Series through chained assignment using an inplace method.\n",
      "The behavior will change in pandas 3.0. This inplace method will never work because the intermediate object on which we are setting values always behaves as a copy.\n",
      "\n",
      "For example, when doing 'df[col].method(value, inplace=True)', try using 'df.method({col: value}, inplace=True)' or df[col] = df[col].method(value) instead, to perform the operation inplace on the original object.\n",
      "\n",
      "\n",
      "  data[col].fillna(data[col].median(), inplace=True)\n",
      "C:\\Users\\karam\\AppData\\Local\\Temp\\ipykernel_15684\\1086663217.py:3: FutureWarning: A value is trying to be set on a copy of a DataFrame or Series through chained assignment using an inplace method.\n",
      "The behavior will change in pandas 3.0. This inplace method will never work because the intermediate object on which we are setting values always behaves as a copy.\n",
      "\n",
      "For example, when doing 'df[col].method(value, inplace=True)', try using 'df.method({col: value}, inplace=True)' or df[col] = df[col].method(value) instead, to perform the operation inplace on the original object.\n",
      "\n",
      "\n",
      "  data[col].fillna(data[col].median(), inplace=True)\n",
      "C:\\Users\\karam\\AppData\\Local\\Temp\\ipykernel_15684\\1086663217.py:3: FutureWarning: A value is trying to be set on a copy of a DataFrame or Series through chained assignment using an inplace method.\n",
      "The behavior will change in pandas 3.0. This inplace method will never work because the intermediate object on which we are setting values always behaves as a copy.\n",
      "\n",
      "For example, when doing 'df[col].method(value, inplace=True)', try using 'df.method({col: value}, inplace=True)' or df[col] = df[col].method(value) instead, to perform the operation inplace on the original object.\n",
      "\n",
      "\n",
      "  data[col].fillna(data[col].median(), inplace=True)\n",
      "C:\\Users\\karam\\AppData\\Local\\Temp\\ipykernel_15684\\1086663217.py:3: FutureWarning: A value is trying to be set on a copy of a DataFrame or Series through chained assignment using an inplace method.\n",
      "The behavior will change in pandas 3.0. This inplace method will never work because the intermediate object on which we are setting values always behaves as a copy.\n",
      "\n",
      "For example, when doing 'df[col].method(value, inplace=True)', try using 'df.method({col: value}, inplace=True)' or df[col] = df[col].method(value) instead, to perform the operation inplace on the original object.\n",
      "\n",
      "\n",
      "  data[col].fillna(data[col].median(), inplace=True)\n",
      "C:\\Users\\karam\\AppData\\Local\\Temp\\ipykernel_15684\\1086663217.py:3: FutureWarning: A value is trying to be set on a copy of a DataFrame or Series through chained assignment using an inplace method.\n",
      "The behavior will change in pandas 3.0. This inplace method will never work because the intermediate object on which we are setting values always behaves as a copy.\n",
      "\n",
      "For example, when doing 'df[col].method(value, inplace=True)', try using 'df.method({col: value}, inplace=True)' or df[col] = df[col].method(value) instead, to perform the operation inplace on the original object.\n",
      "\n",
      "\n",
      "  data[col].fillna(data[col].median(), inplace=True)\n",
      "C:\\Users\\karam\\AppData\\Local\\Temp\\ipykernel_15684\\1086663217.py:3: FutureWarning: A value is trying to be set on a copy of a DataFrame or Series through chained assignment using an inplace method.\n",
      "The behavior will change in pandas 3.0. This inplace method will never work because the intermediate object on which we are setting values always behaves as a copy.\n",
      "\n",
      "For example, when doing 'df[col].method(value, inplace=True)', try using 'df.method({col: value}, inplace=True)' or df[col] = df[col].method(value) instead, to perform the operation inplace on the original object.\n",
      "\n",
      "\n",
      "  data[col].fillna(data[col].median(), inplace=True)\n",
      "C:\\Users\\karam\\AppData\\Local\\Temp\\ipykernel_15684\\1086663217.py:3: FutureWarning: A value is trying to be set on a copy of a DataFrame or Series through chained assignment using an inplace method.\n",
      "The behavior will change in pandas 3.0. This inplace method will never work because the intermediate object on which we are setting values always behaves as a copy.\n",
      "\n",
      "For example, when doing 'df[col].method(value, inplace=True)', try using 'df.method({col: value}, inplace=True)' or df[col] = df[col].method(value) instead, to perform the operation inplace on the original object.\n",
      "\n",
      "\n",
      "  data[col].fillna(data[col].median(), inplace=True)\n",
      "C:\\Users\\karam\\AppData\\Local\\Temp\\ipykernel_15684\\1086663217.py:3: FutureWarning: A value is trying to be set on a copy of a DataFrame or Series through chained assignment using an inplace method.\n",
      "The behavior will change in pandas 3.0. This inplace method will never work because the intermediate object on which we are setting values always behaves as a copy.\n",
      "\n",
      "For example, when doing 'df[col].method(value, inplace=True)', try using 'df.method({col: value}, inplace=True)' or df[col] = df[col].method(value) instead, to perform the operation inplace on the original object.\n",
      "\n",
      "\n",
      "  data[col].fillna(data[col].median(), inplace=True)\n",
      "C:\\Users\\karam\\AppData\\Local\\Temp\\ipykernel_15684\\1086663217.py:3: FutureWarning: A value is trying to be set on a copy of a DataFrame or Series through chained assignment using an inplace method.\n",
      "The behavior will change in pandas 3.0. This inplace method will never work because the intermediate object on which we are setting values always behaves as a copy.\n",
      "\n",
      "For example, when doing 'df[col].method(value, inplace=True)', try using 'df.method({col: value}, inplace=True)' or df[col] = df[col].method(value) instead, to perform the operation inplace on the original object.\n",
      "\n",
      "\n",
      "  data[col].fillna(data[col].median(), inplace=True)\n",
      "C:\\Users\\karam\\AppData\\Local\\Temp\\ipykernel_15684\\1086663217.py:3: FutureWarning: A value is trying to be set on a copy of a DataFrame or Series through chained assignment using an inplace method.\n",
      "The behavior will change in pandas 3.0. This inplace method will never work because the intermediate object on which we are setting values always behaves as a copy.\n",
      "\n",
      "For example, when doing 'df[col].method(value, inplace=True)', try using 'df.method({col: value}, inplace=True)' or df[col] = df[col].method(value) instead, to perform the operation inplace on the original object.\n",
      "\n",
      "\n",
      "  data[col].fillna(data[col].median(), inplace=True)\n",
      "C:\\Users\\karam\\AppData\\Local\\Temp\\ipykernel_15684\\1086663217.py:3: FutureWarning: A value is trying to be set on a copy of a DataFrame or Series through chained assignment using an inplace method.\n",
      "The behavior will change in pandas 3.0. This inplace method will never work because the intermediate object on which we are setting values always behaves as a copy.\n",
      "\n",
      "For example, when doing 'df[col].method(value, inplace=True)', try using 'df.method({col: value}, inplace=True)' or df[col] = df[col].method(value) instead, to perform the operation inplace on the original object.\n",
      "\n",
      "\n",
      "  data[col].fillna(data[col].median(), inplace=True)\n",
      "C:\\Users\\karam\\AppData\\Local\\Temp\\ipykernel_15684\\1086663217.py:3: FutureWarning: A value is trying to be set on a copy of a DataFrame or Series through chained assignment using an inplace method.\n",
      "The behavior will change in pandas 3.0. This inplace method will never work because the intermediate object on which we are setting values always behaves as a copy.\n",
      "\n",
      "For example, when doing 'df[col].method(value, inplace=True)', try using 'df.method({col: value}, inplace=True)' or df[col] = df[col].method(value) instead, to perform the operation inplace on the original object.\n",
      "\n",
      "\n",
      "  data[col].fillna(data[col].median(), inplace=True)\n",
      "C:\\Users\\karam\\AppData\\Local\\Temp\\ipykernel_15684\\1086663217.py:3: FutureWarning: A value is trying to be set on a copy of a DataFrame or Series through chained assignment using an inplace method.\n",
      "The behavior will change in pandas 3.0. This inplace method will never work because the intermediate object on which we are setting values always behaves as a copy.\n",
      "\n",
      "For example, when doing 'df[col].method(value, inplace=True)', try using 'df.method({col: value}, inplace=True)' or df[col] = df[col].method(value) instead, to perform the operation inplace on the original object.\n",
      "\n",
      "\n",
      "  data[col].fillna(data[col].median(), inplace=True)\n",
      "C:\\Users\\karam\\AppData\\Local\\Temp\\ipykernel_15684\\1086663217.py:3: FutureWarning: A value is trying to be set on a copy of a DataFrame or Series through chained assignment using an inplace method.\n",
      "The behavior will change in pandas 3.0. This inplace method will never work because the intermediate object on which we are setting values always behaves as a copy.\n",
      "\n",
      "For example, when doing 'df[col].method(value, inplace=True)', try using 'df.method({col: value}, inplace=True)' or df[col] = df[col].method(value) instead, to perform the operation inplace on the original object.\n",
      "\n",
      "\n",
      "  data[col].fillna(data[col].median(), inplace=True)\n",
      "C:\\Users\\karam\\AppData\\Local\\Temp\\ipykernel_15684\\1086663217.py:3: FutureWarning: A value is trying to be set on a copy of a DataFrame or Series through chained assignment using an inplace method.\n",
      "The behavior will change in pandas 3.0. This inplace method will never work because the intermediate object on which we are setting values always behaves as a copy.\n",
      "\n",
      "For example, when doing 'df[col].method(value, inplace=True)', try using 'df.method({col: value}, inplace=True)' or df[col] = df[col].method(value) instead, to perform the operation inplace on the original object.\n",
      "\n",
      "\n",
      "  data[col].fillna(data[col].median(), inplace=True)\n",
      "C:\\Users\\karam\\AppData\\Local\\Temp\\ipykernel_15684\\1086663217.py:3: FutureWarning: A value is trying to be set on a copy of a DataFrame or Series through chained assignment using an inplace method.\n",
      "The behavior will change in pandas 3.0. This inplace method will never work because the intermediate object on which we are setting values always behaves as a copy.\n",
      "\n",
      "For example, when doing 'df[col].method(value, inplace=True)', try using 'df.method({col: value}, inplace=True)' or df[col] = df[col].method(value) instead, to perform the operation inplace on the original object.\n",
      "\n",
      "\n",
      "  data[col].fillna(data[col].median(), inplace=True)\n",
      "C:\\Users\\karam\\AppData\\Local\\Temp\\ipykernel_15684\\1086663217.py:3: FutureWarning: A value is trying to be set on a copy of a DataFrame or Series through chained assignment using an inplace method.\n",
      "The behavior will change in pandas 3.0. This inplace method will never work because the intermediate object on which we are setting values always behaves as a copy.\n",
      "\n",
      "For example, when doing 'df[col].method(value, inplace=True)', try using 'df.method({col: value}, inplace=True)' or df[col] = df[col].method(value) instead, to perform the operation inplace on the original object.\n",
      "\n",
      "\n",
      "  data[col].fillna(data[col].median(), inplace=True)\n",
      "C:\\Users\\karam\\AppData\\Local\\Temp\\ipykernel_15684\\1086663217.py:3: FutureWarning: A value is trying to be set on a copy of a DataFrame or Series through chained assignment using an inplace method.\n",
      "The behavior will change in pandas 3.0. This inplace method will never work because the intermediate object on which we are setting values always behaves as a copy.\n",
      "\n",
      "For example, when doing 'df[col].method(value, inplace=True)', try using 'df.method({col: value}, inplace=True)' or df[col] = df[col].method(value) instead, to perform the operation inplace on the original object.\n",
      "\n",
      "\n",
      "  data[col].fillna(data[col].median(), inplace=True)\n",
      "C:\\Users\\karam\\AppData\\Local\\Temp\\ipykernel_15684\\1086663217.py:3: FutureWarning: A value is trying to be set on a copy of a DataFrame or Series through chained assignment using an inplace method.\n",
      "The behavior will change in pandas 3.0. This inplace method will never work because the intermediate object on which we are setting values always behaves as a copy.\n",
      "\n",
      "For example, when doing 'df[col].method(value, inplace=True)', try using 'df.method({col: value}, inplace=True)' or df[col] = df[col].method(value) instead, to perform the operation inplace on the original object.\n",
      "\n",
      "\n",
      "  data[col].fillna(data[col].median(), inplace=True)\n",
      "C:\\Users\\karam\\AppData\\Local\\Temp\\ipykernel_15684\\1086663217.py:3: FutureWarning: A value is trying to be set on a copy of a DataFrame or Series through chained assignment using an inplace method.\n",
      "The behavior will change in pandas 3.0. This inplace method will never work because the intermediate object on which we are setting values always behaves as a copy.\n",
      "\n",
      "For example, when doing 'df[col].method(value, inplace=True)', try using 'df.method({col: value}, inplace=True)' or df[col] = df[col].method(value) instead, to perform the operation inplace on the original object.\n",
      "\n",
      "\n",
      "  data[col].fillna(data[col].median(), inplace=True)\n",
      "C:\\Users\\karam\\AppData\\Local\\Temp\\ipykernel_15684\\1086663217.py:3: FutureWarning: A value is trying to be set on a copy of a DataFrame or Series through chained assignment using an inplace method.\n",
      "The behavior will change in pandas 3.0. This inplace method will never work because the intermediate object on which we are setting values always behaves as a copy.\n",
      "\n",
      "For example, when doing 'df[col].method(value, inplace=True)', try using 'df.method({col: value}, inplace=True)' or df[col] = df[col].method(value) instead, to perform the operation inplace on the original object.\n",
      "\n",
      "\n",
      "  data[col].fillna(data[col].median(), inplace=True)\n",
      "C:\\Users\\karam\\AppData\\Local\\Temp\\ipykernel_15684\\1086663217.py:3: FutureWarning: A value is trying to be set on a copy of a DataFrame or Series through chained assignment using an inplace method.\n",
      "The behavior will change in pandas 3.0. This inplace method will never work because the intermediate object on which we are setting values always behaves as a copy.\n",
      "\n",
      "For example, when doing 'df[col].method(value, inplace=True)', try using 'df.method({col: value}, inplace=True)' or df[col] = df[col].method(value) instead, to perform the operation inplace on the original object.\n",
      "\n",
      "\n",
      "  data[col].fillna(data[col].median(), inplace=True)\n",
      "C:\\Users\\karam\\AppData\\Local\\Temp\\ipykernel_15684\\1086663217.py:3: FutureWarning: A value is trying to be set on a copy of a DataFrame or Series through chained assignment using an inplace method.\n",
      "The behavior will change in pandas 3.0. This inplace method will never work because the intermediate object on which we are setting values always behaves as a copy.\n",
      "\n",
      "For example, when doing 'df[col].method(value, inplace=True)', try using 'df.method({col: value}, inplace=True)' or df[col] = df[col].method(value) instead, to perform the operation inplace on the original object.\n",
      "\n",
      "\n",
      "  data[col].fillna(data[col].median(), inplace=True)\n",
      "C:\\Users\\karam\\AppData\\Local\\Temp\\ipykernel_15684\\1086663217.py:3: FutureWarning: A value is trying to be set on a copy of a DataFrame or Series through chained assignment using an inplace method.\n",
      "The behavior will change in pandas 3.0. This inplace method will never work because the intermediate object on which we are setting values always behaves as a copy.\n",
      "\n",
      "For example, when doing 'df[col].method(value, inplace=True)', try using 'df.method({col: value}, inplace=True)' or df[col] = df[col].method(value) instead, to perform the operation inplace on the original object.\n",
      "\n",
      "\n",
      "  data[col].fillna(data[col].median(), inplace=True)\n",
      "C:\\Users\\karam\\AppData\\Local\\Temp\\ipykernel_15684\\1086663217.py:3: FutureWarning: A value is trying to be set on a copy of a DataFrame or Series through chained assignment using an inplace method.\n",
      "The behavior will change in pandas 3.0. This inplace method will never work because the intermediate object on which we are setting values always behaves as a copy.\n",
      "\n",
      "For example, when doing 'df[col].method(value, inplace=True)', try using 'df.method({col: value}, inplace=True)' or df[col] = df[col].method(value) instead, to perform the operation inplace on the original object.\n",
      "\n",
      "\n",
      "  data[col].fillna(data[col].median(), inplace=True)\n",
      "C:\\Users\\karam\\AppData\\Local\\Temp\\ipykernel_15684\\1086663217.py:3: FutureWarning: A value is trying to be set on a copy of a DataFrame or Series through chained assignment using an inplace method.\n",
      "The behavior will change in pandas 3.0. This inplace method will never work because the intermediate object on which we are setting values always behaves as a copy.\n",
      "\n",
      "For example, when doing 'df[col].method(value, inplace=True)', try using 'df.method({col: value}, inplace=True)' or df[col] = df[col].method(value) instead, to perform the operation inplace on the original object.\n",
      "\n",
      "\n",
      "  data[col].fillna(data[col].median(), inplace=True)\n",
      "C:\\Users\\karam\\AppData\\Local\\Temp\\ipykernel_15684\\1086663217.py:3: FutureWarning: A value is trying to be set on a copy of a DataFrame or Series through chained assignment using an inplace method.\n",
      "The behavior will change in pandas 3.0. This inplace method will never work because the intermediate object on which we are setting values always behaves as a copy.\n",
      "\n",
      "For example, when doing 'df[col].method(value, inplace=True)', try using 'df.method({col: value}, inplace=True)' or df[col] = df[col].method(value) instead, to perform the operation inplace on the original object.\n",
      "\n",
      "\n",
      "  data[col].fillna(data[col].median(), inplace=True)\n",
      "C:\\Users\\karam\\AppData\\Local\\Temp\\ipykernel_15684\\1086663217.py:3: FutureWarning: A value is trying to be set on a copy of a DataFrame or Series through chained assignment using an inplace method.\n",
      "The behavior will change in pandas 3.0. This inplace method will never work because the intermediate object on which we are setting values always behaves as a copy.\n",
      "\n",
      "For example, when doing 'df[col].method(value, inplace=True)', try using 'df.method({col: value}, inplace=True)' or df[col] = df[col].method(value) instead, to perform the operation inplace on the original object.\n",
      "\n",
      "\n",
      "  data[col].fillna(data[col].median(), inplace=True)\n",
      "C:\\Users\\karam\\AppData\\Local\\Temp\\ipykernel_15684\\1086663217.py:3: FutureWarning: A value is trying to be set on a copy of a DataFrame or Series through chained assignment using an inplace method.\n",
      "The behavior will change in pandas 3.0. This inplace method will never work because the intermediate object on which we are setting values always behaves as a copy.\n",
      "\n",
      "For example, when doing 'df[col].method(value, inplace=True)', try using 'df.method({col: value}, inplace=True)' or df[col] = df[col].method(value) instead, to perform the operation inplace on the original object.\n",
      "\n",
      "\n",
      "  data[col].fillna(data[col].median(), inplace=True)\n",
      "C:\\Users\\karam\\AppData\\Local\\Temp\\ipykernel_15684\\1086663217.py:3: FutureWarning: A value is trying to be set on a copy of a DataFrame or Series through chained assignment using an inplace method.\n",
      "The behavior will change in pandas 3.0. This inplace method will never work because the intermediate object on which we are setting values always behaves as a copy.\n",
      "\n",
      "For example, when doing 'df[col].method(value, inplace=True)', try using 'df.method({col: value}, inplace=True)' or df[col] = df[col].method(value) instead, to perform the operation inplace on the original object.\n",
      "\n",
      "\n",
      "  data[col].fillna(data[col].median(), inplace=True)\n",
      "C:\\Users\\karam\\AppData\\Local\\Temp\\ipykernel_15684\\1086663217.py:3: FutureWarning: A value is trying to be set on a copy of a DataFrame or Series through chained assignment using an inplace method.\n",
      "The behavior will change in pandas 3.0. This inplace method will never work because the intermediate object on which we are setting values always behaves as a copy.\n",
      "\n",
      "For example, when doing 'df[col].method(value, inplace=True)', try using 'df.method({col: value}, inplace=True)' or df[col] = df[col].method(value) instead, to perform the operation inplace on the original object.\n",
      "\n",
      "\n",
      "  data[col].fillna(data[col].median(), inplace=True)\n",
      "C:\\Users\\karam\\AppData\\Local\\Temp\\ipykernel_15684\\1086663217.py:3: FutureWarning: A value is trying to be set on a copy of a DataFrame or Series through chained assignment using an inplace method.\n",
      "The behavior will change in pandas 3.0. This inplace method will never work because the intermediate object on which we are setting values always behaves as a copy.\n",
      "\n",
      "For example, when doing 'df[col].method(value, inplace=True)', try using 'df.method({col: value}, inplace=True)' or df[col] = df[col].method(value) instead, to perform the operation inplace on the original object.\n",
      "\n",
      "\n",
      "  data[col].fillna(data[col].median(), inplace=True)\n",
      "C:\\Users\\karam\\AppData\\Local\\Temp\\ipykernel_15684\\1086663217.py:3: FutureWarning: A value is trying to be set on a copy of a DataFrame or Series through chained assignment using an inplace method.\n",
      "The behavior will change in pandas 3.0. This inplace method will never work because the intermediate object on which we are setting values always behaves as a copy.\n",
      "\n",
      "For example, when doing 'df[col].method(value, inplace=True)', try using 'df.method({col: value}, inplace=True)' or df[col] = df[col].method(value) instead, to perform the operation inplace on the original object.\n",
      "\n",
      "\n",
      "  data[col].fillna(data[col].median(), inplace=True)\n",
      "C:\\Users\\karam\\AppData\\Local\\Temp\\ipykernel_15684\\1086663217.py:3: FutureWarning: A value is trying to be set on a copy of a DataFrame or Series through chained assignment using an inplace method.\n",
      "The behavior will change in pandas 3.0. This inplace method will never work because the intermediate object on which we are setting values always behaves as a copy.\n",
      "\n",
      "For example, when doing 'df[col].method(value, inplace=True)', try using 'df.method({col: value}, inplace=True)' or df[col] = df[col].method(value) instead, to perform the operation inplace on the original object.\n",
      "\n",
      "\n",
      "  data[col].fillna(data[col].median(), inplace=True)\n",
      "C:\\Users\\karam\\AppData\\Local\\Temp\\ipykernel_15684\\1086663217.py:3: FutureWarning: A value is trying to be set on a copy of a DataFrame or Series through chained assignment using an inplace method.\n",
      "The behavior will change in pandas 3.0. This inplace method will never work because the intermediate object on which we are setting values always behaves as a copy.\n",
      "\n",
      "For example, when doing 'df[col].method(value, inplace=True)', try using 'df.method({col: value}, inplace=True)' or df[col] = df[col].method(value) instead, to perform the operation inplace on the original object.\n",
      "\n",
      "\n",
      "  data[col].fillna(data[col].median(), inplace=True)\n",
      "C:\\Users\\karam\\AppData\\Local\\Temp\\ipykernel_15684\\1086663217.py:3: FutureWarning: A value is trying to be set on a copy of a DataFrame or Series through chained assignment using an inplace method.\n",
      "The behavior will change in pandas 3.0. This inplace method will never work because the intermediate object on which we are setting values always behaves as a copy.\n",
      "\n",
      "For example, when doing 'df[col].method(value, inplace=True)', try using 'df.method({col: value}, inplace=True)' or df[col] = df[col].method(value) instead, to perform the operation inplace on the original object.\n",
      "\n",
      "\n",
      "  data[col].fillna(data[col].median(), inplace=True)\n",
      "C:\\Users\\karam\\AppData\\Local\\Temp\\ipykernel_15684\\1086663217.py:3: FutureWarning: A value is trying to be set on a copy of a DataFrame or Series through chained assignment using an inplace method.\n",
      "The behavior will change in pandas 3.0. This inplace method will never work because the intermediate object on which we are setting values always behaves as a copy.\n",
      "\n",
      "For example, when doing 'df[col].method(value, inplace=True)', try using 'df.method({col: value}, inplace=True)' or df[col] = df[col].method(value) instead, to perform the operation inplace on the original object.\n",
      "\n",
      "\n",
      "  data[col].fillna(data[col].median(), inplace=True)\n",
      "C:\\Users\\karam\\AppData\\Local\\Temp\\ipykernel_15684\\1086663217.py:3: FutureWarning: A value is trying to be set on a copy of a DataFrame or Series through chained assignment using an inplace method.\n",
      "The behavior will change in pandas 3.0. This inplace method will never work because the intermediate object on which we are setting values always behaves as a copy.\n",
      "\n",
      "For example, when doing 'df[col].method(value, inplace=True)', try using 'df.method({col: value}, inplace=True)' or df[col] = df[col].method(value) instead, to perform the operation inplace on the original object.\n",
      "\n",
      "\n",
      "  data[col].fillna(data[col].median(), inplace=True)\n",
      "C:\\Users\\karam\\AppData\\Local\\Temp\\ipykernel_15684\\1086663217.py:3: FutureWarning: A value is trying to be set on a copy of a DataFrame or Series through chained assignment using an inplace method.\n",
      "The behavior will change in pandas 3.0. This inplace method will never work because the intermediate object on which we are setting values always behaves as a copy.\n",
      "\n",
      "For example, when doing 'df[col].method(value, inplace=True)', try using 'df.method({col: value}, inplace=True)' or df[col] = df[col].method(value) instead, to perform the operation inplace on the original object.\n",
      "\n",
      "\n",
      "  data[col].fillna(data[col].median(), inplace=True)\n",
      "C:\\Users\\karam\\AppData\\Local\\Temp\\ipykernel_15684\\1086663217.py:3: FutureWarning: A value is trying to be set on a copy of a DataFrame or Series through chained assignment using an inplace method.\n",
      "The behavior will change in pandas 3.0. This inplace method will never work because the intermediate object on which we are setting values always behaves as a copy.\n",
      "\n",
      "For example, when doing 'df[col].method(value, inplace=True)', try using 'df.method({col: value}, inplace=True)' or df[col] = df[col].method(value) instead, to perform the operation inplace on the original object.\n",
      "\n",
      "\n",
      "  data[col].fillna(data[col].median(), inplace=True)\n",
      "C:\\Users\\karam\\AppData\\Local\\Temp\\ipykernel_15684\\1086663217.py:3: FutureWarning: A value is trying to be set on a copy of a DataFrame or Series through chained assignment using an inplace method.\n",
      "The behavior will change in pandas 3.0. This inplace method will never work because the intermediate object on which we are setting values always behaves as a copy.\n",
      "\n",
      "For example, when doing 'df[col].method(value, inplace=True)', try using 'df.method({col: value}, inplace=True)' or df[col] = df[col].method(value) instead, to perform the operation inplace on the original object.\n",
      "\n",
      "\n",
      "  data[col].fillna(data[col].median(), inplace=True)\n",
      "C:\\Users\\karam\\AppData\\Local\\Temp\\ipykernel_15684\\1086663217.py:3: FutureWarning: A value is trying to be set on a copy of a DataFrame or Series through chained assignment using an inplace method.\n",
      "The behavior will change in pandas 3.0. This inplace method will never work because the intermediate object on which we are setting values always behaves as a copy.\n",
      "\n",
      "For example, when doing 'df[col].method(value, inplace=True)', try using 'df.method({col: value}, inplace=True)' or df[col] = df[col].method(value) instead, to perform the operation inplace on the original object.\n",
      "\n",
      "\n",
      "  data[col].fillna(data[col].median(), inplace=True)\n",
      "C:\\Users\\karam\\AppData\\Local\\Temp\\ipykernel_15684\\1086663217.py:3: FutureWarning: A value is trying to be set on a copy of a DataFrame or Series through chained assignment using an inplace method.\n",
      "The behavior will change in pandas 3.0. This inplace method will never work because the intermediate object on which we are setting values always behaves as a copy.\n",
      "\n",
      "For example, when doing 'df[col].method(value, inplace=True)', try using 'df.method({col: value}, inplace=True)' or df[col] = df[col].method(value) instead, to perform the operation inplace on the original object.\n",
      "\n",
      "\n",
      "  data[col].fillna(data[col].median(), inplace=True)\n",
      "C:\\Users\\karam\\AppData\\Local\\Temp\\ipykernel_15684\\1086663217.py:3: FutureWarning: A value is trying to be set on a copy of a DataFrame or Series through chained assignment using an inplace method.\n",
      "The behavior will change in pandas 3.0. This inplace method will never work because the intermediate object on which we are setting values always behaves as a copy.\n",
      "\n",
      "For example, when doing 'df[col].method(value, inplace=True)', try using 'df.method({col: value}, inplace=True)' or df[col] = df[col].method(value) instead, to perform the operation inplace on the original object.\n",
      "\n",
      "\n",
      "  data[col].fillna(data[col].median(), inplace=True)\n",
      "C:\\Users\\karam\\AppData\\Local\\Temp\\ipykernel_15684\\1086663217.py:3: FutureWarning: A value is trying to be set on a copy of a DataFrame or Series through chained assignment using an inplace method.\n",
      "The behavior will change in pandas 3.0. This inplace method will never work because the intermediate object on which we are setting values always behaves as a copy.\n",
      "\n",
      "For example, when doing 'df[col].method(value, inplace=True)', try using 'df.method({col: value}, inplace=True)' or df[col] = df[col].method(value) instead, to perform the operation inplace on the original object.\n",
      "\n",
      "\n",
      "  data[col].fillna(data[col].median(), inplace=True)\n",
      "C:\\Users\\karam\\AppData\\Local\\Temp\\ipykernel_15684\\1086663217.py:3: FutureWarning: A value is trying to be set on a copy of a DataFrame or Series through chained assignment using an inplace method.\n",
      "The behavior will change in pandas 3.0. This inplace method will never work because the intermediate object on which we are setting values always behaves as a copy.\n",
      "\n",
      "For example, when doing 'df[col].method(value, inplace=True)', try using 'df.method({col: value}, inplace=True)' or df[col] = df[col].method(value) instead, to perform the operation inplace on the original object.\n",
      "\n",
      "\n",
      "  data[col].fillna(data[col].median(), inplace=True)\n",
      "C:\\Users\\karam\\AppData\\Local\\Temp\\ipykernel_15684\\1086663217.py:3: FutureWarning: A value is trying to be set on a copy of a DataFrame or Series through chained assignment using an inplace method.\n",
      "The behavior will change in pandas 3.0. This inplace method will never work because the intermediate object on which we are setting values always behaves as a copy.\n",
      "\n",
      "For example, when doing 'df[col].method(value, inplace=True)', try using 'df.method({col: value}, inplace=True)' or df[col] = df[col].method(value) instead, to perform the operation inplace on the original object.\n",
      "\n",
      "\n",
      "  data[col].fillna(data[col].median(), inplace=True)\n",
      "C:\\Users\\karam\\AppData\\Local\\Temp\\ipykernel_15684\\1086663217.py:3: FutureWarning: A value is trying to be set on a copy of a DataFrame or Series through chained assignment using an inplace method.\n",
      "The behavior will change in pandas 3.0. This inplace method will never work because the intermediate object on which we are setting values always behaves as a copy.\n",
      "\n",
      "For example, when doing 'df[col].method(value, inplace=True)', try using 'df.method({col: value}, inplace=True)' or df[col] = df[col].method(value) instead, to perform the operation inplace on the original object.\n",
      "\n",
      "\n",
      "  data[col].fillna(data[col].median(), inplace=True)\n",
      "C:\\Users\\karam\\AppData\\Local\\Temp\\ipykernel_15684\\1086663217.py:3: FutureWarning: A value is trying to be set on a copy of a DataFrame or Series through chained assignment using an inplace method.\n",
      "The behavior will change in pandas 3.0. This inplace method will never work because the intermediate object on which we are setting values always behaves as a copy.\n",
      "\n",
      "For example, when doing 'df[col].method(value, inplace=True)', try using 'df.method({col: value}, inplace=True)' or df[col] = df[col].method(value) instead, to perform the operation inplace on the original object.\n",
      "\n",
      "\n",
      "  data[col].fillna(data[col].median(), inplace=True)\n",
      "C:\\Users\\karam\\AppData\\Local\\Temp\\ipykernel_15684\\1086663217.py:3: FutureWarning: A value is trying to be set on a copy of a DataFrame or Series through chained assignment using an inplace method.\n",
      "The behavior will change in pandas 3.0. This inplace method will never work because the intermediate object on which we are setting values always behaves as a copy.\n",
      "\n",
      "For example, when doing 'df[col].method(value, inplace=True)', try using 'df.method({col: value}, inplace=True)' or df[col] = df[col].method(value) instead, to perform the operation inplace on the original object.\n",
      "\n",
      "\n",
      "  data[col].fillna(data[col].median(), inplace=True)\n",
      "C:\\Users\\karam\\AppData\\Local\\Temp\\ipykernel_15684\\1086663217.py:3: FutureWarning: A value is trying to be set on a copy of a DataFrame or Series through chained assignment using an inplace method.\n",
      "The behavior will change in pandas 3.0. This inplace method will never work because the intermediate object on which we are setting values always behaves as a copy.\n",
      "\n",
      "For example, when doing 'df[col].method(value, inplace=True)', try using 'df.method({col: value}, inplace=True)' or df[col] = df[col].method(value) instead, to perform the operation inplace on the original object.\n",
      "\n",
      "\n",
      "  data[col].fillna(data[col].median(), inplace=True)\n",
      "C:\\Users\\karam\\AppData\\Local\\Temp\\ipykernel_15684\\1086663217.py:3: FutureWarning: A value is trying to be set on a copy of a DataFrame or Series through chained assignment using an inplace method.\n",
      "The behavior will change in pandas 3.0. This inplace method will never work because the intermediate object on which we are setting values always behaves as a copy.\n",
      "\n",
      "For example, when doing 'df[col].method(value, inplace=True)', try using 'df.method({col: value}, inplace=True)' or df[col] = df[col].method(value) instead, to perform the operation inplace on the original object.\n",
      "\n",
      "\n",
      "  data[col].fillna(data[col].median(), inplace=True)\n",
      "C:\\Users\\karam\\AppData\\Local\\Temp\\ipykernel_15684\\1086663217.py:3: FutureWarning: A value is trying to be set on a copy of a DataFrame or Series through chained assignment using an inplace method.\n",
      "The behavior will change in pandas 3.0. This inplace method will never work because the intermediate object on which we are setting values always behaves as a copy.\n",
      "\n",
      "For example, when doing 'df[col].method(value, inplace=True)', try using 'df.method({col: value}, inplace=True)' or df[col] = df[col].method(value) instead, to perform the operation inplace on the original object.\n",
      "\n",
      "\n",
      "  data[col].fillna(data[col].median(), inplace=True)\n",
      "C:\\Users\\karam\\AppData\\Local\\Temp\\ipykernel_15684\\1086663217.py:3: FutureWarning: A value is trying to be set on a copy of a DataFrame or Series through chained assignment using an inplace method.\n",
      "The behavior will change in pandas 3.0. This inplace method will never work because the intermediate object on which we are setting values always behaves as a copy.\n",
      "\n",
      "For example, when doing 'df[col].method(value, inplace=True)', try using 'df.method({col: value}, inplace=True)' or df[col] = df[col].method(value) instead, to perform the operation inplace on the original object.\n",
      "\n",
      "\n",
      "  data[col].fillna(data[col].median(), inplace=True)\n",
      "C:\\Users\\karam\\AppData\\Local\\Temp\\ipykernel_15684\\1086663217.py:3: FutureWarning: A value is trying to be set on a copy of a DataFrame or Series through chained assignment using an inplace method.\n",
      "The behavior will change in pandas 3.0. This inplace method will never work because the intermediate object on which we are setting values always behaves as a copy.\n",
      "\n",
      "For example, when doing 'df[col].method(value, inplace=True)', try using 'df.method({col: value}, inplace=True)' or df[col] = df[col].method(value) instead, to perform the operation inplace on the original object.\n",
      "\n",
      "\n",
      "  data[col].fillna(data[col].median(), inplace=True)\n",
      "C:\\Users\\karam\\AppData\\Local\\Temp\\ipykernel_15684\\1086663217.py:3: FutureWarning: A value is trying to be set on a copy of a DataFrame or Series through chained assignment using an inplace method.\n",
      "The behavior will change in pandas 3.0. This inplace method will never work because the intermediate object on which we are setting values always behaves as a copy.\n",
      "\n",
      "For example, when doing 'df[col].method(value, inplace=True)', try using 'df.method({col: value}, inplace=True)' or df[col] = df[col].method(value) instead, to perform the operation inplace on the original object.\n",
      "\n",
      "\n",
      "  data[col].fillna(data[col].median(), inplace=True)\n",
      "C:\\Users\\karam\\AppData\\Local\\Temp\\ipykernel_15684\\1086663217.py:3: FutureWarning: A value is trying to be set on a copy of a DataFrame or Series through chained assignment using an inplace method.\n",
      "The behavior will change in pandas 3.0. This inplace method will never work because the intermediate object on which we are setting values always behaves as a copy.\n",
      "\n",
      "For example, when doing 'df[col].method(value, inplace=True)', try using 'df.method({col: value}, inplace=True)' or df[col] = df[col].method(value) instead, to perform the operation inplace on the original object.\n",
      "\n",
      "\n",
      "  data[col].fillna(data[col].median(), inplace=True)\n",
      "C:\\Users\\karam\\AppData\\Local\\Temp\\ipykernel_15684\\1086663217.py:3: FutureWarning: A value is trying to be set on a copy of a DataFrame or Series through chained assignment using an inplace method.\n",
      "The behavior will change in pandas 3.0. This inplace method will never work because the intermediate object on which we are setting values always behaves as a copy.\n",
      "\n",
      "For example, when doing 'df[col].method(value, inplace=True)', try using 'df.method({col: value}, inplace=True)' or df[col] = df[col].method(value) instead, to perform the operation inplace on the original object.\n",
      "\n",
      "\n",
      "  data[col].fillna(data[col].median(), inplace=True)\n",
      "C:\\Users\\karam\\AppData\\Local\\Temp\\ipykernel_15684\\1086663217.py:3: FutureWarning: A value is trying to be set on a copy of a DataFrame or Series through chained assignment using an inplace method.\n",
      "The behavior will change in pandas 3.0. This inplace method will never work because the intermediate object on which we are setting values always behaves as a copy.\n",
      "\n",
      "For example, when doing 'df[col].method(value, inplace=True)', try using 'df.method({col: value}, inplace=True)' or df[col] = df[col].method(value) instead, to perform the operation inplace on the original object.\n",
      "\n",
      "\n",
      "  data[col].fillna(data[col].median(), inplace=True)\n",
      "C:\\Users\\karam\\AppData\\Local\\Temp\\ipykernel_15684\\1086663217.py:3: FutureWarning: A value is trying to be set on a copy of a DataFrame or Series through chained assignment using an inplace method.\n",
      "The behavior will change in pandas 3.0. This inplace method will never work because the intermediate object on which we are setting values always behaves as a copy.\n",
      "\n",
      "For example, when doing 'df[col].method(value, inplace=True)', try using 'df.method({col: value}, inplace=True)' or df[col] = df[col].method(value) instead, to perform the operation inplace on the original object.\n",
      "\n",
      "\n",
      "  data[col].fillna(data[col].median(), inplace=True)\n",
      "C:\\Users\\karam\\AppData\\Local\\Temp\\ipykernel_15684\\1086663217.py:3: FutureWarning: A value is trying to be set on a copy of a DataFrame or Series through chained assignment using an inplace method.\n",
      "The behavior will change in pandas 3.0. This inplace method will never work because the intermediate object on which we are setting values always behaves as a copy.\n",
      "\n",
      "For example, when doing 'df[col].method(value, inplace=True)', try using 'df.method({col: value}, inplace=True)' or df[col] = df[col].method(value) instead, to perform the operation inplace on the original object.\n",
      "\n",
      "\n",
      "  data[col].fillna(data[col].median(), inplace=True)\n",
      "C:\\Users\\karam\\AppData\\Local\\Temp\\ipykernel_15684\\1086663217.py:3: FutureWarning: A value is trying to be set on a copy of a DataFrame or Series through chained assignment using an inplace method.\n",
      "The behavior will change in pandas 3.0. This inplace method will never work because the intermediate object on which we are setting values always behaves as a copy.\n",
      "\n",
      "For example, when doing 'df[col].method(value, inplace=True)', try using 'df.method({col: value}, inplace=True)' or df[col] = df[col].method(value) instead, to perform the operation inplace on the original object.\n",
      "\n",
      "\n",
      "  data[col].fillna(data[col].median(), inplace=True)\n",
      "C:\\Users\\karam\\AppData\\Local\\Temp\\ipykernel_15684\\1086663217.py:3: FutureWarning: A value is trying to be set on a copy of a DataFrame or Series through chained assignment using an inplace method.\n",
      "The behavior will change in pandas 3.0. This inplace method will never work because the intermediate object on which we are setting values always behaves as a copy.\n",
      "\n",
      "For example, when doing 'df[col].method(value, inplace=True)', try using 'df.method({col: value}, inplace=True)' or df[col] = df[col].method(value) instead, to perform the operation inplace on the original object.\n",
      "\n",
      "\n",
      "  data[col].fillna(data[col].median(), inplace=True)\n",
      "C:\\Users\\karam\\AppData\\Local\\Temp\\ipykernel_15684\\1086663217.py:3: FutureWarning: A value is trying to be set on a copy of a DataFrame or Series through chained assignment using an inplace method.\n",
      "The behavior will change in pandas 3.0. This inplace method will never work because the intermediate object on which we are setting values always behaves as a copy.\n",
      "\n",
      "For example, when doing 'df[col].method(value, inplace=True)', try using 'df.method({col: value}, inplace=True)' or df[col] = df[col].method(value) instead, to perform the operation inplace on the original object.\n",
      "\n",
      "\n",
      "  data[col].fillna(data[col].median(), inplace=True)\n",
      "C:\\Users\\karam\\AppData\\Local\\Temp\\ipykernel_15684\\1086663217.py:3: FutureWarning: A value is trying to be set on a copy of a DataFrame or Series through chained assignment using an inplace method.\n",
      "The behavior will change in pandas 3.0. This inplace method will never work because the intermediate object on which we are setting values always behaves as a copy.\n",
      "\n",
      "For example, when doing 'df[col].method(value, inplace=True)', try using 'df.method({col: value}, inplace=True)' or df[col] = df[col].method(value) instead, to perform the operation inplace on the original object.\n",
      "\n",
      "\n",
      "  data[col].fillna(data[col].median(), inplace=True)\n",
      "C:\\Users\\karam\\AppData\\Local\\Temp\\ipykernel_15684\\1086663217.py:3: FutureWarning: A value is trying to be set on a copy of a DataFrame or Series through chained assignment using an inplace method.\n",
      "The behavior will change in pandas 3.0. This inplace method will never work because the intermediate object on which we are setting values always behaves as a copy.\n",
      "\n",
      "For example, when doing 'df[col].method(value, inplace=True)', try using 'df.method({col: value}, inplace=True)' or df[col] = df[col].method(value) instead, to perform the operation inplace on the original object.\n",
      "\n",
      "\n",
      "  data[col].fillna(data[col].median(), inplace=True)\n",
      "C:\\Users\\karam\\AppData\\Local\\Temp\\ipykernel_15684\\1086663217.py:3: FutureWarning: A value is trying to be set on a copy of a DataFrame or Series through chained assignment using an inplace method.\n",
      "The behavior will change in pandas 3.0. This inplace method will never work because the intermediate object on which we are setting values always behaves as a copy.\n",
      "\n",
      "For example, when doing 'df[col].method(value, inplace=True)', try using 'df.method({col: value}, inplace=True)' or df[col] = df[col].method(value) instead, to perform the operation inplace on the original object.\n",
      "\n",
      "\n",
      "  data[col].fillna(data[col].median(), inplace=True)\n",
      "C:\\Users\\karam\\AppData\\Local\\Temp\\ipykernel_15684\\1086663217.py:3: FutureWarning: A value is trying to be set on a copy of a DataFrame or Series through chained assignment using an inplace method.\n",
      "The behavior will change in pandas 3.0. This inplace method will never work because the intermediate object on which we are setting values always behaves as a copy.\n",
      "\n",
      "For example, when doing 'df[col].method(value, inplace=True)', try using 'df.method({col: value}, inplace=True)' or df[col] = df[col].method(value) instead, to perform the operation inplace on the original object.\n",
      "\n",
      "\n",
      "  data[col].fillna(data[col].median(), inplace=True)\n",
      "C:\\Users\\karam\\AppData\\Local\\Temp\\ipykernel_15684\\1086663217.py:6: FutureWarning: A value is trying to be set on a copy of a DataFrame or Series through chained assignment using an inplace method.\n",
      "The behavior will change in pandas 3.0. This inplace method will never work because the intermediate object on which we are setting values always behaves as a copy.\n",
      "\n",
      "For example, when doing 'df[col].method(value, inplace=True)', try using 'df.method({col: value}, inplace=True)' or df[col] = df[col].method(value) instead, to perform the operation inplace on the original object.\n",
      "\n",
      "\n",
      "  data[col].fillna(data[col].mode()[0], inplace=True)\n",
      "C:\\Users\\karam\\AppData\\Local\\Temp\\ipykernel_15684\\1086663217.py:6: FutureWarning: Downcasting object dtype arrays on .fillna, .ffill, .bfill is deprecated and will change in a future version. Call result.infer_objects(copy=False) instead. To opt-in to the future behavior, set `pd.set_option('future.no_silent_downcasting', True)`\n",
      "  data[col].fillna(data[col].mode()[0], inplace=True)\n"
     ]
    }
   ],
   "source": [
    "# Imputation pour les colonnes avec peu de valeurs manquantes\n",
    "for col in data.select_dtypes(include=['float64', 'int64']).columns:\n",
    "    data[col].fillna(data[col].median(), inplace=True)\n",
    "    \n",
    "for col in data.select_dtypes(include=['object']).columns:\n",
    "    data[col].fillna(data[col].mode()[0], inplace=True)"
   ]
  },
  {
   "cell_type": "code",
   "execution_count": 198,
   "metadata": {},
   "outputs": [
    {
     "name": "stdout",
     "output_type": "stream",
     "text": [
      "Conso_chauffage_dépensier_é_finale\n",
      "Nom__commune_(BAN)\n",
      "Emission_GES_chauffage\n",
      "Besoin_refroidissement\n",
      "Coût_total_5_usages\n",
      "Coordonnée_cartographique_X_(BAN)\n",
      "Nombre_niveau_logement\n",
      "Type_installation_ECS_(général)\n",
      "Déperditions_murs\n",
      "Conso_5_usages_par_m²_é_primaire\n",
      "Coût_refroidissement\n",
      "Ubat_W/m²_K\n",
      "Coût_ECS_dépensier\n",
      "Emission_GES_auxiliaires\n",
      "Année_construction\n",
      "Emission_GES_5_usages_par_m²\n",
      "Emission_GES_éclairage\n",
      "Conso_ECS_dépensier_é_finale\n",
      "Adresse_(BAN)\n",
      "Date_visite_diagnostiqueur\n",
      "Coût_ECS\n",
      "Nombre_niveau_immeuble\n",
      "Surface_habitable_immeuble\n",
      "Complément_d'adresse_logement\n",
      "Coût_éclairage\n",
      "Date_établissement_DPE\n",
      "N°_voie_(BAN)\n",
      "Besoin_ECS\n",
      "N°DPE\n",
      "Conso_refroidissement_é_finale\n",
      "Logement_traversant_(0/1)\n",
      "Conso_chauffage_é_primaire\n",
      "Appartement_non_visité_(0/1)\n",
      "Adresse_brute\n",
      "Conso_éclairage_é_primaire\n",
      "Qualité_isolation_menuiseries\n",
      "Qualité_isolation_murs\n",
      "Emission_GES_5_usages_énergie_n°1\n",
      "Statut_géocodage\n",
      "Classe_inertie_bâtiment\n",
      "Nombre_appartement\n",
      "Modèle_DPE\n",
      "Conso_5_usages_é_finale\n",
      "N°_département_(BAN)\n",
      "Conso_refroidissement_é_primaire\n",
      "Méthode_application_DPE\n",
      "N°_région_(BAN)\n",
      "Surface_habitable_logement\n",
      "Code_postal_(brut)\n",
      "Deperditions_planchers_bas\n",
      "Coordonnée_cartographique_Y_(BAN)\n",
      "_rand\n",
      "Emission_GES_ECS_dépensier\n",
      "Emission_GES_refroidissement\n",
      "Classe_altitude\n",
      "Indicateur_confort_été\n",
      "Emission_GES_ECS\n",
      "Type_énergie_n°1\n",
      "Date_réception_DPE\n",
      "Coût_ECS_énergie_n°1\n",
      "Conso_ECS_é_finale\n",
      "Présence_brasseur_air_(0/1)\n",
      "Emission_GES_5_usages\n",
      "Code_postal_(BAN)\n",
      "Conso_éclairage_é_finale\n",
      "Coût_refroidissement_dépensier\n",
      "Date_fin_validité_DPE\n",
      "Deperditions_planchers_hauts\n",
      "Emission_GES_refroidissement_dépensier\n",
      "Type_bâtiment\n",
      "Coût_chauffage\n",
      "Déperditions_renouvellement_air\n",
      "Protection_solaire_exterieure_(0/1)\n",
      "Déperditions_portes\n",
      "_geopoint\n",
      "Conso_ECS_dépensier_é_primaire\n",
      "Zone_climatique_\n",
      "Conso_refroidissement_dépensier_é_finale\n",
      "Version_DPE\n",
      "Deperditions_baies_vitrées\n",
      "Déperditions_ponts_thermiques\n",
      "Type_installation_chauffage\n",
      "Type_énergie_principale_chauffage\n",
      "Inertie_lourde_(0/1)\n",
      "Qualité_isolation_enveloppe\n",
      "Emission_GES_chauffage_dépensier\n",
      "Besoin_chauffage\n",
      "Isolation_toiture_(0/1)\n",
      "Conso_ECS_é_primaire\n",
      "Etiquette_GES\n",
      "Conso_5_usages_é_finale_énergie_n°1\n",
      "Conso_auxiliaires_é_primaire\n",
      "Conso_auxiliaires_é_finale\n",
      "Conso_chauffage_é_finale\n",
      "Coût_chauffage_dépensier\n",
      "Etiquette_DPE\n",
      "Conso_refroidissement_dépensier_é_primaire\n",
      "Coût_chauffage_énergie_n°1\n",
      "_i\n",
      "Qualité_isolation_plancher_bas\n",
      "Conso_5_usages/m²_é_finale\n",
      "Hauteur_sous-plafond\n",
      "Identifiant__BAN\n",
      "Coût_auxiliaires\n",
      "Nom__rue_(BAN)\n",
      "Conso_chauffage_dépensier_é_primaire\n",
      "Code_INSEE_(BAN)\n",
      "Score_BAN\n",
      "Deperditions_enveloppe\n",
      "Conso_5_usages_é_primaire\n",
      "_score\n",
      "_id\n",
      "N°_étage_appartement\n",
      "Complément_d'adresse_bâtiment\n",
      "Emission_GES_5_usages_énergie_n°2\n",
      "Type_énergie_n°2\n",
      "Coût_ECS_énergie_n°2\n",
      "Coût_chauffage_énergie_n°2\n",
      "N°_DPE_immeuble_associé\n",
      "Catégorie_ENR\n",
      "Logement\n",
      "Annee_reception_DPE\n",
      "Somme_coûts\n",
      "Vérification_coût_total\n",
      "Coût chauffage en %\n",
      "passoire_energetique\n",
      "Periode_construction\n"
     ]
    }
   ],
   "source": [
    "for  i in  data.columns: \n",
    "    print(i)"
   ]
  },
  {
   "cell_type": "code",
   "execution_count": 199,
   "metadata": {},
   "outputs": [
    {
     "data": {
      "image/png": "[encoded data removed]",
      "text/plain": [
       "<Figure size 640x480 with 1 Axes>"
      ]
     },
     "metadata": {},
     "output_type": "display_data"
    }
   ],
   "source": [
    "target = \"Etiquette_DPE\"\n",
    "# Créer un boxplot pour une colonne spécifique\n",
    "sns.histplot(data=data, y = target,  bins=10,  kde=True)\n",
    "\n",
    "# Afficher le graphique\n",
    "plt.title(f'Boxplot sur le {target}')\n",
    "plt.show()"
   ]
  },
  {
   "cell_type": "code",
   "execution_count": 200,
   "metadata": {},
   "outputs": [
    {
     "data": {
      "text/plain": [
       "dtype('O')"
      ]
     },
     "execution_count": 200,
     "metadata": {},
     "output_type": "execute_result"
    }
   ],
   "source": [
    "#le type de la colone Etiquette_DPE\n",
    "data['Etiquette_DPE'].dtype"
   ]
  },
  {
   "cell_type": "code",
   "execution_count": 201,
   "metadata": {},
   "outputs": [
    {
     "data": {
      "text/plain": [
       "0            848,1\n",
       "1           1022,5\n",
       "2             1006\n",
       "3           1295,3\n",
       "4            894,3\n",
       "            ...   \n",
       "287160    358405,8\n",
       "287161    358405,8\n",
       "287162    358405,8\n",
       "287163    358405,8\n",
       "287164    358405,8\n",
       "Name: Besoin_ECS, Length: 287165, dtype: object"
      ]
     },
     "execution_count": 201,
     "metadata": {},
     "output_type": "execute_result"
    }
   ],
   "source": [
    "data['Besoin_ECS']"
   ]
  },
  {
   "cell_type": "code",
   "execution_count": 202,
   "metadata": {},
   "outputs": [
    {
     "name": "stdout",
     "output_type": "stream",
     "text": [
      "float64\n"
     ]
    }
   ],
   "source": [
    "# Correction des champs non homogènes avec une virgule comme séparateur\n",
    "# Ici, on remplace les virgules par des points, puis on convertit en float\n",
    "\n",
    "data['Besoin_ECS'] = pd.to_numeric(data['Besoin_ECS'].replace(',', '.', regex=True), errors='coerce')\n",
    "\n",
    "# Vérification des types après conversion\n",
    "print(data['Besoin_ECS'].dtype)\n"
   ]
  },
  {
   "cell_type": "code",
   "execution_count": 203,
   "metadata": {},
   "outputs": [
    {
     "data": {
      "text/plain": [
       "0            848.1\n",
       "1           1022.5\n",
       "2           1006.0\n",
       "3           1295.3\n",
       "4            894.3\n",
       "            ...   \n",
       "287160    358405.8\n",
       "287161    358405.8\n",
       "287162    358405.8\n",
       "287163    358405.8\n",
       "287164    358405.8\n",
       "Name: Besoin_ECS, Length: 287165, dtype: float64"
      ]
     },
     "execution_count": 203,
     "metadata": {},
     "output_type": "execute_result"
    }
   ],
   "source": [
    "data['Besoin_ECS']"
   ]
  },
  {
   "cell_type": "code",
   "execution_count": 204,
   "metadata": {},
   "outputs": [],
   "source": [
    "ls_variables_explicatives = [\n",
    "    'Année_construction',\n",
    "    'Besoin_ECS',\n",
    "    'Besoin_chauffage',\n",
    "    'Coût_chauffage',\n",
    "    'Coût_total_5_usages',\n",
    "    'Conso_5_usages/m²_é_finale',\n",
    "    'Conso_5_usages_par_m²_é_primaire',\n",
    "    'Conso_5_usages_é_finale_énergie_n°1',\n",
    "    'Conso_auxiliaires_é_finale',\n",
    "    'Conso_ECS_é_primaire',\n",
    "    'Conso_ECS_dépensier_é_finale',\n",
    "    'Conso_chauffage_é_finale',\n",
    "    'Conso_chauffage_é_primaire',\n",
    "    'Conso_éclairage_é_finale',\n",
    "    'Conso_refroidissement_é_finale',\n",
    "    'Deperditions_baies_vitrées',\n",
    "    'Déperditions_murs',\n",
    "    'Deperditions_planchers_bas',\n",
    "    'Deperditions_planchers_hauts',\n",
    "    'Déperditions_ponts_thermiques',\n",
    "    'Déperditions_renouvellement_air',\n",
    "    'Deperditions_enveloppe',\n",
    "    'Emission_GES_5_usages_par_m²',\n",
    "    'Emission_GES_chauffage',\n",
    "    'Emission_GES_refroidissement',\n",
    "    'Inertie_lourde_(0/1)',\n",
    "    'Nombre_appartement',\n",
    "    'Nombre_niveau_logement',\n",
    "    'Periode_construction',\n",
    "    'Surface_habitable_immeuble',\n",
    "    'Surface_habitable_logement',\n",
    "    'Type_bâtiment',\n",
    "    'Type_énergie_principale_chauffage',\n",
    "    'Type_installation_chauffage',\n",
    "    'Zone_climatique_',\n",
    "    'Qualité_isolation_murs',\n",
    "    'Qualité_isolation_plancher_bas'\n",
    "]"
   ]
  },
  {
   "cell_type": "code",
   "execution_count": 205,
   "metadata": {},
   "outputs": [
    {
     "name": "stdout",
     "output_type": "stream",
     "text": [
      "Année_construction                     float64\n",
      "Besoin_ECS                             float64\n",
      "Besoin_chauffage                       float64\n",
      "Coût_chauffage                         float64\n",
      "Coût_total_5_usages                    float64\n",
      "Conso_5_usages/m²_é_finale             float64\n",
      "Conso_5_usages_par_m²_é_primaire       float64\n",
      "Conso_5_usages_é_finale_énergie_n°1    float64\n",
      "Conso_auxiliaires_é_finale             float64\n",
      "Conso_ECS_é_primaire                   float64\n",
      "Conso_ECS_dépensier_é_finale           float64\n",
      "Conso_chauffage_é_finale               float64\n",
      "Conso_chauffage_é_primaire             float64\n",
      "Conso_éclairage_é_finale               float64\n",
      "Conso_refroidissement_é_finale         float64\n",
      "Deperditions_baies_vitrées             float64\n",
      "Déperditions_murs                      float64\n",
      "Deperditions_planchers_bas             float64\n",
      "Deperditions_planchers_hauts           float64\n",
      "Déperditions_ponts_thermiques          float64\n",
      "Déperditions_renouvellement_air        float64\n",
      "Deperditions_enveloppe                 float64\n",
      "Emission_GES_5_usages_par_m²           float64\n",
      "Emission_GES_chauffage                 float64\n",
      "Emission_GES_refroidissement           float64\n",
      "Inertie_lourde_(0/1)                      bool\n",
      "Nombre_appartement                     float64\n",
      "Nombre_niveau_logement                 float64\n",
      "Periode_construction                    object\n",
      "Surface_habitable_immeuble             float64\n",
      "Surface_habitable_logement             float64\n",
      "Type_bâtiment                           object\n",
      "Type_énergie_principale_chauffage       object\n",
      "Type_installation_chauffage             object\n",
      "Zone_climatique_                        object\n",
      "Qualité_isolation_murs                  object\n",
      "Qualité_isolation_plancher_bas          object\n",
      "dtype: object\n"
     ]
    }
   ],
   "source": [
    "print(data[ls_variables_explicatives].dtypes)"
   ]
  },
  {
   "cell_type": "code",
   "execution_count": 206,
   "metadata": {},
   "outputs": [
    {
     "data": {
      "text/plain": [
       "Année_construction                     0.0\n",
       "Besoin_ECS                             0.0\n",
       "Besoin_chauffage                       0.0\n",
       "Coût_chauffage                         0.0\n",
       "Coût_total_5_usages                    0.0\n",
       "Conso_5_usages/m²_é_finale             0.0\n",
       "Conso_5_usages_par_m²_é_primaire       0.0\n",
       "Conso_5_usages_é_finale_énergie_n°1    0.0\n",
       "Conso_auxiliaires_é_finale             0.0\n",
       "Conso_ECS_é_primaire                   0.0\n",
       "Conso_ECS_dépensier_é_finale           0.0\n",
       "Conso_chauffage_é_finale               0.0\n",
       "Conso_chauffage_é_primaire             0.0\n",
       "Conso_éclairage_é_finale               0.0\n",
       "Conso_refroidissement_é_finale         0.0\n",
       "Deperditions_baies_vitrées             0.0\n",
       "Déperditions_murs                      0.0\n",
       "Deperditions_planchers_bas             0.0\n",
       "Deperditions_planchers_hauts           0.0\n",
       "Déperditions_ponts_thermiques          0.0\n",
       "Déperditions_renouvellement_air        0.0\n",
       "Deperditions_enveloppe                 0.0\n",
       "Emission_GES_5_usages_par_m²           0.0\n",
       "Emission_GES_chauffage                 0.0\n",
       "Emission_GES_refroidissement           0.0\n",
       "Inertie_lourde_(0/1)                   0.0\n",
       "Nombre_appartement                     0.0\n",
       "Nombre_niveau_logement                 0.0\n",
       "Periode_construction                   0.0\n",
       "Surface_habitable_immeuble             0.0\n",
       "Surface_habitable_logement             0.0\n",
       "Type_bâtiment                          0.0\n",
       "Type_énergie_principale_chauffage      0.0\n",
       "Type_installation_chauffage            0.0\n",
       "Zone_climatique_                       0.0\n",
       "Qualité_isolation_murs                 0.0\n",
       "Qualité_isolation_plancher_bas         0.0\n",
       "dtype: float64"
      ]
     },
     "execution_count": 206,
     "metadata": {},
     "output_type": "execute_result"
    }
   ],
   "source": [
    "# Vérification des données manquantes\n",
    "data[ls_variables_explicatives].isnull().mean().sort_values(ascending=False)"
   ]
  },
  {
   "cell_type": "code",
   "execution_count": 207,
   "metadata": {},
   "outputs": [
    {
     "data": {
      "text/plain": [
       "Index(['Inertie_lourde_(0/1)', 'Periode_construction', 'Type_bâtiment',\n",
       "       'Type_énergie_principale_chauffage', 'Type_installation_chauffage',\n",
       "       'Zone_climatique_', 'Qualité_isolation_murs',\n",
       "       'Qualité_isolation_plancher_bas'],\n",
       "      dtype='object')"
      ]
     },
     "execution_count": 207,
     "metadata": {},
     "output_type": "execute_result"
    }
   ],
   "source": [
    "# Sélectionner toutes les colonnes non numériques (qualitatives)\n",
    "categorical_cols = data[ls_variables_explicatives].select_dtypes(exclude=[np.number]).columns\n",
    "\n",
    "categorical_cols"
   ]
  },
  {
   "cell_type": "code",
   "execution_count": 208,
   "metadata": {},
   "outputs": [],
   "source": [
    "from sklearn.preprocessing import OrdinalEncoder\n",
    "\n",
    "ordinalEncoder  =  OrdinalEncoder()\n",
    "# encoding categorical data\n",
    "\n",
    "data[categorical_cols] = ordinalEncoder.fit_transform(data[categorical_cols])"
   ]
  },
  {
   "cell_type": "code",
   "execution_count": 209,
   "metadata": {},
   "outputs": [],
   "source": [
    "#data[categorical_cols].dtypes"
   ]
  },
  {
   "cell_type": "code",
   "execution_count": 210,
   "metadata": {},
   "outputs": [
    {
     "name": "stdout",
     "output_type": "stream",
     "text": [
      "Colonnes quantitatives : Index(['Année_construction', 'Besoin_ECS', 'Besoin_chauffage',\n",
      "       'Coût_chauffage', 'Coût_total_5_usages', 'Conso_5_usages/m²_é_finale',\n",
      "       'Conso_5_usages_par_m²_é_primaire',\n",
      "       'Conso_5_usages_é_finale_énergie_n°1', 'Conso_auxiliaires_é_finale',\n",
      "       'Conso_ECS_é_primaire', 'Conso_ECS_dépensier_é_finale',\n",
      "       'Conso_chauffage_é_finale', 'Conso_chauffage_é_primaire',\n",
      "       'Conso_éclairage_é_finale', 'Conso_refroidissement_é_finale',\n",
      "       'Deperditions_baies_vitrées', 'Déperditions_murs',\n",
      "       'Deperditions_planchers_bas', 'Deperditions_planchers_hauts',\n",
      "       'Déperditions_ponts_thermiques', 'Déperditions_renouvellement_air',\n",
      "       'Deperditions_enveloppe', 'Emission_GES_5_usages_par_m²',\n",
      "       'Emission_GES_chauffage', 'Emission_GES_refroidissement',\n",
      "       'Inertie_lourde_(0/1)', 'Nombre_appartement', 'Nombre_niveau_logement',\n",
      "       'Periode_construction', 'Surface_habitable_immeuble',\n",
      "       'Surface_habitable_logement', 'Type_bâtiment',\n",
      "       'Type_énergie_principale_chauffage', 'Type_installation_chauffage',\n",
      "       'Zone_climatique_', 'Qualité_isolation_murs',\n",
      "       'Qualité_isolation_plancher_bas'],\n",
      "      dtype='object')\n"
     ]
    }
   ],
   "source": [
    "# Sélectionner uniquement les colonnes quantitatives (numériques)\n",
    "quant_cols = data[ls_variables_explicatives].select_dtypes(include=[np.number]).columns\n",
    "\n",
    "# Afficher les colonnes quantitatives\n",
    "print(\"Colonnes quantitatives :\", quant_cols)"
   ]
  },
  {
   "cell_type": "code",
   "execution_count": 211,
   "metadata": {},
   "outputs": [],
   "source": [
    "from sklearn.preprocessing import OrdinalEncoder\n",
    "\n",
    "# 1. Remplacer les valeurs manquantes dans les colonnes catégorielles par une chaîne, par exemple \"inconnu\"\n",
    "data[categorical_cols] = data[categorical_cols].fillna(\"inconnu\")\n",
    "\n",
    "# 2. Vérifier que les colonnes catégorielles contiennent bien des chaînes de caractères uniquement\n",
    "for col in categorical_cols:\n",
    "    data[col] = data[col].astype(str)  # S'assurer que toutes les valeurs sont bien des chaînes\n",
    "\n",
    "# 3. Appliquer l'encoder ordinal\n",
    "from sklearn.preprocessing import OrdinalEncoder\n",
    "ordinalEncoder = OrdinalEncoder()\n",
    "data[categorical_cols] = ordinalEncoder.fit_transform(data[categorical_cols])\n"
   ]
  },
  {
   "cell_type": "code",
   "execution_count": 212,
   "metadata": {},
   "outputs": [
    {
     "data": {
      "text/plain": [
       "Inertie_lourde_(0/1)                 float64\n",
       "Periode_construction                 float64\n",
       "Type_bâtiment                        float64\n",
       "Type_énergie_principale_chauffage    float64\n",
       "Type_installation_chauffage          float64\n",
       "Zone_climatique_                     float64\n",
       "Qualité_isolation_murs               float64\n",
       "Qualité_isolation_plancher_bas       float64\n",
       "dtype: object"
      ]
     },
     "execution_count": 212,
     "metadata": {},
     "output_type": "execute_result"
    }
   ],
   "source": [
    "data[categorical_cols].dtypes"
   ]
  },
  {
   "cell_type": "code",
   "execution_count": 213,
   "metadata": {},
   "outputs": [
    {
     "data": {
      "text/plain": [
       "0         G\n",
       "1         G\n",
       "2         F\n",
       "3         D\n",
       "4         C\n",
       "         ..\n",
       "287160    A\n",
       "287161    A\n",
       "287162    A\n",
       "287163    A\n",
       "287164    A\n",
       "Name: Etiquette_DPE, Length: 287165, dtype: object"
      ]
     },
     "execution_count": 213,
     "metadata": {},
     "output_type": "execute_result"
    }
   ],
   "source": [
    "data['Etiquette_DPE']"
   ]
  },
  {
   "cell_type": "code",
   "execution_count": 214,
   "metadata": {},
   "outputs": [
    {
     "data": {
      "image/png": "[encoded data removed]",
      "text/plain": [
       "<Figure size 800x600 with 1 Axes>"
      ]
     },
     "metadata": {},
     "output_type": "display_data"
    }
   ],
   "source": [
    "import matplotlib.pyplot as plt \n",
    "import seaborn as sns\n",
    "\n",
    "sub_df = data[data['Surface_habitable_logement']<500]\n",
    "plt.figure(figsize=(8, 6))\n",
    "sns.histplot(sub_df['Surface_habitable_logement'], bins=30, kde=True)\n",
    "plt.title('Distribution de la Surface habitable')\n",
    "plt.xlabel('Surface (m²)')\n",
    "plt.ylabel('Fréquence')\n",
    "plt.show()"
   ]
  },
  {
   "cell_type": "markdown",
   "metadata": {},
   "source": [
    "## Echantillonnage"
   ]
  },
  {
   "cell_type": "code",
   "execution_count": 215,
   "metadata": {},
   "outputs": [
    {
     "name": "stdout",
     "output_type": "stream",
     "text": [
      "Conso_chauffage_dépensier_é_finale    0\n",
      "Nom__commune_(BAN)                    0\n",
      "Emission_GES_chauffage                0\n",
      "Besoin_refroidissement                0\n",
      "Coût_total_5_usages                   0\n",
      "                                     ..\n",
      "Somme_coûts                           0\n",
      "Vérification_coût_total               0\n",
      "Coût chauffage en %                   0\n",
      "passoire_energetique                  0\n",
      "Periode_construction                  0\n",
      "Length: 127, dtype: int64\n"
     ]
    }
   ],
   "source": [
    "# Affiche le nombre de valeurs manquantes pour chaque colonne\n",
    "print(data.isnull().sum())"
   ]
  },
  {
   "cell_type": "code",
   "execution_count": 216,
   "metadata": {},
   "outputs": [],
   "source": [
    "X = data[data.columns.difference(['Etiquette_DPE'])]"
   ]
  },
  {
   "cell_type": "code",
   "execution_count": 217,
   "metadata": {},
   "outputs": [],
   "source": [
    "X = data[quant_cols]"
   ]
  },
  {
   "cell_type": "code",
   "execution_count": 218,
   "metadata": {},
   "outputs": [],
   "source": [
    "Y = data['Etiquette_DPE']"
   ]
  },
  {
   "cell_type": "code",
   "execution_count": 219,
   "metadata": {},
   "outputs": [],
   "source": [
    "from sklearn.model_selection import train_test_split\n",
    "X_train, X_test, y_train, y_test = train_test_split(X, Y,\n",
    "                                                    test_size = 0.30,\n",
    "                                                    stratify = Y,\n",
    "                                                    random_state = 42)"
   ]
  },
  {
   "cell_type": "code",
   "execution_count": 220,
   "metadata": {},
   "outputs": [],
   "source": [
    "from sklearn.impute import SimpleImputer\n",
    "\n",
    "# Imputation des NaN par la moyenne des colonnes\n",
    "imputer = SimpleImputer(strategy='mean')\n",
    "X_train = imputer.fit_transform(X_train)\n",
    "X_test = imputer.transform(X_test)"
   ]
  },
  {
   "cell_type": "code",
   "execution_count": 221,
   "metadata": {},
   "outputs": [
    {
     "data": {
      "text/plain": [
       "Etiquette_DPE\n",
       "C    0.374869\n",
       "D    0.299396\n",
       "E    0.174277\n",
       "F    0.058062\n",
       "B    0.038839\n",
       "G    0.036494\n",
       "A    0.018062\n",
       "Name: proportion, dtype: float64"
      ]
     },
     "execution_count": 221,
     "metadata": {},
     "output_type": "execute_result"
    }
   ],
   "source": [
    "y_train.value_counts(normalize=True)\n",
    "y_test.value_counts(normalize=True)"
   ]
  },
  {
   "cell_type": "code",
   "execution_count": 222,
   "metadata": {},
   "outputs": [
    {
     "name": "stdout",
     "output_type": "stream",
     "text": [
      "(201015, 37)\n",
      "(86150, 37)\n"
     ]
    }
   ],
   "source": [
    "print(X_train.shape)\n",
    "print(X_test.shape)\n"
   ]
  },
  {
   "cell_type": "markdown",
   "metadata": {},
   "source": [
    "## Arbre de décision"
   ]
  },
  {
   "cell_type": "code",
   "execution_count": 223,
   "metadata": {},
   "outputs": [],
   "source": [
    "from sklearn.tree import DecisionTreeClassifier\n",
    "import matplotlib.pyplot as plt\n",
    "\n",
    "model_arbre = DecisionTreeClassifier(max_depth=3 , min_samples_leaf=50, min_samples_split=100)\n",
    "model_arbre = model_arbre.fit(X_train,y_train)"
   ]
  },
  {
   "cell_type": "code",
   "execution_count": 224,
   "metadata": {},
   "outputs": [
    {
     "data": {
      "image/png": "[encoded data removed]",
      "text/plain": [
       "<Figure size 1600x400 with 1 Axes>"
      ]
     },
     "metadata": {},
     "output_type": "display_data"
    }
   ],
   "source": [
    "from sklearn.tree import plot_tree\n",
    "plt.figure(figsize=(16,4))\n",
    "plot_tree(model_arbre,feature_names = list(X.columns),filled=True, fontsize=10)\n",
    "plt.show()"
   ]
  },
  {
   "cell_type": "code",
   "execution_count": 225,
   "metadata": {},
   "outputs": [
    {
     "data": {
      "text/plain": [
       "array(['E', 'D', 'C', ..., 'D', 'E', 'D'], dtype=object)"
      ]
     },
     "execution_count": 225,
     "metadata": {},
     "output_type": "execute_result"
    }
   ],
   "source": [
    "y_pred = model_arbre.predict(X_test)\n",
    "y_pred"
   ]
  },
  {
   "cell_type": "code",
   "execution_count": 226,
   "metadata": {},
   "outputs": [
    {
     "data": {
      "text/plain": [
       "array([[0.00000000e+00, 0.00000000e+00, 1.01776731e-03, 5.06848120e-02,\n",
       "        9.22329815e-01, 2.48916805e-02, 1.07592544e-03],\n",
       "       [0.00000000e+00, 0.00000000e+00, 5.42458809e-02, 9.45520133e-01,\n",
       "        1.36492152e-04, 1.94988788e-05, 7.79955153e-05],\n",
       "       [6.97888208e-03, 6.34702782e-02, 9.27543926e-01, 7.38026491e-04,\n",
       "        7.25078658e-04, 2.84852330e-04, 2.58956664e-04],\n",
       "       [0.00000000e+00, 0.00000000e+00, 1.01776731e-03, 5.06848120e-02,\n",
       "        9.22329815e-01, 2.48916805e-02, 1.07592544e-03],\n",
       "       [6.97888208e-03, 6.34702782e-02, 9.27543926e-01, 7.38026491e-04,\n",
       "        7.25078658e-04, 2.84852330e-04, 2.58956664e-04],\n",
       "       [0.00000000e+00, 0.00000000e+00, 5.42458809e-02, 9.45520133e-01,\n",
       "        1.36492152e-04, 1.94988788e-05, 7.79955153e-05],\n",
       "       [0.00000000e+00, 0.00000000e+00, 5.42458809e-02, 9.45520133e-01,\n",
       "        1.36492152e-04, 1.94988788e-05, 7.79955153e-05],\n",
       "       [0.00000000e+00, 0.00000000e+00, 5.42458809e-02, 9.45520133e-01,\n",
       "        1.36492152e-04, 1.94988788e-05, 7.79955153e-05],\n",
       "       [6.97888208e-03, 6.34702782e-02, 9.27543926e-01, 7.38026491e-04,\n",
       "        7.25078658e-04, 2.84852330e-04, 2.58956664e-04],\n",
       "       [0.00000000e+00, 0.00000000e+00, 5.42458809e-02, 9.45520133e-01,\n",
       "        1.36492152e-04, 1.94988788e-05, 7.79955153e-05]])"
      ]
     },
     "execution_count": 226,
     "metadata": {},
     "output_type": "execute_result"
    }
   ],
   "source": [
    "y_pred_proba = model_arbre.predict_proba(X_test)\n",
    "y_pred_proba[0:10]"
   ]
  },
  {
   "cell_type": "markdown",
   "metadata": {},
   "source": [
    "## Evaluation de modèle"
   ]
  },
  {
   "cell_type": "code",
   "execution_count": 227,
   "metadata": {},
   "outputs": [
    {
     "data": {
      "text/html": [
       "<div>\n",
       "<style scoped>\n",
       "    .dataframe tbody tr th:only-of-type {\n",
       "        vertical-align: middle;\n",
       "    }\n",
       "\n",
       "    .dataframe tbody tr th {\n",
       "        vertical-align: top;\n",
       "    }\n",
       "\n",
       "    .dataframe thead th {\n",
       "        text-align: right;\n",
       "    }\n",
       "</style>\n",
       "<table border=\"1\" class=\"dataframe\">\n",
       "  <thead>\n",
       "    <tr style=\"text-align: right;\">\n",
       "      <th>pred</th>\n",
       "      <th>A</th>\n",
       "      <th>C</th>\n",
       "      <th>D</th>\n",
       "      <th>E</th>\n",
       "      <th>F</th>\n",
       "      <th>All</th>\n",
       "    </tr>\n",
       "    <tr>\n",
       "      <th>obs</th>\n",
       "      <th></th>\n",
       "      <th></th>\n",
       "      <th></th>\n",
       "      <th></th>\n",
       "      <th></th>\n",
       "      <th></th>\n",
       "    </tr>\n",
       "  </thead>\n",
       "  <tbody>\n",
       "    <tr>\n",
       "      <th>A</th>\n",
       "      <td>1299</td>\n",
       "      <td>257</td>\n",
       "      <td>0</td>\n",
       "      <td>0</td>\n",
       "      <td>0</td>\n",
       "      <td>1556</td>\n",
       "    </tr>\n",
       "    <tr>\n",
       "      <th>B</th>\n",
       "      <td>1258</td>\n",
       "      <td>2088</td>\n",
       "      <td>0</td>\n",
       "      <td>0</td>\n",
       "      <td>0</td>\n",
       "      <td>3346</td>\n",
       "    </tr>\n",
       "    <tr>\n",
       "      <th>C</th>\n",
       "      <td>238</td>\n",
       "      <td>30845</td>\n",
       "      <td>1199</td>\n",
       "      <td>12</td>\n",
       "      <td>1</td>\n",
       "      <td>32295</td>\n",
       "    </tr>\n",
       "    <tr>\n",
       "      <th>D</th>\n",
       "      <td>58</td>\n",
       "      <td>188</td>\n",
       "      <td>24790</td>\n",
       "      <td>734</td>\n",
       "      <td>23</td>\n",
       "      <td>25793</td>\n",
       "    </tr>\n",
       "    <tr>\n",
       "      <th>E</th>\n",
       "      <td>39</td>\n",
       "      <td>19</td>\n",
       "      <td>28</td>\n",
       "      <td>14615</td>\n",
       "      <td>313</td>\n",
       "      <td>15014</td>\n",
       "    </tr>\n",
       "    <tr>\n",
       "      <th>F</th>\n",
       "      <td>15</td>\n",
       "      <td>6</td>\n",
       "      <td>1</td>\n",
       "      <td>413</td>\n",
       "      <td>4567</td>\n",
       "      <td>5002</td>\n",
       "    </tr>\n",
       "    <tr>\n",
       "      <th>G</th>\n",
       "      <td>11</td>\n",
       "      <td>11</td>\n",
       "      <td>2</td>\n",
       "      <td>14</td>\n",
       "      <td>3106</td>\n",
       "      <td>3144</td>\n",
       "    </tr>\n",
       "    <tr>\n",
       "      <th>All</th>\n",
       "      <td>2918</td>\n",
       "      <td>33414</td>\n",
       "      <td>26020</td>\n",
       "      <td>15788</td>\n",
       "      <td>8010</td>\n",
       "      <td>86150</td>\n",
       "    </tr>\n",
       "  </tbody>\n",
       "</table>\n",
       "</div>"
      ],
      "text/plain": [
       "pred     A      C      D      E     F    All\n",
       "obs                                         \n",
       "A     1299    257      0      0     0   1556\n",
       "B     1258   2088      0      0     0   3346\n",
       "C      238  30845   1199     12     1  32295\n",
       "D       58    188  24790    734    23  25793\n",
       "E       39     19     28  14615   313  15014\n",
       "F       15      6      1    413  4567   5002\n",
       "G       11     11      2     14  3106   3144\n",
       "All   2918  33414  26020  15788  8010  86150"
      ]
     },
     "execution_count": 227,
     "metadata": {},
     "output_type": "execute_result"
    }
   ],
   "source": [
    "pd.crosstab(y_test,y_pred, colnames=['pred'], rownames=['obs'], margins=True)"
   ]
  },
  {
   "cell_type": "code",
   "execution_count": 228,
   "metadata": {},
   "outputs": [
    {
     "name": "stdout",
     "output_type": "stream",
     "text": [
      "0.8835287289611143\n"
     ]
    }
   ],
   "source": [
    "from sklearn.metrics import accuracy_score\n",
    "print(accuracy_score(y_test,y_pred))"
   ]
  },
  {
   "cell_type": "code",
   "execution_count": 229,
   "metadata": {},
   "outputs": [
    {
     "name": "stdout",
     "output_type": "stream",
     "text": [
      "recall : 0.6625010548250124\n",
      "precision : 0.5452682879105256\n"
     ]
    },
    {
     "name": "stderr",
     "output_type": "stream",
     "text": [
      "d:\\M2 SISE\\Python Machine Learning\\Projet\\Performance_Energetique\\projetMl\\Lib\\site-packages\\sklearn\\metrics\\_classification.py:1531: UndefinedMetricWarning: Precision is ill-defined and being set to 0.0 in labels with no predicted samples. Use `zero_division` parameter to control this behavior.\n",
      "  _warn_prf(average, modifier, f\"{metric.capitalize()} is\", len(result))\n"
     ]
    }
   ],
   "source": [
    "from sklearn.metrics import recall_score, precision_score\n",
    "\n",
    "# Choix de 'macro' ou 'weighted' pour une moyenne équilibrée entre les classes\n",
    "print('recall : ' + str(recall_score(y_test, y_pred, average='macro')))\n",
    "print('precision : ' + str(precision_score(y_test, y_pred, average='macro')))\n"
   ]
  },
  {
   "cell_type": "code",
   "execution_count": 230,
   "metadata": {},
   "outputs": [
    {
     "name": "stdout",
     "output_type": "stream",
     "text": [
      "f1_score : 0.5896227545903325\n"
     ]
    }
   ],
   "source": [
    "from sklearn.metrics import f1_score\n",
    "\n",
    "# Utilisation de 'macro' pour une moyenne équilibrée entre les classes\n",
    "print('f1_score : ' + str(f1_score(y_test, y_pred, average='macro')))\n"
   ]
  },
  {
   "cell_type": "code",
   "execution_count": 231,
   "metadata": {},
   "outputs": [
    {
     "name": "stdout",
     "output_type": "stream",
     "text": [
      "recall : 0.6625010548250124\n"
     ]
    },
    {
     "name": "stderr",
     "output_type": "stream",
     "text": [
      "d:\\M2 SISE\\Python Machine Learning\\Projet\\Performance_Energetique\\projetMl\\Lib\\site-packages\\sklearn\\metrics\\_classification.py:1531: UndefinedMetricWarning: Precision is ill-defined and being set to 0.0 in labels with no predicted samples. Use `zero_division` parameter to control this behavior.\n",
      "  _warn_prf(average, modifier, f\"{metric.capitalize()} is\", len(result))\n"
     ]
    },
    {
     "name": "stdout",
     "output_type": "stream",
     "text": [
      "precision : 0.5452682879105256\n",
      "f1_score : 0.5896227545903325\n"
     ]
    }
   ],
   "source": [
    "print('recall : ' + str(recall_score(y_test,y_pred,average='macro')))\n",
    "print('precision : ' + str(precision_score(y_test,y_pred, average='macro')))\n",
    "print('f1_score : ' + str(f1_score(y_test,y_pred, average='macro')))"
   ]
  },
  {
   "cell_type": "code",
   "execution_count": 232,
   "metadata": {},
   "outputs": [
    {
     "name": "stdout",
     "output_type": "stream",
     "text": [
      "recall : 0.8835287289611143\n"
     ]
    },
    {
     "name": "stderr",
     "output_type": "stream",
     "text": [
      "d:\\M2 SISE\\Python Machine Learning\\Projet\\Performance_Energetique\\projetMl\\Lib\\site-packages\\sklearn\\metrics\\_classification.py:1531: UndefinedMetricWarning: Precision is ill-defined and being set to 0.0 in labels with no predicted samples. Use `zero_division` parameter to control this behavior.\n",
      "  _warn_prf(average, modifier, f\"{metric.capitalize()} is\", len(result))\n"
     ]
    },
    {
     "name": "stdout",
     "output_type": "stream",
     "text": [
      "precision : 0.8337655559800325\n",
      "f1_score : 0.855062746068111\n"
     ]
    }
   ],
   "source": [
    "print('recall : ' + str(recall_score(y_test,y_pred,average='weighted')))\n",
    "print('precision : ' + str(precision_score(y_test,y_pred, average='weighted')))\n",
    "print('f1_score : ' + str(f1_score(y_test,y_pred, average='weighted')))"
   ]
  },
  {
   "cell_type": "code",
   "execution_count": 233,
   "metadata": {},
   "outputs": [
    {
     "name": "stdout",
     "output_type": "stream",
     "text": [
      "Scores de validation croisée:[0.98103475 0.98311406 0.97896841 0.98113586 0.9818942 ]\n",
      "Moyenne des scores de validation croisée : 0.9812294543106768\n"
     ]
    },
    {
     "name": "stderr",
     "output_type": "stream",
     "text": [
      "d:\\M2 SISE\\Python Machine Learning\\Projet\\Performance_Energetique\\projetMl\\Lib\\site-packages\\sklearn\\metrics\\_classification.py:1531: UndefinedMetricWarning: Precision is ill-defined and being set to 0.0 in labels with no predicted samples. Use `zero_division` parameter to control this behavior.\n",
      "  _warn_prf(average, modifier, f\"{metric.capitalize()} is\", len(result))\n",
      "d:\\M2 SISE\\Python Machine Learning\\Projet\\Performance_Energetique\\projetMl\\Lib\\site-packages\\sklearn\\metrics\\_classification.py:1531: UndefinedMetricWarning: Precision is ill-defined and being set to 0.0 in labels with no predicted samples. Use `zero_division` parameter to control this behavior.\n",
      "  _warn_prf(average, modifier, f\"{metric.capitalize()} is\", len(result))\n"
     ]
    },
    {
     "name": "stdout",
     "output_type": "stream",
     "text": [
      "              precision    recall  f1-score   support\n",
      "\n",
      "           A       0.45      0.83      0.58      1556\n",
      "           B       0.00      0.00      0.00      3346\n",
      "           C       0.92      0.96      0.94     32295\n",
      "           D       0.95      0.96      0.96     25793\n",
      "           E       0.93      0.97      0.95     15014\n",
      "           F       0.57      0.91      0.70      5002\n",
      "           G       0.00      0.00      0.00      3144\n",
      "\n",
      "    accuracy                           0.88     86150\n",
      "   macro avg       0.55      0.66      0.59     86150\n",
      "weighted avg       0.83      0.88      0.86     86150\n",
      "\n",
      "Accuracy sur l'ensemble de test: 0.8835287289611143\n"
     ]
    },
    {
     "name": "stderr",
     "output_type": "stream",
     "text": [
      "d:\\M2 SISE\\Python Machine Learning\\Projet\\Performance_Energetique\\projetMl\\Lib\\site-packages\\sklearn\\metrics\\_classification.py:1531: UndefinedMetricWarning: Precision is ill-defined and being set to 0.0 in labels with no predicted samples. Use `zero_division` parameter to control this behavior.\n",
      "  _warn_prf(average, modifier, f\"{metric.capitalize()} is\", len(result))\n"
     ]
    }
   ],
   "source": [
    "from sklearn.model_selection import cross_val_predict, cross_val_score\n",
    "from sklearn.metrics import classification_report\n",
    "\n",
    "model_arbre_cv = DecisionTreeClassifier(random_state=42)\n",
    "\n",
    "cv_scores = cross_val_score(model_arbre_cv, X_train, y_train, cv=5, scoring='f1_macro')\n",
    "\n",
    "print(f\"Scores de validation croisée:{cv_scores}\") # permet de savoir comment le modele prédit (surapprentissage ?)\n",
    "print(f\"Moyenne des scores de validation croisée : {cv_scores.mean()}\")\n",
    "\n",
    "model_arbre_cv.fit(X_train, y_train)\n",
    "\n",
    "y_pred_arbre_cv = model_arbre.predict(X_test)\n",
    "\n",
    "print(classification_report(y_test, y_pred_arbre_cv)) # permet d'avoir l'ensemble les scores des metriques recall, precision , f1\n",
    "print(f\"Accuracy sur l'ensemble de test: {accuracy_score(y_test, y_pred_arbre_cv)}\")"
   ]
  },
  {
   "cell_type": "markdown",
   "metadata": {},
   "source": [
    "## D'autres méthodes"
   ]
  },
  {
   "cell_type": "markdown",
   "metadata": {},
   "source": [
    "## KNN"
   ]
  },
  {
   "cell_type": "code",
   "execution_count": 234,
   "metadata": {},
   "outputs": [
    {
     "data": {
      "text/html": [
       "<style>#sk-container-id-5 {\n",
       "  /* Definition of color scheme common for light and dark mode */\n",
       "  --sklearn-color-text: black;\n",
       "  --sklearn-color-line: gray;\n",
       "  /* Definition of color scheme for unfitted estimators */\n",
       "  --sklearn-color-unfitted-level-0: #fff5e6;\n",
       "  --sklearn-color-unfitted-level-1: #f6e4d2;\n",
       "  --sklearn-color-unfitted-level-2: #ffe0b3;\n",
       "  --sklearn-color-unfitted-level-3: chocolate;\n",
       "  /* Definition of color scheme for fitted estimators */\n",
       "  --sklearn-color-fitted-level-0: #f0f8ff;\n",
       "  --sklearn-color-fitted-level-1: #d4ebff;\n",
       "  --sklearn-color-fitted-level-2: #b3dbfd;\n",
       "  --sklearn-color-fitted-level-3: cornflowerblue;\n",
       "\n",
       "  /* Specific color for light theme */\n",
       "  --sklearn-color-text-on-default-background: var(--sg-text-color, var(--theme-code-foreground, var(--jp-content-font-color1, black)));\n",
       "  --sklearn-color-background: var(--sg-background-color, var(--theme-background, var(--jp-layout-color0, white)));\n",
       "  --sklearn-color-border-box: var(--sg-text-color, var(--theme-code-foreground, var(--jp-content-font-color1, black)));\n",
       "  --sklearn-color-icon: #696969;\n",
       "\n",
       "  @media (prefers-color-scheme: dark) {\n",
       "    /* Redefinition of color scheme for dark theme */\n",
       "    --sklearn-color-text-on-default-background: var(--sg-text-color, var(--theme-code-foreground, var(--jp-content-font-color1, white)));\n",
       "    --sklearn-color-background: var(--sg-background-color, var(--theme-background, var(--jp-layout-color0, #111)));\n",
       "    --sklearn-color-border-box: var(--sg-text-color, var(--theme-code-foreground, var(--jp-content-font-color1, white)));\n",
       "    --sklearn-color-icon: #878787;\n",
       "  }\n",
       "}\n",
       "\n",
       "#sk-container-id-5 {\n",
       "  color: var(--sklearn-color-text);\n",
       "}\n",
       "\n",
       "#sk-container-id-5 pre {\n",
       "  padding: 0;\n",
       "}\n",
       "\n",
       "#sk-container-id-5 input.sk-hidden--visually {\n",
       "  border: 0;\n",
       "  clip: rect(1px 1px 1px 1px);\n",
       "  clip: rect(1px, 1px, 1px, 1px);\n",
       "  height: 1px;\n",
       "  margin: -1px;\n",
       "  overflow: hidden;\n",
       "  padding: 0;\n",
       "  position: absolute;\n",
       "  width: 1px;\n",
       "}\n",
       "\n",
       "#sk-container-id-5 div.sk-dashed-wrapped {\n",
       "  border: 1px dashed var(--sklearn-color-line);\n",
       "  margin: 0 0.4em 0.5em 0.4em;\n",
       "  box-sizing: border-box;\n",
       "  padding-bottom: 0.4em;\n",
       "  background-color: var(--sklearn-color-background);\n",
       "}\n",
       "\n",
       "#sk-container-id-5 div.sk-container {\n",
       "  /* jupyter's `normalize.less` sets `[hidden] { display: none; }`\n",
       "     but bootstrap.min.css set `[hidden] { display: none !important; }`\n",
       "     so we also need the `!important` here to be able to override the\n",
       "     default hidden behavior on the sphinx rendered scikit-learn.org.\n",
       "     See: https://github.com/scikit-learn/scikit-learn/issues/21755 */\n",
       "  display: inline-block !important;\n",
       "  position: relative;\n",
       "}\n",
       "\n",
       "#sk-container-id-5 div.sk-text-repr-fallback {\n",
       "  display: none;\n",
       "}\n",
       "\n",
       "div.sk-parallel-item,\n",
       "div.sk-serial,\n",
       "div.sk-item {\n",
       "  /* draw centered vertical line to link estimators */\n",
       "  background-image: linear-gradient(var(--sklearn-color-text-on-default-background), var(--sklearn-color-text-on-default-background));\n",
       "  background-size: 2px 100%;\n",
       "  background-repeat: no-repeat;\n",
       "  background-position: center center;\n",
       "}\n",
       "\n",
       "/* Parallel-specific style estimator block */\n",
       "\n",
       "#sk-container-id-5 div.sk-parallel-item::after {\n",
       "  content: \"\";\n",
       "  width: 100%;\n",
       "  border-bottom: 2px solid var(--sklearn-color-text-on-default-background);\n",
       "  flex-grow: 1;\n",
       "}\n",
       "\n",
       "#sk-container-id-5 div.sk-parallel {\n",
       "  display: flex;\n",
       "  align-items: stretch;\n",
       "  justify-content: center;\n",
       "  background-color: var(--sklearn-color-background);\n",
       "  position: relative;\n",
       "}\n",
       "\n",
       "#sk-container-id-5 div.sk-parallel-item {\n",
       "  display: flex;\n",
       "  flex-direction: column;\n",
       "}\n",
       "\n",
       "#sk-container-id-5 div.sk-parallel-item:first-child::after {\n",
       "  align-self: flex-end;\n",
       "  width: 50%;\n",
       "}\n",
       "\n",
       "#sk-container-id-5 div.sk-parallel-item:last-child::after {\n",
       "  align-self: flex-start;\n",
       "  width: 50%;\n",
       "}\n",
       "\n",
       "#sk-container-id-5 div.sk-parallel-item:only-child::after {\n",
       "  width: 0;\n",
       "}\n",
       "\n",
       "/* Serial-specific style estimator block */\n",
       "\n",
       "#sk-container-id-5 div.sk-serial {\n",
       "  display: flex;\n",
       "  flex-direction: column;\n",
       "  align-items: center;\n",
       "  background-color: var(--sklearn-color-background);\n",
       "  padding-right: 1em;\n",
       "  padding-left: 1em;\n",
       "}\n",
       "\n",
       "\n",
       "/* Toggleable style: style used for estimator/Pipeline/ColumnTransformer box that is\n",
       "clickable and can be expanded/collapsed.\n",
       "- Pipeline and ColumnTransformer use this feature and define the default style\n",
       "- Estimators will overwrite some part of the style using the `sk-estimator` class\n",
       "*/\n",
       "\n",
       "/* Pipeline and ColumnTransformer style (default) */\n",
       "\n",
       "#sk-container-id-5 div.sk-toggleable {\n",
       "  /* Default theme specific background. It is overwritten whether we have a\n",
       "  specific estimator or a Pipeline/ColumnTransformer */\n",
       "  background-color: var(--sklearn-color-background);\n",
       "}\n",
       "\n",
       "/* Toggleable label */\n",
       "#sk-container-id-5 label.sk-toggleable__label {\n",
       "  cursor: pointer;\n",
       "  display: block;\n",
       "  width: 100%;\n",
       "  margin-bottom: 0;\n",
       "  padding: 0.5em;\n",
       "  box-sizing: border-box;\n",
       "  text-align: center;\n",
       "}\n",
       "\n",
       "#sk-container-id-5 label.sk-toggleable__label-arrow:before {\n",
       "  /* Arrow on the left of the label */\n",
       "  content: \"▸\";\n",
       "  float: left;\n",
       "  margin-right: 0.25em;\n",
       "  color: var(--sklearn-color-icon);\n",
       "}\n",
       "\n",
       "#sk-container-id-5 label.sk-toggleable__label-arrow:hover:before {\n",
       "  color: var(--sklearn-color-text);\n",
       "}\n",
       "\n",
       "/* Toggleable content - dropdown */\n",
       "\n",
       "#sk-container-id-5 div.sk-toggleable__content {\n",
       "  max-height: 0;\n",
       "  max-width: 0;\n",
       "  overflow: hidden;\n",
       "  text-align: left;\n",
       "  /* unfitted */\n",
       "  background-color: var(--sklearn-color-unfitted-level-0);\n",
       "}\n",
       "\n",
       "#sk-container-id-5 div.sk-toggleable__content.fitted {\n",
       "  /* fitted */\n",
       "  background-color: var(--sklearn-color-fitted-level-0);\n",
       "}\n",
       "\n",
       "#sk-container-id-5 div.sk-toggleable__content pre {\n",
       "  margin: 0.2em;\n",
       "  border-radius: 0.25em;\n",
       "  color: var(--sklearn-color-text);\n",
       "  /* unfitted */\n",
       "  background-color: var(--sklearn-color-unfitted-level-0);\n",
       "}\n",
       "\n",
       "#sk-container-id-5 div.sk-toggleable__content.fitted pre {\n",
       "  /* unfitted */\n",
       "  background-color: var(--sklearn-color-fitted-level-0);\n",
       "}\n",
       "\n",
       "#sk-container-id-5 input.sk-toggleable__control:checked~div.sk-toggleable__content {\n",
       "  /* Expand drop-down */\n",
       "  max-height: 200px;\n",
       "  max-width: 100%;\n",
       "  overflow: auto;\n",
       "}\n",
       "\n",
       "#sk-container-id-5 input.sk-toggleable__control:checked~label.sk-toggleable__label-arrow:before {\n",
       "  content: \"▾\";\n",
       "}\n",
       "\n",
       "/* Pipeline/ColumnTransformer-specific style */\n",
       "\n",
       "#sk-container-id-5 div.sk-label input.sk-toggleable__control:checked~label.sk-toggleable__label {\n",
       "  color: var(--sklearn-color-text);\n",
       "  background-color: var(--sklearn-color-unfitted-level-2);\n",
       "}\n",
       "\n",
       "#sk-container-id-5 div.sk-label.fitted input.sk-toggleable__control:checked~label.sk-toggleable__label {\n",
       "  background-color: var(--sklearn-color-fitted-level-2);\n",
       "}\n",
       "\n",
       "/* Estimator-specific style */\n",
       "\n",
       "/* Colorize estimator box */\n",
       "#sk-container-id-5 div.sk-estimator input.sk-toggleable__control:checked~label.sk-toggleable__label {\n",
       "  /* unfitted */\n",
       "  background-color: var(--sklearn-color-unfitted-level-2);\n",
       "}\n",
       "\n",
       "#sk-container-id-5 div.sk-estimator.fitted input.sk-toggleable__control:checked~label.sk-toggleable__label {\n",
       "  /* fitted */\n",
       "  background-color: var(--sklearn-color-fitted-level-2);\n",
       "}\n",
       "\n",
       "#sk-container-id-5 div.sk-label label.sk-toggleable__label,\n",
       "#sk-container-id-5 div.sk-label label {\n",
       "  /* The background is the default theme color */\n",
       "  color: var(--sklearn-color-text-on-default-background);\n",
       "}\n",
       "\n",
       "/* On hover, darken the color of the background */\n",
       "#sk-container-id-5 div.sk-label:hover label.sk-toggleable__label {\n",
       "  color: var(--sklearn-color-text);\n",
       "  background-color: var(--sklearn-color-unfitted-level-2);\n",
       "}\n",
       "\n",
       "/* Label box, darken color on hover, fitted */\n",
       "#sk-container-id-5 div.sk-label.fitted:hover label.sk-toggleable__label.fitted {\n",
       "  color: var(--sklearn-color-text);\n",
       "  background-color: var(--sklearn-color-fitted-level-2);\n",
       "}\n",
       "\n",
       "/* Estimator label */\n",
       "\n",
       "#sk-container-id-5 div.sk-label label {\n",
       "  font-family: monospace;\n",
       "  font-weight: bold;\n",
       "  display: inline-block;\n",
       "  line-height: 1.2em;\n",
       "}\n",
       "\n",
       "#sk-container-id-5 div.sk-label-container {\n",
       "  text-align: center;\n",
       "}\n",
       "\n",
       "/* Estimator-specific */\n",
       "#sk-container-id-5 div.sk-estimator {\n",
       "  font-family: monospace;\n",
       "  border: 1px dotted var(--sklearn-color-border-box);\n",
       "  border-radius: 0.25em;\n",
       "  box-sizing: border-box;\n",
       "  margin-bottom: 0.5em;\n",
       "  /* unfitted */\n",
       "  background-color: var(--sklearn-color-unfitted-level-0);\n",
       "}\n",
       "\n",
       "#sk-container-id-5 div.sk-estimator.fitted {\n",
       "  /* fitted */\n",
       "  background-color: var(--sklearn-color-fitted-level-0);\n",
       "}\n",
       "\n",
       "/* on hover */\n",
       "#sk-container-id-5 div.sk-estimator:hover {\n",
       "  /* unfitted */\n",
       "  background-color: var(--sklearn-color-unfitted-level-2);\n",
       "}\n",
       "\n",
       "#sk-container-id-5 div.sk-estimator.fitted:hover {\n",
       "  /* fitted */\n",
       "  background-color: var(--sklearn-color-fitted-level-2);\n",
       "}\n",
       "\n",
       "/* Specification for estimator info (e.g. \"i\" and \"?\") */\n",
       "\n",
       "/* Common style for \"i\" and \"?\" */\n",
       "\n",
       ".sk-estimator-doc-link,\n",
       "a:link.sk-estimator-doc-link,\n",
       "a:visited.sk-estimator-doc-link {\n",
       "  float: right;\n",
       "  font-size: smaller;\n",
       "  line-height: 1em;\n",
       "  font-family: monospace;\n",
       "  background-color: var(--sklearn-color-background);\n",
       "  border-radius: 1em;\n",
       "  height: 1em;\n",
       "  width: 1em;\n",
       "  text-decoration: none !important;\n",
       "  margin-left: 1ex;\n",
       "  /* unfitted */\n",
       "  border: var(--sklearn-color-unfitted-level-1) 1pt solid;\n",
       "  color: var(--sklearn-color-unfitted-level-1);\n",
       "}\n",
       "\n",
       ".sk-estimator-doc-link.fitted,\n",
       "a:link.sk-estimator-doc-link.fitted,\n",
       "a:visited.sk-estimator-doc-link.fitted {\n",
       "  /* fitted */\n",
       "  border: var(--sklearn-color-fitted-level-1) 1pt solid;\n",
       "  color: var(--sklearn-color-fitted-level-1);\n",
       "}\n",
       "\n",
       "/* On hover */\n",
       "div.sk-estimator:hover .sk-estimator-doc-link:hover,\n",
       ".sk-estimator-doc-link:hover,\n",
       "div.sk-label-container:hover .sk-estimator-doc-link:hover,\n",
       ".sk-estimator-doc-link:hover {\n",
       "  /* unfitted */\n",
       "  background-color: var(--sklearn-color-unfitted-level-3);\n",
       "  color: var(--sklearn-color-background);\n",
       "  text-decoration: none;\n",
       "}\n",
       "\n",
       "div.sk-estimator.fitted:hover .sk-estimator-doc-link.fitted:hover,\n",
       ".sk-estimator-doc-link.fitted:hover,\n",
       "div.sk-label-container:hover .sk-estimator-doc-link.fitted:hover,\n",
       ".sk-estimator-doc-link.fitted:hover {\n",
       "  /* fitted */\n",
       "  background-color: var(--sklearn-color-fitted-level-3);\n",
       "  color: var(--sklearn-color-background);\n",
       "  text-decoration: none;\n",
       "}\n",
       "\n",
       "/* Span, style for the box shown on hovering the info icon */\n",
       ".sk-estimator-doc-link span {\n",
       "  display: none;\n",
       "  z-index: 9999;\n",
       "  position: relative;\n",
       "  font-weight: normal;\n",
       "  right: .2ex;\n",
       "  padding: .5ex;\n",
       "  margin: .5ex;\n",
       "  width: min-content;\n",
       "  min-width: 20ex;\n",
       "  max-width: 50ex;\n",
       "  color: var(--sklearn-color-text);\n",
       "  box-shadow: 2pt 2pt 4pt #999;\n",
       "  /* unfitted */\n",
       "  background: var(--sklearn-color-unfitted-level-0);\n",
       "  border: .5pt solid var(--sklearn-color-unfitted-level-3);\n",
       "}\n",
       "\n",
       ".sk-estimator-doc-link.fitted span {\n",
       "  /* fitted */\n",
       "  background: var(--sklearn-color-fitted-level-0);\n",
       "  border: var(--sklearn-color-fitted-level-3);\n",
       "}\n",
       "\n",
       ".sk-estimator-doc-link:hover span {\n",
       "  display: block;\n",
       "}\n",
       "\n",
       "/* \"?\"-specific style due to the `<a>` HTML tag */\n",
       "\n",
       "#sk-container-id-5 a.estimator_doc_link {\n",
       "  float: right;\n",
       "  font-size: 1rem;\n",
       "  line-height: 1em;\n",
       "  font-family: monospace;\n",
       "  background-color: var(--sklearn-color-background);\n",
       "  border-radius: 1rem;\n",
       "  height: 1rem;\n",
       "  width: 1rem;\n",
       "  text-decoration: none;\n",
       "  /* unfitted */\n",
       "  color: var(--sklearn-color-unfitted-level-1);\n",
       "  border: var(--sklearn-color-unfitted-level-1) 1pt solid;\n",
       "}\n",
       "\n",
       "#sk-container-id-5 a.estimator_doc_link.fitted {\n",
       "  /* fitted */\n",
       "  border: var(--sklearn-color-fitted-level-1) 1pt solid;\n",
       "  color: var(--sklearn-color-fitted-level-1);\n",
       "}\n",
       "\n",
       "/* On hover */\n",
       "#sk-container-id-5 a.estimator_doc_link:hover {\n",
       "  /* unfitted */\n",
       "  background-color: var(--sklearn-color-unfitted-level-3);\n",
       "  color: var(--sklearn-color-background);\n",
       "  text-decoration: none;\n",
       "}\n",
       "\n",
       "#sk-container-id-5 a.estimator_doc_link.fitted:hover {\n",
       "  /* fitted */\n",
       "  background-color: var(--sklearn-color-fitted-level-3);\n",
       "}\n",
       "</style><div id=\"sk-container-id-5\" class=\"sk-top-container\"><div class=\"sk-text-repr-fallback\"><pre>KNeighborsClassifier()</pre><b>In a Jupyter environment, please rerun this cell to show the HTML representation or trust the notebook. <br />On GitHub, the HTML representation is unable to render, please try loading this page with nbviewer.org.</b></div><div class=\"sk-container\" hidden><div class=\"sk-item\"><div class=\"sk-estimator fitted sk-toggleable\"><input class=\"sk-toggleable__control sk-hidden--visually\" id=\"sk-estimator-id-5\" type=\"checkbox\" checked><label for=\"sk-estimator-id-5\" class=\"sk-toggleable__label fitted sk-toggleable__label-arrow fitted\">&nbsp;&nbsp;KNeighborsClassifier<a class=\"sk-estimator-doc-link fitted\" rel=\"noreferrer\" target=\"_blank\" href=\"https://scikit-learn.org/1.5/modules/generated/sklearn.neighbors.KNeighborsClassifier.html\">?<span>Documentation for KNeighborsClassifier</span></a><span class=\"sk-estimator-doc-link fitted\">i<span>Fitted</span></span></label><div class=\"sk-toggleable__content fitted\"><pre>KNeighborsClassifier()</pre></div> </div></div></div></div>"
      ],
      "text/plain": [
       "KNeighborsClassifier()"
      ]
     },
     "execution_count": 234,
     "metadata": {},
     "output_type": "execute_result"
    }
   ],
   "source": [
    "from sklearn.neighbors import KNeighborsClassifier\n",
    "\n",
    "model_knn = KNeighborsClassifier(n_neighbors = 5)\n",
    "model_knn.fit(X_train, y_train)"
   ]
  },
  {
   "cell_type": "code",
   "execution_count": 235,
   "metadata": {},
   "outputs": [],
   "source": [
    "y_pred_knn = model_knn.predict(X_test)"
   ]
  },
  {
   "cell_type": "code",
   "execution_count": 236,
   "metadata": {},
   "outputs": [
    {
     "name": "stdout",
     "output_type": "stream",
     "text": [
      "f1_score : 0.722265330441421\n"
     ]
    }
   ],
   "source": [
    "from sklearn.metrics import f1_score\n",
    "\n",
    "# Par exemple, pour le mode 'macro'\n",
    "print('f1_score : ' + str(f1_score(y_test, y_pred_knn, average='macro')))"
   ]
  },
  {
   "cell_type": "code",
   "execution_count": 237,
   "metadata": {},
   "outputs": [
    {
     "name": "stderr",
     "output_type": "stream",
     "text": [
      "d:\\M2 SISE\\Python Machine Learning\\Projet\\Performance_Energetique\\projetMl\\Lib\\site-packages\\sklearn\\linear_model\\_logistic.py:469: ConvergenceWarning: lbfgs failed to converge (status=1):\n",
      "STOP: TOTAL NO. of ITERATIONS REACHED LIMIT.\n",
      "\n",
      "Increase the number of iterations (max_iter) or scale the data as shown in:\n",
      "    https://scikit-learn.org/stable/modules/preprocessing.html\n",
      "Please also refer to the documentation for alternative solver options:\n",
      "    https://scikit-learn.org/stable/modules/linear_model.html#logistic-regression\n",
      "  n_iter_i = _check_optimize_result(\n"
     ]
    },
    {
     "name": "stdout",
     "output_type": "stream",
     "text": [
      "f1_score : 0.2511324782543857\n"
     ]
    }
   ],
   "source": [
    "from sklearn.linear_model import LogisticRegression\n",
    "\n",
    "reg_log = LogisticRegression()\n",
    "reg_log_model = reg_log.fit(X_train, y_train)\n",
    "y_pred_reg = reg_log_model.predict(X_test)\n",
    "\n",
    "print('f1_score : ' + str(f1_score(y_test,y_pred_reg,average='macro', pos_label=1)))"
   ]
  },
  {
   "cell_type": "code",
   "execution_count": 238,
   "metadata": {},
   "outputs": [
    {
     "data": {
      "text/plain": [
       "array([[2.77752417e-03, 4.58175698e-02, 2.47770070e-01, 3.43740758e-01,\n",
       "        2.18418214e-01, 6.91001097e-02, 7.23757547e-02],\n",
       "       [4.16623150e-04, 1.95184927e-02, 3.69604409e-01, 3.63106269e-01,\n",
       "        2.01579960e-01, 2.98441308e-02, 1.59301150e-02],\n",
       "       [2.43856413e-01, 1.86372454e-01, 5.61732231e-01, 8.03889886e-03,\n",
       "        3.52309350e-09, 1.11201497e-13, 4.68619520e-25],\n",
       "       [5.05321091e-33, 1.93971090e-11, 4.91975125e-03, 1.28452436e-01,\n",
       "        4.59123107e-01, 3.63644675e-01, 4.38600298e-02],\n",
       "       [1.66224828e-03, 4.14174433e-02, 3.77056593e-01, 3.21841806e-01,\n",
       "        1.71457761e-01, 4.82765246e-02, 3.82876241e-02],\n",
       "       [1.12357968e-03, 3.12959266e-02, 2.07969185e-01, 3.44144743e-01,\n",
       "        2.40344104e-01, 9.09381219e-02, 8.41843401e-02],\n",
       "       [4.34688588e-20, 1.02750688e-02, 2.03141824e-01, 3.59932351e-01,\n",
       "        2.86883755e-01, 1.37152064e-01, 2.61493720e-03],\n",
       "       [2.35292859e-04, 2.18712670e-02, 3.24689229e-01, 3.36338001e-01,\n",
       "        2.03590209e-01, 6.57462129e-02, 4.75297884e-02],\n",
       "       [2.07104418e-01, 1.97255462e-01, 5.87125210e-01, 8.51490568e-03,\n",
       "        3.87684834e-09, 1.68998044e-13, 7.63613516e-25],\n",
       "       [8.85740068e-05, 1.84303464e-02, 2.17649098e-01, 2.84709381e-01,\n",
       "        2.07998438e-01, 1.29385161e-01, 1.41739000e-01]])"
      ]
     },
     "execution_count": 238,
     "metadata": {},
     "output_type": "execute_result"
    }
   ],
   "source": [
    "reg_log_model.predict_proba(X_test)[0:10]"
   ]
  },
  {
   "cell_type": "code",
   "execution_count": 239,
   "metadata": {},
   "outputs": [
    {
     "name": "stdout",
     "output_type": "stream",
     "text": [
      "                    Coef\n",
      "feature_0  -6.243997e-05\n",
      "feature_1   4.975513e-05\n",
      "feature_2  -1.957257e-04\n",
      "feature_3  -1.239986e-05\n",
      "feature_4  -2.234542e-05\n",
      "feature_5  -5.624849e-06\n",
      "feature_6  -8.154590e-06\n",
      "feature_7  -1.950801e-04\n",
      "feature_8  -7.065827e-06\n",
      "feature_9  -9.606822e-05\n",
      "feature_10 -1.024764e-04\n",
      "feature_11 -1.322002e-04\n",
      "feature_12 -1.366836e-04\n",
      "feature_13  4.307789e-06\n",
      "feature_14  2.870746e-06\n",
      "feature_15 -1.814958e-06\n",
      "feature_16 -1.916634e-06\n",
      "feature_17 -3.313122e-07\n",
      "feature_18 -4.092019e-07\n",
      "feature_19 -1.467287e-06\n",
      "feature_20 -3.556013e-06\n",
      "feature_21 -9.748861e-06\n",
      "feature_22 -9.685899e-07\n",
      "feature_23 -3.137693e-05\n",
      "feature_24  1.044686e-07\n",
      "feature_25 -9.930872e-09\n",
      "feature_26 -8.667974e-07\n",
      "feature_27 -4.445295e-08\n",
      "feature_28 -1.128213e-07\n",
      "feature_29 -1.002060e-04\n",
      "feature_30  1.084361e-06\n",
      "feature_31  4.038144e-08\n",
      "feature_32 -3.424205e-07\n",
      "feature_33 -2.261548e-08\n",
      "feature_34 -6.277740e-08\n",
      "feature_35 -3.591835e-09\n",
      "feature_36 -6.248610e-08\n",
      "Constante  -3.158569e-08\n"
     ]
    }
   ],
   "source": [
    "# Création du DataFrame des coefficients avec le bon nombre de colonnes\n",
    "coef = pd.DataFrame(reg_log_model.coef_[0,], index=[f'feature_{i}' for i in range(X_train.shape[1])], columns=['Coef'])\n",
    "coef.loc['Constante'] = reg_log_model.intercept_[0]\n",
    "print(coef)\n"
   ]
  },
  {
   "cell_type": "markdown",
   "metadata": {},
   "source": [
    "## Aller plus loin avec SMOTE pour ré équilibrer les classes"
   ]
  },
  {
   "cell_type": "code",
   "execution_count": 240,
   "metadata": {},
   "outputs": [],
   "source": [
    "from imblearn.over_sampling import SMOTE\n",
    "\n",
    "oversample = SMOTE()\n",
    "X_train_smote, y_train_smote = oversample.fit_resample(X_train, y_train)"
   ]
  },
  {
   "cell_type": "code",
   "execution_count": 241,
   "metadata": {},
   "outputs": [],
   "source": [
    "from imblearn.over_sampling import BorderlineSMOTE\n",
    "\n",
    "oversample = BorderlineSMOTE()\n",
    "X_train_smote, y_train_smote = oversample.fit_resample(X_train, y_train)"
   ]
  },
  {
   "cell_type": "markdown",
   "metadata": {},
   "source": [
    "## Random forest"
   ]
  },
  {
   "cell_type": "code",
   "execution_count": 242,
   "metadata": {},
   "outputs": [
    {
     "name": "stdout",
     "output_type": "stream",
     "text": [
      "f1_score: 0.9845547891322765\n"
     ]
    },
    {
     "data": {
      "text/html": [
       "<div>\n",
       "<style scoped>\n",
       "    .dataframe tbody tr th:only-of-type {\n",
       "        vertical-align: middle;\n",
       "    }\n",
       "\n",
       "    .dataframe tbody tr th {\n",
       "        vertical-align: top;\n",
       "    }\n",
       "\n",
       "    .dataframe thead th {\n",
       "        text-align: right;\n",
       "    }\n",
       "</style>\n",
       "<table border=\"1\" class=\"dataframe\">\n",
       "  <thead>\n",
       "    <tr style=\"text-align: right;\">\n",
       "      <th>pred</th>\n",
       "      <th>A</th>\n",
       "      <th>C</th>\n",
       "      <th>D</th>\n",
       "      <th>E</th>\n",
       "      <th>F</th>\n",
       "      <th>All</th>\n",
       "    </tr>\n",
       "    <tr>\n",
       "      <th>obs</th>\n",
       "      <th></th>\n",
       "      <th></th>\n",
       "      <th></th>\n",
       "      <th></th>\n",
       "      <th></th>\n",
       "      <th></th>\n",
       "    </tr>\n",
       "  </thead>\n",
       "  <tbody>\n",
       "    <tr>\n",
       "      <th>A</th>\n",
       "      <td>1299</td>\n",
       "      <td>257</td>\n",
       "      <td>0</td>\n",
       "      <td>0</td>\n",
       "      <td>0</td>\n",
       "      <td>1556</td>\n",
       "    </tr>\n",
       "    <tr>\n",
       "      <th>B</th>\n",
       "      <td>1258</td>\n",
       "      <td>2088</td>\n",
       "      <td>0</td>\n",
       "      <td>0</td>\n",
       "      <td>0</td>\n",
       "      <td>3346</td>\n",
       "    </tr>\n",
       "    <tr>\n",
       "      <th>C</th>\n",
       "      <td>238</td>\n",
       "      <td>30845</td>\n",
       "      <td>1199</td>\n",
       "      <td>12</td>\n",
       "      <td>1</td>\n",
       "      <td>32295</td>\n",
       "    </tr>\n",
       "    <tr>\n",
       "      <th>D</th>\n",
       "      <td>58</td>\n",
       "      <td>188</td>\n",
       "      <td>24790</td>\n",
       "      <td>734</td>\n",
       "      <td>23</td>\n",
       "      <td>25793</td>\n",
       "    </tr>\n",
       "    <tr>\n",
       "      <th>E</th>\n",
       "      <td>39</td>\n",
       "      <td>19</td>\n",
       "      <td>28</td>\n",
       "      <td>14615</td>\n",
       "      <td>313</td>\n",
       "      <td>15014</td>\n",
       "    </tr>\n",
       "    <tr>\n",
       "      <th>F</th>\n",
       "      <td>15</td>\n",
       "      <td>6</td>\n",
       "      <td>1</td>\n",
       "      <td>413</td>\n",
       "      <td>4567</td>\n",
       "      <td>5002</td>\n",
       "    </tr>\n",
       "    <tr>\n",
       "      <th>G</th>\n",
       "      <td>11</td>\n",
       "      <td>11</td>\n",
       "      <td>2</td>\n",
       "      <td>14</td>\n",
       "      <td>3106</td>\n",
       "      <td>3144</td>\n",
       "    </tr>\n",
       "    <tr>\n",
       "      <th>All</th>\n",
       "      <td>2918</td>\n",
       "      <td>33414</td>\n",
       "      <td>26020</td>\n",
       "      <td>15788</td>\n",
       "      <td>8010</td>\n",
       "      <td>86150</td>\n",
       "    </tr>\n",
       "  </tbody>\n",
       "</table>\n",
       "</div>"
      ],
      "text/plain": [
       "pred     A      C      D      E     F    All\n",
       "obs                                         \n",
       "A     1299    257      0      0     0   1556\n",
       "B     1258   2088      0      0     0   3346\n",
       "C      238  30845   1199     12     1  32295\n",
       "D       58    188  24790    734    23  25793\n",
       "E       39     19     28  14615   313  15014\n",
       "F       15      6      1    413  4567   5002\n",
       "G       11     11      2     14  3106   3144\n",
       "All   2918  33414  26020  15788  8010  86150"
      ]
     },
     "execution_count": 242,
     "metadata": {},
     "output_type": "execute_result"
    }
   ],
   "source": [
    " \n",
    "from sklearn.ensemble import RandomForestClassifier\n",
    "\n",
    "rf_clf = RandomForestClassifier(random_state=0)\n",
    "\n",
    "rf_model = rf_clf.fit(X_train, y_train)\n",
    "y_pred_rf = rf_model.predict(X_test)\n",
    "\n",
    "print('f1_score: '+ str(f1_score(y_test, y_pred_rf, average='macro', pos_label=1)))\n",
    "\n",
    "pd.crosstab(y_test, y_pred, colnames=['pred'], rownames=['obs'] , margins=True)"
   ]
  },
  {
   "cell_type": "code",
   "execution_count": 243,
   "metadata": {},
   "outputs": [
    {
     "name": "stdout",
     "output_type": "stream",
     "text": [
      "                                     Importances\n",
      "Conso_5_usages_par_m²_é_primaire        0.347628\n",
      "Emission_GES_5_usages_par_m²            0.168119\n",
      "Conso_5_usages/m²_é_finale              0.145900\n",
      "Conso_chauffage_é_primaire              0.032856\n",
      "Emission_GES_chauffage                  0.025559\n",
      "Coût_chauffage                          0.021962\n",
      "Besoin_ECS                              0.020827\n",
      "Surface_habitable_logement              0.020214\n",
      "Coût_total_5_usages                     0.019527\n",
      "Conso_5_usages_é_finale_énergie_n°1     0.019478\n",
      "Conso_ECS_é_primaire                    0.019269\n",
      "Conso_éclairage_é_finale                0.018977\n",
      "Type_énergie_principale_chauffage       0.017642\n",
      "Conso_chauffage_é_finale                0.016668\n",
      "Année_construction                      0.016138\n",
      "Conso_ECS_dépensier_é_finale            0.015960\n",
      "Conso_auxiliaires_é_finale              0.007989\n",
      "Besoin_chauffage                        0.007832\n",
      "Déperditions_murs                       0.006507\n",
      "Deperditions_enveloppe                  0.006206\n",
      "Déperditions_renouvellement_air         0.005111\n",
      "Qualité_isolation_murs                  0.004688\n",
      "Nombre_appartement                      0.004386\n",
      "Déperditions_ponts_thermiques           0.004328\n",
      "Type_installation_chauffage             0.004205\n",
      "Deperditions_baies_vitrées              0.003872\n",
      "Surface_habitable_immeuble              0.003477\n",
      "Deperditions_planchers_hauts            0.003351\n",
      "Deperditions_planchers_bas              0.003076\n",
      "Type_bâtiment                           0.002747\n",
      "Periode_construction                    0.002268\n",
      "Qualité_isolation_plancher_bas          0.001366\n",
      "Nombre_niveau_logement                  0.000505\n",
      "Inertie_lourde_(0/1)                    0.000418\n",
      "Conso_refroidissement_é_finale          0.000414\n",
      "Emission_GES_refroidissement            0.000397\n",
      "Zone_climatique_                        0.000134\n"
     ]
    }
   ],
   "source": [
    "# Pas besoin de .tolist() après la compréhension de liste\n",
    "importances_df = pd.DataFrame(rf_model.feature_importances_,\n",
    "                              index=data[ls_variables_explicatives].columns,\n",
    "                              columns=['Importances']).sort_values(by='Importances', ascending=False)\n",
    "\n",
    "print(importances_df)"
   ]
  },
  {
   "cell_type": "code",
   "execution_count": 244,
   "metadata": {},
   "outputs": [
    {
     "name": "stdout",
     "output_type": "stream",
     "text": [
      "37\n"
     ]
    },
    {
     "data": {
      "text/plain": [
       "37"
      ]
     },
     "execution_count": 244,
     "metadata": {},
     "output_type": "execute_result"
    }
   ],
   "source": [
    "print(len(data[ls_variables_explicatives].columns))\n",
    "len(rf_model.feature_importances_)"
   ]
  },
  {
   "cell_type": "code",
   "execution_count": 245,
   "metadata": {},
   "outputs": [
    {
     "name": "stdout",
     "output_type": "stream",
     "text": [
      "                                     Importances\n",
      "Conso_5_usages_par_m²_é_primaire        0.347628\n",
      "Emission_GES_5_usages_par_m²            0.168119\n",
      "Conso_5_usages/m²_é_finale              0.145900\n",
      "Conso_chauffage_é_primaire              0.032856\n",
      "Emission_GES_chauffage                  0.025559\n",
      "Coût_chauffage                          0.021962\n",
      "Besoin_ECS                              0.020827\n",
      "Surface_habitable_logement              0.020214\n",
      "Coût_total_5_usages                     0.019527\n",
      "Conso_5_usages_é_finale_énergie_n°1     0.019478\n",
      "Conso_ECS_é_primaire                    0.019269\n",
      "Conso_éclairage_é_finale                0.018977\n",
      "Type_énergie_principale_chauffage       0.017642\n",
      "Conso_chauffage_é_finale                0.016668\n",
      "Année_construction                      0.016138\n",
      "Conso_ECS_dépensier_é_finale            0.015960\n",
      "Conso_auxiliaires_é_finale              0.007989\n",
      "Besoin_chauffage                        0.007832\n",
      "Déperditions_murs                       0.006507\n",
      "Deperditions_enveloppe                  0.006206\n",
      "Déperditions_renouvellement_air         0.005111\n",
      "Qualité_isolation_murs                  0.004688\n",
      "Nombre_appartement                      0.004386\n",
      "Déperditions_ponts_thermiques           0.004328\n",
      "Type_installation_chauffage             0.004205\n",
      "Deperditions_baies_vitrées              0.003872\n",
      "Surface_habitable_immeuble              0.003477\n",
      "Deperditions_planchers_hauts            0.003351\n",
      "Deperditions_planchers_bas              0.003076\n",
      "Type_bâtiment                           0.002747\n",
      "Periode_construction                    0.002268\n",
      "Qualité_isolation_plancher_bas          0.001366\n",
      "Nombre_niveau_logement                  0.000505\n",
      "Inertie_lourde_(0/1)                    0.000418\n",
      "Conso_refroidissement_é_finale          0.000414\n",
      "Emission_GES_refroidissement            0.000397\n",
      "Zone_climatique_                        0.000134\n"
     ]
    }
   ],
   "source": [
    "importances_df = pd.DataFrame(rf_model.feature_importances_,\n",
    "                              index=data[ls_variables_explicatives].columns,  # Utilise les noms de colonnes de X_train\n",
    "                              columns=['Importances']).sort_values(by='Importances', ascending=False)\n",
    "\n",
    "print(importances_df)\n"
   ]
  },
  {
   "cell_type": "markdown",
   "metadata": {},
   "source": [
    "## KNN over sampling"
   ]
  },
  {
   "cell_type": "code",
   "execution_count": 246,
   "metadata": {},
   "outputs": [],
   "source": [
    "knn_smote = KNeighborsClassifier(n_neighbors=3)\n",
    "knn_smote.fit(X_train_smote, y_train_smote)\n",
    "y_pred_knn_smote = knn_smote.predict(X_test)"
   ]
  },
  {
   "cell_type": "code",
   "execution_count": 247,
   "metadata": {},
   "outputs": [
    {
     "name": "stdout",
     "output_type": "stream",
     "text": [
      "f1_score : 0.7235562033131712\n"
     ]
    }
   ],
   "source": [
    "print('f1_score : ' + str(f1_score(y_test,y_pred_knn_smote,average='macro', pos_label=1)))"
   ]
  },
  {
   "cell_type": "code",
   "execution_count": 248,
   "metadata": {},
   "outputs": [],
   "source": [
    "from imblearn.over_sampling import BorderlineSMOTE\n",
    "\n",
    "oversample = BorderlineSMOTE()\n",
    "X_train_smote, y_train_smote = oversample.fit_resample(X_train, y_train)"
   ]
  },
  {
   "cell_type": "markdown",
   "metadata": {},
   "source": [
    "## Regression logistique"
   ]
  },
  {
   "cell_type": "code",
   "execution_count": 249,
   "metadata": {},
   "outputs": [
    {
     "name": "stderr",
     "output_type": "stream",
     "text": [
      "d:\\M2 SISE\\Python Machine Learning\\Projet\\Performance_Energetique\\projetMl\\Lib\\site-packages\\sklearn\\linear_model\\_logistic.py:469: ConvergenceWarning: lbfgs failed to converge (status=1):\n",
      "STOP: TOTAL NO. of ITERATIONS REACHED LIMIT.\n",
      "\n",
      "Increase the number of iterations (max_iter) or scale the data as shown in:\n",
      "    https://scikit-learn.org/stable/modules/preprocessing.html\n",
      "Please also refer to the documentation for alternative solver options:\n",
      "    https://scikit-learn.org/stable/modules/linear_model.html#logistic-regression\n",
      "  n_iter_i = _check_optimize_result(\n"
     ]
    },
    {
     "name": "stdout",
     "output_type": "stream",
     "text": [
      "f1_score : 0.2511324782543857\n"
     ]
    }
   ],
   "source": [
    "from sklearn.linear_model import LogisticRegression\n",
    "\n",
    "reg_log = LogisticRegression()\n",
    "reg_log_model = reg_log.fit(X_train, y_train)\n",
    "y_pred_reg = reg_log_model.predict(X_test)\n",
    "\n",
    "print('f1_score : ' + str(f1_score(y_test,y_pred_reg,average='macro', pos_label=1)))"
   ]
  },
  {
   "cell_type": "code",
   "execution_count": 250,
   "metadata": {},
   "outputs": [
    {
     "data": {
      "text/plain": [
       "array([[2.77752417e-03, 4.58175698e-02, 2.47770070e-01, 3.43740758e-01,\n",
       "        2.18418214e-01, 6.91001097e-02, 7.23757547e-02],\n",
       "       [4.16623150e-04, 1.95184927e-02, 3.69604409e-01, 3.63106269e-01,\n",
       "        2.01579960e-01, 2.98441308e-02, 1.59301150e-02],\n",
       "       [2.43856413e-01, 1.86372454e-01, 5.61732231e-01, 8.03889886e-03,\n",
       "        3.52309350e-09, 1.11201497e-13, 4.68619520e-25],\n",
       "       [5.05321091e-33, 1.93971090e-11, 4.91975125e-03, 1.28452436e-01,\n",
       "        4.59123107e-01, 3.63644675e-01, 4.38600298e-02],\n",
       "       [1.66224828e-03, 4.14174433e-02, 3.77056593e-01, 3.21841806e-01,\n",
       "        1.71457761e-01, 4.82765246e-02, 3.82876241e-02],\n",
       "       [1.12357968e-03, 3.12959266e-02, 2.07969185e-01, 3.44144743e-01,\n",
       "        2.40344104e-01, 9.09381219e-02, 8.41843401e-02],\n",
       "       [4.34688588e-20, 1.02750688e-02, 2.03141824e-01, 3.59932351e-01,\n",
       "        2.86883755e-01, 1.37152064e-01, 2.61493720e-03],\n",
       "       [2.35292859e-04, 2.18712670e-02, 3.24689229e-01, 3.36338001e-01,\n",
       "        2.03590209e-01, 6.57462129e-02, 4.75297884e-02],\n",
       "       [2.07104418e-01, 1.97255462e-01, 5.87125210e-01, 8.51490568e-03,\n",
       "        3.87684834e-09, 1.68998044e-13, 7.63613516e-25],\n",
       "       [8.85740068e-05, 1.84303464e-02, 2.17649098e-01, 2.84709381e-01,\n",
       "        2.07998438e-01, 1.29385161e-01, 1.41739000e-01]])"
      ]
     },
     "execution_count": 250,
     "metadata": {},
     "output_type": "execute_result"
    }
   ],
   "source": [
    "reg_log_model.predict_proba(X_test)[0:10]"
   ]
  },
  {
   "cell_type": "code",
   "execution_count": 251,
   "metadata": {},
   "outputs": [
    {
     "name": "stdout",
     "output_type": "stream",
     "text": [
      "                                             Coef\n",
      "Besoin_ECS                           4.975513e-05\n",
      "Conso_éclairage_é_finale             4.307789e-06\n",
      "Conso_refroidissement_é_finale       2.870746e-06\n",
      "Surface_habitable_logement           1.084361e-06\n",
      "Emission_GES_refroidissement         1.044686e-07\n",
      "Type_bâtiment                        4.038144e-08\n",
      "Qualité_isolation_murs              -3.591835e-09\n",
      "Inertie_lourde_(0/1)                -9.930872e-09\n",
      "Type_installation_chauffage         -2.261548e-08\n",
      "Nombre_niveau_logement              -4.445295e-08\n",
      "Qualité_isolation_plancher_bas      -6.248610e-08\n",
      "Zone_climatique_                    -6.277740e-08\n",
      "Periode_construction                -1.128213e-07\n",
      "Deperditions_planchers_bas          -3.313122e-07\n",
      "Type_énergie_principale_chauffage   -3.424205e-07\n",
      "Deperditions_planchers_hauts        -4.092019e-07\n",
      "Nombre_appartement                  -8.667974e-07\n",
      "Emission_GES_5_usages_par_m²        -9.685899e-07\n",
      "Déperditions_ponts_thermiques       -1.467287e-06\n",
      "Deperditions_baies_vitrées          -1.814958e-06\n",
      "Déperditions_murs                   -1.916634e-06\n",
      "Déperditions_renouvellement_air     -3.556013e-06\n",
      "Conso_5_usages/m²_é_finale          -5.624849e-06\n",
      "Conso_auxiliaires_é_finale          -7.065827e-06\n",
      "Conso_5_usages_par_m²_é_primaire    -8.154590e-06\n",
      "Deperditions_enveloppe              -9.748861e-06\n",
      "Coût_chauffage                      -1.239986e-05\n",
      "Coût_total_5_usages                 -2.234542e-05\n",
      "Emission_GES_chauffage              -3.137693e-05\n",
      "Année_construction                  -6.243997e-05\n",
      "Conso_ECS_é_primaire                -9.606822e-05\n",
      "Surface_habitable_immeuble          -1.002060e-04\n",
      "Conso_ECS_dépensier_é_finale        -1.024764e-04\n",
      "Conso_chauffage_é_finale            -1.322002e-04\n",
      "Conso_chauffage_é_primaire          -1.366836e-04\n",
      "Conso_5_usages_é_finale_énergie_n°1 -1.950801e-04\n",
      "Besoin_chauffage                    -1.957257e-04\n"
     ]
    }
   ],
   "source": [
    "coef = pd.DataFrame(reg_log_model.coef_[0], index=data[ls_variables_explicatives].columns, columns=['Coef']).sort_values(by='Coef', ascending=False)\n",
    "print(coef)"
   ]
  }
 ],
 "metadata": {
  "kernelspec": {
   "display_name": "projetMl",
   "language": "python",
   "name": "python3"
  },
  "language_info": {
   "codemirror_mode": {
    "name": "ipython",
    "version": 3
   },
   "file_extension": ".py",
   "mimetype": "text/x-python",
   "name": "python",
   "nbconvert_exporter": "python",
   "pygments_lexer": "ipython3",
   "version": "3.11.9"
  }
 },
 "nbformat": 4,
 "nbformat_minor": 2
}
