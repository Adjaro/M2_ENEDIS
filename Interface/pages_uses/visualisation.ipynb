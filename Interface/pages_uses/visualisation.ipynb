{
 "cells": [
  {
   "cell_type": "code",
   "execution_count": 2,
   "metadata": {},
   "outputs": [],
   "source": [
    "import pandas  as  pd"
   ]
  },
  {
   "cell_type": "code",
   "execution_count": 6,
   "metadata": {},
   "outputs": [],
   "source": [
    "df_reshaped = pd.read_csv('../data/data_carto.csv')"
   ]
  },
  {
   "cell_type": "code",
   "execution_count": 7,
   "metadata": {},
   "outputs": [
    {
     "data": {
      "text/html": [
       "<div>\n",
       "<style scoped>\n",
       "    .dataframe tbody tr th:only-of-type {\n",
       "        vertical-align: middle;\n",
       "    }\n",
       "\n",
       "    .dataframe tbody tr th {\n",
       "        vertical-align: top;\n",
       "    }\n",
       "\n",
       "    .dataframe thead th {\n",
       "        text-align: right;\n",
       "    }\n",
       "</style>\n",
       "<table border=\"1\" class=\"dataframe\">\n",
       "  <thead>\n",
       "    <tr style=\"text-align: right;\">\n",
       "      <th></th>\n",
       "      <th>Unnamed: 0</th>\n",
       "      <th>lat</th>\n",
       "      <th>lon</th>\n",
       "      <th>Logement</th>\n",
       "      <th>Coût_chauffage</th>\n",
       "      <th>Surface_habitable_logement</th>\n",
       "      <th>Etiquette_DPE</th>\n",
       "      <th>Periode_construction</th>\n",
       "      <th>Coût_total_5_usages</th>\n",
       "    </tr>\n",
       "  </thead>\n",
       "  <tbody>\n",
       "    <tr>\n",
       "      <th>0</th>\n",
       "      <td>0</td>\n",
       "      <td>45.733893</td>\n",
       "      <td>4.856520</td>\n",
       "      <td>neuf</td>\n",
       "      <td>90.2</td>\n",
       "      <td>43.9</td>\n",
       "      <td>C</td>\n",
       "      <td>Après 2010</td>\n",
       "      <td>623.2</td>\n",
       "    </tr>\n",
       "    <tr>\n",
       "      <th>1</th>\n",
       "      <td>1</td>\n",
       "      <td>45.733893</td>\n",
       "      <td>4.856520</td>\n",
       "      <td>neuf</td>\n",
       "      <td>77.9</td>\n",
       "      <td>43.9</td>\n",
       "      <td>C</td>\n",
       "      <td>Après 2010</td>\n",
       "      <td>610.9</td>\n",
       "    </tr>\n",
       "    <tr>\n",
       "      <th>2</th>\n",
       "      <td>2</td>\n",
       "      <td>45.733893</td>\n",
       "      <td>4.856520</td>\n",
       "      <td>neuf</td>\n",
       "      <td>167.6</td>\n",
       "      <td>48.2</td>\n",
       "      <td>C</td>\n",
       "      <td>Après 2010</td>\n",
       "      <td>728.8</td>\n",
       "    </tr>\n",
       "    <tr>\n",
       "      <th>3</th>\n",
       "      <td>3</td>\n",
       "      <td>45.733893</td>\n",
       "      <td>4.856520</td>\n",
       "      <td>neuf</td>\n",
       "      <td>100.8</td>\n",
       "      <td>44.0</td>\n",
       "      <td>C</td>\n",
       "      <td>Après 2010</td>\n",
       "      <td>634.6</td>\n",
       "    </tr>\n",
       "    <tr>\n",
       "      <th>4</th>\n",
       "      <td>48</td>\n",
       "      <td>45.734678</td>\n",
       "      <td>4.858737</td>\n",
       "      <td>neuf</td>\n",
       "      <td>189.5</td>\n",
       "      <td>42.0</td>\n",
       "      <td>C</td>\n",
       "      <td>Après 2010</td>\n",
       "      <td>374.6</td>\n",
       "    </tr>\n",
       "  </tbody>\n",
       "</table>\n",
       "</div>"
      ],
      "text/plain": [
       "   Unnamed: 0        lat       lon Logement  Coût_chauffage  \\\n",
       "0           0  45.733893  4.856520     neuf            90.2   \n",
       "1           1  45.733893  4.856520     neuf            77.9   \n",
       "2           2  45.733893  4.856520     neuf           167.6   \n",
       "3           3  45.733893  4.856520     neuf           100.8   \n",
       "4          48  45.734678  4.858737     neuf           189.5   \n",
       "\n",
       "   Surface_habitable_logement Etiquette_DPE Periode_construction  \\\n",
       "0                        43.9             C           Après 2010   \n",
       "1                        43.9             C           Après 2010   \n",
       "2                        48.2             C           Après 2010   \n",
       "3                        44.0             C           Après 2010   \n",
       "4                        42.0             C           Après 2010   \n",
       "\n",
       "   Coût_total_5_usages  \n",
       "0                623.2  \n",
       "1                610.9  \n",
       "2                728.8  \n",
       "3                634.6  \n",
       "4                374.6  "
      ]
     },
     "execution_count": 7,
     "metadata": {},
     "output_type": "execute_result"
    }
   ],
   "source": [
    "df_reshaped.head()"
   ]
  },
  {
   "cell_type": "code",
   "execution_count": 11,
   "metadata": {},
   "outputs": [
    {
     "data": {
      "text/plain": [
       "array(['Après 2010', '2001 - 2010', 'Avant 1960', '1981 - 1990',\n",
       "       '1991 - 2000', '1961 - 1970'], dtype=object)"
      ]
     },
     "execution_count": 11,
     "metadata": {},
     "output_type": "execute_result"
    }
   ],
   "source": [
    "df_reshaped.Periode_construction.unique()\n"
   ]
  },
  {
   "cell_type": "code",
   "execution_count": 12,
   "metadata": {},
   "outputs": [
    {
     "name": "stdout",
     "output_type": "stream",
     "text": [
      "['Après 2010', '2001 - 2010', 'Avant 1960', '1981 - 1990', '1991 - 2000', '1961 - 1970']\n"
     ]
    }
   ],
   "source": [
    "# Exemple d'une liste de périodes\n",
    "periods = df_reshaped.Periode_construction.unique()\n",
    "\n",
    "# Créez un dictionnaire d'ordre souhaité pour trier les périodes\n",
    "order_dict = {\n",
    "    \"avant 1900\": 0,\n",
    "    \"1900-1950\": 1,\n",
    "    \"1950-2000\": 2,\n",
    "    \"2000-2020\": 3,\n",
    "    \"après 2020\": 4\n",
    "}\n",
    "\n",
    "# Trie la liste selon l'ordre défini dans le dictionnaire\n",
    "ordered_periods = sorted(periods, key=lambda x: order_dict.get(x, float('inf')))\n",
    "print(ordered_periods)\n"
   ]
  }
 ],
 "metadata": {
  "kernelspec": {
   "display_name": "performanceEnergetique",
   "language": "python",
   "name": "python3"
  },
  "language_info": {
   "codemirror_mode": {
    "name": "ipython",
    "version": 3
   },
   "file_extension": ".py",
   "mimetype": "text/x-python",
   "name": "python",
   "nbconvert_exporter": "python",
   "pygments_lexer": "ipython3",
   "version": "3.12.7"
  }
 },
 "nbformat": 4,
 "nbformat_minor": 2
}
